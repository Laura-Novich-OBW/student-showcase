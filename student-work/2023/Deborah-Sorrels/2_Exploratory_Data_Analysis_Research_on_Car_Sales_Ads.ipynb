{
  "cells": [
    {
      "cell_type": "markdown",
      "metadata": {
        "id": "386Z3GCHvwBj"
      },
      "source": [
        "# Research on car sales ads\n",
        "\n",
        "You're an analyst at Crankshaft List. Hundreds of free advertisements for vehicles are published on your site every day.\n",
        "\n",
        "You need to study data collected over the last few years and determine which factors influence the price of a vehicle."
      ]
    },
    {
      "cell_type": "markdown",
      "source": [
        "## Table of Contents  \n",
        "\n",
        "Step 1. Open the data file and study the general information.  \n",
        "Step 2. Data Preprocessing  \n",
        "Step 3. Make calculations and add them to the table   \n",
        "Step 4. Carry out eploratroy data analysis   \n",
        "Step 5. Overal Conclusion\n",
        "\n"
      ],
      "metadata": {
        "id": "yFeo7QM_v7No"
      }
    },
    {
      "cell_type": "markdown",
      "metadata": {
        "id": "lLPo9nysvwBo"
      },
      "source": [
        "### Step 1. Open the data file and study the general information."
      ]
    },
    {
      "cell_type": "code",
      "execution_count": null,
      "metadata": {
        "id": "O4TYHZiNvwBt"
      },
      "outputs": [],
      "source": [
        "import pandas as pd\n",
        "vehicles = pd.read_csv('/datasets/vehicles_us.csv')"
      ]
    },
    {
      "cell_type": "code",
      "execution_count": null,
      "metadata": {
        "id": "RRXR9PBMvwCv",
        "outputId": "a99729fc-0009-437d-f6e1-d08a1e26f21c"
      },
      "outputs": [
        {
          "name": "stdout",
          "output_type": "stream",
          "text": [
            "<class 'pandas.core.frame.DataFrame'>\n",
            "RangeIndex: 51525 entries, 0 to 51524\n",
            "Data columns (total 13 columns):\n",
            "price           51525 non-null int64\n",
            "model_year      47906 non-null float64\n",
            "model           51525 non-null object\n",
            "condition       51525 non-null object\n",
            "cylinders       46265 non-null float64\n",
            "fuel            51525 non-null object\n",
            "odometer        43633 non-null float64\n",
            "transmission    51525 non-null object\n",
            "type            51525 non-null object\n",
            "paint_color     42258 non-null object\n",
            "is_4wd          25572 non-null float64\n",
            "date_posted     51525 non-null object\n",
            "days_listed     51525 non-null int64\n",
            "dtypes: float64(4), int64(2), object(7)\n",
            "memory usage: 5.1+ MB\n"
          ]
        }
      ],
      "source": [
        "vehicles.info()"
      ]
    },
    {
      "cell_type": "code",
      "execution_count": null,
      "metadata": {
        "id": "W9u6odaYvwC1",
        "outputId": "7a050dd4-2d5c-4b59-c8ee-01cea2f24841"
      },
      "outputs": [
        {
          "name": "stdout",
          "output_type": "stream",
          "text": [
            "1         798\n",
            "6995      719\n",
            "5995      655\n",
            "4995      624\n",
            "3500      620\n",
            "         ... \n",
            "49988       1\n",
            "36600       1\n",
            "300000      1\n",
            "39873       1\n",
            "11762       1\n",
            "Name: price, Length: 3443, dtype: int64\n",
            "2013.0    3549\n",
            "2012.0    3468\n",
            "2014.0    3448\n",
            "2011.0    3375\n",
            "2015.0    3323\n",
            "          ... \n",
            "1954.0       1\n",
            "1949.0       1\n",
            "1948.0       1\n",
            "1936.0       1\n",
            "1929.0       1\n",
            "Name: model_year, Length: 68, dtype: int64\n",
            "ford f-150                           2796\n",
            "chevrolet silverado 1500             2171\n",
            "ram 1500                             1750\n",
            "chevrolet silverado                  1271\n",
            "jeep wrangler                        1119\n",
            "                                     ... \n",
            "ford f-250 super duty                 241\n",
            "kia sorento                           236\n",
            "acura tl                              236\n",
            "nissan murano                         235\n",
            "mercedes-benz benze sprinter 2500      41\n",
            "Name: model, Length: 100, dtype: int64\n",
            "excellent    24773\n",
            "good         20145\n",
            "like new      4742\n",
            "fair          1607\n",
            "new            143\n",
            "salvage        115\n",
            "Name: condition, dtype: int64\n",
            "8.0     15844\n",
            "6.0     15700\n",
            "4.0     13864\n",
            "10.0      549\n",
            "5.0       272\n",
            "3.0        34\n",
            "12.0        2\n",
            "Name: cylinders, dtype: int64\n",
            "gas         47288\n",
            "diesel       3714\n",
            "hybrid        409\n",
            "other         108\n",
            "electric        6\n",
            "Name: fuel, dtype: int64\n",
            "0.0         185\n",
            "140000.0    183\n",
            "120000.0    179\n",
            "130000.0    178\n",
            "160000.0    167\n",
            "           ... \n",
            "51595.0       1\n",
            "111381.0      1\n",
            "155940.0      1\n",
            "43402.0       1\n",
            "74063.0       1\n",
            "Name: odometer, Length: 17762, dtype: int64\n",
            "gas         47288\n",
            "diesel       3714\n",
            "hybrid        409\n",
            "other         108\n",
            "electric        6\n",
            "Name: fuel, dtype: int64\n",
            "SUV            12405\n",
            "truck          12353\n",
            "sedan          12154\n",
            "pickup          6988\n",
            "coupe           2303\n",
            "wagon           1541\n",
            "mini-van        1161\n",
            "hatchback       1047\n",
            "van              633\n",
            "convertible      446\n",
            "other            256\n",
            "offroad          214\n",
            "bus               24\n",
            "Name: type, dtype: int64\n",
            "white     10029\n",
            "black      7692\n",
            "silver     6244\n",
            "grey       5037\n",
            "blue       4475\n",
            "red        4421\n",
            "green      1396\n",
            "brown      1223\n",
            "custom     1153\n",
            "yellow      255\n",
            "orange      231\n",
            "purple      102\n",
            "Name: paint_color, dtype: int64\n",
            "1.0    25572\n",
            "Name: is_4wd, dtype: int64\n",
            "2019-03-17    186\n",
            "2019-01-05    184\n",
            "2018-09-20    178\n",
            "2019-03-11    176\n",
            "2018-10-09    174\n",
            "             ... \n",
            "2018-06-18    119\n",
            "2018-07-04    118\n",
            "2019-01-11    117\n",
            "2018-06-08    117\n",
            "2019-01-04    116\n",
            "Name: date_posted, Length: 354, dtype: int64\n",
            "18     959\n",
            "24     950\n",
            "22     945\n",
            "19     941\n",
            "20     934\n",
            "      ... \n",
            "263      1\n",
            "182      1\n",
            "261      1\n",
            "217      1\n",
            "223      1\n",
            "Name: days_listed, Length: 227, dtype: int64\n"
          ]
        }
      ],
      "source": [
        "print(vehicles['price'].value_counts())\n",
        "print(vehicles['model_year'].value_counts())\n",
        "print(vehicles['model'].value_counts())\n",
        "print(vehicles['condition'].value_counts())\n",
        "print(vehicles['cylinders'].value_counts())\n",
        "print(vehicles['fuel'].value_counts())\n",
        "print(vehicles['odometer'].value_counts())\n",
        "print(vehicles['fuel'].value_counts())\n",
        "print(vehicles['type'].value_counts())\n",
        "print(vehicles['paint_color'].value_counts())\n",
        "print(vehicles['is_4wd'].value_counts())\n",
        "print(vehicles['date_posted'].value_counts())\n",
        "print(vehicles['days_listed'].value_counts())"
      ]
    },
    {
      "cell_type": "code",
      "execution_count": null,
      "metadata": {
        "id": "EmSRuJ98vwC4",
        "outputId": "b6ea209a-75fe-4aad-931a-10900f5b6f12"
      },
      "outputs": [
        {
          "data": {
            "text/html": [
              "<div>\n",
              "<style scoped>\n",
              "    .dataframe tbody tr th:only-of-type {\n",
              "        vertical-align: middle;\n",
              "    }\n",
              "\n",
              "    .dataframe tbody tr th {\n",
              "        vertical-align: top;\n",
              "    }\n",
              "\n",
              "    .dataframe thead th {\n",
              "        text-align: right;\n",
              "    }\n",
              "</style>\n",
              "<table border=\"1\" class=\"dataframe\">\n",
              "  <thead>\n",
              "    <tr style=\"text-align: right;\">\n",
              "      <th></th>\n",
              "      <th>price</th>\n",
              "      <th>model_year</th>\n",
              "      <th>model</th>\n",
              "      <th>condition</th>\n",
              "      <th>cylinders</th>\n",
              "      <th>fuel</th>\n",
              "      <th>odometer</th>\n",
              "      <th>transmission</th>\n",
              "      <th>type</th>\n",
              "      <th>paint_color</th>\n",
              "      <th>is_4wd</th>\n",
              "      <th>date_posted</th>\n",
              "      <th>days_listed</th>\n",
              "    </tr>\n",
              "  </thead>\n",
              "  <tbody>\n",
              "    <tr>\n",
              "      <td>0</td>\n",
              "      <td>9400</td>\n",
              "      <td>2011.0</td>\n",
              "      <td>bmw x5</td>\n",
              "      <td>good</td>\n",
              "      <td>6.0</td>\n",
              "      <td>gas</td>\n",
              "      <td>145000.0</td>\n",
              "      <td>automatic</td>\n",
              "      <td>SUV</td>\n",
              "      <td>NaN</td>\n",
              "      <td>1.0</td>\n",
              "      <td>2018-06-23</td>\n",
              "      <td>19</td>\n",
              "    </tr>\n",
              "    <tr>\n",
              "      <td>1</td>\n",
              "      <td>25500</td>\n",
              "      <td>NaN</td>\n",
              "      <td>ford f-150</td>\n",
              "      <td>good</td>\n",
              "      <td>6.0</td>\n",
              "      <td>gas</td>\n",
              "      <td>88705.0</td>\n",
              "      <td>automatic</td>\n",
              "      <td>pickup</td>\n",
              "      <td>white</td>\n",
              "      <td>1.0</td>\n",
              "      <td>2018-10-19</td>\n",
              "      <td>50</td>\n",
              "    </tr>\n",
              "    <tr>\n",
              "      <td>2</td>\n",
              "      <td>5500</td>\n",
              "      <td>2013.0</td>\n",
              "      <td>hyundai sonata</td>\n",
              "      <td>like new</td>\n",
              "      <td>4.0</td>\n",
              "      <td>gas</td>\n",
              "      <td>110000.0</td>\n",
              "      <td>automatic</td>\n",
              "      <td>sedan</td>\n",
              "      <td>red</td>\n",
              "      <td>NaN</td>\n",
              "      <td>2019-02-07</td>\n",
              "      <td>79</td>\n",
              "    </tr>\n",
              "    <tr>\n",
              "      <td>3</td>\n",
              "      <td>1500</td>\n",
              "      <td>2003.0</td>\n",
              "      <td>ford f-150</td>\n",
              "      <td>fair</td>\n",
              "      <td>8.0</td>\n",
              "      <td>gas</td>\n",
              "      <td>NaN</td>\n",
              "      <td>automatic</td>\n",
              "      <td>pickup</td>\n",
              "      <td>NaN</td>\n",
              "      <td>NaN</td>\n",
              "      <td>2019-03-22</td>\n",
              "      <td>9</td>\n",
              "    </tr>\n",
              "    <tr>\n",
              "      <td>4</td>\n",
              "      <td>14900</td>\n",
              "      <td>2017.0</td>\n",
              "      <td>chrysler 200</td>\n",
              "      <td>excellent</td>\n",
              "      <td>4.0</td>\n",
              "      <td>gas</td>\n",
              "      <td>80903.0</td>\n",
              "      <td>automatic</td>\n",
              "      <td>sedan</td>\n",
              "      <td>black</td>\n",
              "      <td>NaN</td>\n",
              "      <td>2019-04-02</td>\n",
              "      <td>28</td>\n",
              "    </tr>\n",
              "  </tbody>\n",
              "</table>\n",
              "</div>"
            ],
            "text/plain": [
              "   price  model_year           model  condition  cylinders fuel  odometer  \\\n",
              "0   9400      2011.0          bmw x5       good        6.0  gas  145000.0   \n",
              "1  25500         NaN      ford f-150       good        6.0  gas   88705.0   \n",
              "2   5500      2013.0  hyundai sonata   like new        4.0  gas  110000.0   \n",
              "3   1500      2003.0      ford f-150       fair        8.0  gas       NaN   \n",
              "4  14900      2017.0    chrysler 200  excellent        4.0  gas   80903.0   \n",
              "\n",
              "  transmission    type paint_color  is_4wd date_posted  days_listed  \n",
              "0    automatic     SUV         NaN     1.0  2018-06-23           19  \n",
              "1    automatic  pickup       white     1.0  2018-10-19           50  \n",
              "2    automatic   sedan         red     NaN  2019-02-07           79  \n",
              "3    automatic  pickup         NaN     NaN  2019-03-22            9  \n",
              "4    automatic   sedan       black     NaN  2019-04-02           28  "
            ]
          },
          "execution_count": 4,
          "metadata": {},
          "output_type": "execute_result"
        }
      ],
      "source": [
        "vehicles.head()"
      ]
    },
    {
      "cell_type": "code",
      "execution_count": null,
      "metadata": {
        "id": "HTSKh5aivwC6",
        "outputId": "b279e9f1-fbff-45e5-a7e1-bc52967c3d28"
      },
      "outputs": [
        {
          "data": {
            "text/html": [
              "<div>\n",
              "<style scoped>\n",
              "    .dataframe tbody tr th:only-of-type {\n",
              "        vertical-align: middle;\n",
              "    }\n",
              "\n",
              "    .dataframe tbody tr th {\n",
              "        vertical-align: top;\n",
              "    }\n",
              "\n",
              "    .dataframe thead th {\n",
              "        text-align: right;\n",
              "    }\n",
              "</style>\n",
              "<table border=\"1\" class=\"dataframe\">\n",
              "  <thead>\n",
              "    <tr style=\"text-align: right;\">\n",
              "      <th></th>\n",
              "      <th>price</th>\n",
              "      <th>model_year</th>\n",
              "      <th>cylinders</th>\n",
              "      <th>odometer</th>\n",
              "      <th>is_4wd</th>\n",
              "      <th>days_listed</th>\n",
              "    </tr>\n",
              "  </thead>\n",
              "  <tbody>\n",
              "    <tr>\n",
              "      <td>count</td>\n",
              "      <td>51525.000000</td>\n",
              "      <td>47906.000000</td>\n",
              "      <td>46265.000000</td>\n",
              "      <td>43633.000000</td>\n",
              "      <td>25572.0</td>\n",
              "      <td>51525.00000</td>\n",
              "    </tr>\n",
              "    <tr>\n",
              "      <td>mean</td>\n",
              "      <td>12132.464920</td>\n",
              "      <td>2009.750470</td>\n",
              "      <td>6.125235</td>\n",
              "      <td>115553.461738</td>\n",
              "      <td>1.0</td>\n",
              "      <td>39.55476</td>\n",
              "    </tr>\n",
              "    <tr>\n",
              "      <td>std</td>\n",
              "      <td>10040.803015</td>\n",
              "      <td>6.282065</td>\n",
              "      <td>1.660360</td>\n",
              "      <td>65094.611341</td>\n",
              "      <td>0.0</td>\n",
              "      <td>28.20427</td>\n",
              "    </tr>\n",
              "    <tr>\n",
              "      <td>min</td>\n",
              "      <td>1.000000</td>\n",
              "      <td>1908.000000</td>\n",
              "      <td>3.000000</td>\n",
              "      <td>0.000000</td>\n",
              "      <td>1.0</td>\n",
              "      <td>0.00000</td>\n",
              "    </tr>\n",
              "    <tr>\n",
              "      <td>25%</td>\n",
              "      <td>5000.000000</td>\n",
              "      <td>2006.000000</td>\n",
              "      <td>4.000000</td>\n",
              "      <td>70000.000000</td>\n",
              "      <td>1.0</td>\n",
              "      <td>19.00000</td>\n",
              "    </tr>\n",
              "    <tr>\n",
              "      <td>50%</td>\n",
              "      <td>9000.000000</td>\n",
              "      <td>2011.000000</td>\n",
              "      <td>6.000000</td>\n",
              "      <td>113000.000000</td>\n",
              "      <td>1.0</td>\n",
              "      <td>33.00000</td>\n",
              "    </tr>\n",
              "    <tr>\n",
              "      <td>75%</td>\n",
              "      <td>16839.000000</td>\n",
              "      <td>2014.000000</td>\n",
              "      <td>8.000000</td>\n",
              "      <td>155000.000000</td>\n",
              "      <td>1.0</td>\n",
              "      <td>53.00000</td>\n",
              "    </tr>\n",
              "    <tr>\n",
              "      <td>max</td>\n",
              "      <td>375000.000000</td>\n",
              "      <td>2019.000000</td>\n",
              "      <td>12.000000</td>\n",
              "      <td>990000.000000</td>\n",
              "      <td>1.0</td>\n",
              "      <td>271.00000</td>\n",
              "    </tr>\n",
              "  </tbody>\n",
              "</table>\n",
              "</div>"
            ],
            "text/plain": [
              "               price    model_year     cylinders       odometer   is_4wd  \\\n",
              "count   51525.000000  47906.000000  46265.000000   43633.000000  25572.0   \n",
              "mean    12132.464920   2009.750470      6.125235  115553.461738      1.0   \n",
              "std     10040.803015      6.282065      1.660360   65094.611341      0.0   \n",
              "min         1.000000   1908.000000      3.000000       0.000000      1.0   \n",
              "25%      5000.000000   2006.000000      4.000000   70000.000000      1.0   \n",
              "50%      9000.000000   2011.000000      6.000000  113000.000000      1.0   \n",
              "75%     16839.000000   2014.000000      8.000000  155000.000000      1.0   \n",
              "max    375000.000000   2019.000000     12.000000  990000.000000      1.0   \n",
              "\n",
              "       days_listed  \n",
              "count  51525.00000  \n",
              "mean      39.55476  \n",
              "std       28.20427  \n",
              "min        0.00000  \n",
              "25%       19.00000  \n",
              "50%       33.00000  \n",
              "75%       53.00000  \n",
              "max      271.00000  "
            ]
          },
          "execution_count": 5,
          "metadata": {},
          "output_type": "execute_result"
        }
      ],
      "source": [
        "vehicles.describe()"
      ]
    },
    {
      "cell_type": "markdown",
      "metadata": {
        "id": "b91tJ-AWvwC_"
      },
      "source": [
        "### Conclusion\n",
        "\n",
        "Missing data:\n",
        "\n",
        "* The column with the most missing data is the is-4wd column. From what I see, the missing data represents vehicles that are not 4wd. Once filled in with 0 to represent vehicles that are not 4wd, the columns were completely filled in and left with no NaNs or blanks (see below).  \n",
        "*  Model-year, cylinders, odometer and paint-color were the other four columns with missing data. I suspect that they were left blank due to human error. Model-year, cylinders and paint-color are impossible to fill in without more data. However, I opted to fill in the NaN rows in the odometer column with the average odometer reading for the entire set (see below).\n"
      ]
    },
    {
      "cell_type": "markdown",
      "metadata": {
        "id": "MdLeRyHvvwDC"
      },
      "source": [
        "### Step 2. Data preprocessing"
      ]
    },
    {
      "cell_type": "code",
      "execution_count": null,
      "metadata": {
        "id": "_L743lh1vwDD",
        "outputId": "5d2ba9fa-961f-4589-bcf9-39eb9ef5ca9e"
      },
      "outputs": [
        {
          "name": "stdout",
          "output_type": "stream",
          "text": [
            "   price  model_year           model  condition  cylinders fuel  odometer  \\\n",
            "0   9400      2011.0          bmw x5       good        6.0  gas  145000.0   \n",
            "1  25500         NaN      ford f-150       good        6.0  gas   88705.0   \n",
            "2   5500      2013.0  hyundai sonata   like new        4.0  gas  110000.0   \n",
            "3   1500      2003.0      ford f-150       fair        8.0  gas       NaN   \n",
            "4  14900      2017.0    chrysler 200  excellent        4.0  gas   80903.0   \n",
            "5  14990      2014.0    chrysler 300  excellent        6.0  gas   57954.0   \n",
            "6  12990      2015.0    toyota camry  excellent        4.0  gas   79212.0   \n",
            "7  15990      2013.0     honda pilot  excellent        6.0  gas  109473.0   \n",
            "8  11500      2012.0     kia sorento  excellent        4.0  gas  104174.0   \n",
            "9   9200      2008.0     honda pilot  excellent        NaN  gas  147191.0   \n",
            "\n",
            "  transmission    type paint_color  is_4wd date_posted  days_listed  \n",
            "0    automatic     SUV                   1  2018-06-23           19  \n",
            "1    automatic  pickup       white       1  2018-10-19           50  \n",
            "2    automatic   sedan         red       0  2019-02-07           79  \n",
            "3    automatic  pickup                   0  2019-03-22            9  \n",
            "4    automatic   sedan       black       0  2019-04-02           28  \n",
            "5    automatic   sedan       black       1  2018-06-20           15  \n",
            "6    automatic   sedan       white       0  2018-12-27           73  \n",
            "7    automatic     SUV       black       1  2019-01-07           68  \n",
            "8    automatic     SUV                   1  2018-07-16           19  \n",
            "9    automatic     SUV        blue       1  2019-02-15           17  \n"
          ]
        }
      ],
      "source": [
        "vehicles['paint_color'] = vehicles['paint_color'].fillna(value='')\n",
        "\n",
        "vehicles['is_4wd'] = vehicles['is_4wd'].fillna(value='0')\n",
        "vehicles['is_4wd'] = vehicles['is_4wd'].astype('int')\n",
        "print(vehicles.head(10))"
      ]
    },
    {
      "cell_type": "markdown",
      "metadata": {
        "id": "WnXwQfoOvwDE"
      },
      "source": [
        "### Conclusion  \n",
        "* Using .info(), I found that five columns were missing data.  I decided to start with the two easiest columns to change: is_4wd and paint_color.  \n",
        "\n",
        "* I changed is_4wd empty values to 0 (or no) as the vehicles with 1 seem to be vehicles that are generally 4wd, and those that had been left empty seemed to be non 4wd types of vehicles.  I then converted the numbers in the column to int64 so I could perform calculations on them later.  \n",
        "\n",
        "* I also decided to use fillna to fill in missing data from the paint_color column with blanks ('').\n",
        ""
      ]
    },
    {
      "cell_type": "code",
      "execution_count": null,
      "metadata": {
        "id": "AldvWBDSvwDH",
        "outputId": "25c3a122-98cc-4484-cc03-a8674bfe05f6"
      },
      "outputs": [
        {
          "name": "stdout",
          "output_type": "stream",
          "text": [
            "<class 'pandas.core.frame.DataFrame'>\n",
            "Int64Index: 43009 entries, 0 to 51524\n",
            "Data columns (total 13 columns):\n",
            "price           43009 non-null int64\n",
            "model_year      43009 non-null int64\n",
            "model           43009 non-null object\n",
            "condition       43009 non-null object\n",
            "cylinders       43009 non-null int64\n",
            "fuel            43009 non-null object\n",
            "odometer        36419 non-null float64\n",
            "transmission    43009 non-null object\n",
            "type            43009 non-null object\n",
            "paint_color     43009 non-null object\n",
            "is_4wd          43009 non-null int64\n",
            "date_posted     43009 non-null object\n",
            "days_listed     43009 non-null int64\n",
            "dtypes: float64(1), int64(5), object(7)\n",
            "memory usage: 4.6+ MB\n",
            "None\n"
          ]
        }
      ],
      "source": [
        "#vehicles['model_year'] = vehicles['model_year'].fillna(value='0')\n",
        "#vehicles['cylinders'] = vehicles['cylinders'].fillna(value='0')\n",
        "\n",
        "vehicles.dropna(subset = ['model_year','cylinders'], inplace = True)\n",
        "\n",
        "vehicles['model_year'] = vehicles['model_year'].astype('int')\n",
        "vehicles['cylinders'] = vehicles['cylinders'].astype('int')\n",
        "#print(vehicles.head(10))\n",
        "print(vehicles.info())"
      ]
    },
    {
      "cell_type": "markdown",
      "metadata": {
        "id": "fSlRBp3PvwDJ"
      },
      "source": [
        "### Conclusion  \n",
        "* I then decided to work on the columns, model_year, and cylinders. I wasn't quite sure what to do here. I considered\n",
        "converting the empty columns to 0 but opted not to as model years and cylinders cannot equal 0.\n",
        "I also worried that the 0's would impact any subsequent calculations negatively.\n",
        "\n",
        "* Initially, I decided to delete the rows as they represented a small fraction of the total rows.  Later, however, instead of deleting the rows with NaN, I changed the NaNs to blanks, so that I could keep the additional rows for future calculations.  \n",
        "\n",
        "* Then, I converted the remaining rows to int64 in order to be able to perform calculation on them more easily later.\n",
        "\n",
        "\n"
      ]
    },
    {
      "cell_type": "code",
      "execution_count": null,
      "metadata": {
        "id": "z9F54h4IvwDM",
        "outputId": "9c4eb587-3935-4e25-8202-aa19e4f6645a"
      },
      "outputs": [
        {
          "name": "stdout",
          "output_type": "stream",
          "text": [
            "    price  model_year                     model  condition  cylinders fuel  \\\n",
            "0    9400        2011                    bmw x5       good          6  gas   \n",
            "2    5500        2013            hyundai sonata   like new          4  gas   \n",
            "3    1500        2003                ford f-150       fair          8  gas   \n",
            "4   14900        2017              chrysler 200  excellent          4  gas   \n",
            "5   14990        2014              chrysler 300  excellent          6  gas   \n",
            "6   12990        2015              toyota camry  excellent          4  gas   \n",
            "7   15990        2013               honda pilot  excellent          6  gas   \n",
            "8   11500        2012               kia sorento  excellent          4  gas   \n",
            "10  19500        2011  chevrolet silverado 1500  excellent          8  gas   \n",
            "11   8990        2012              honda accord  excellent          4  gas   \n",
            "\n",
            "    odometer transmission    type paint_color  is_4wd date_posted  days_listed  \n",
            "0     145000    automatic     SUV                   1  2018-06-23           19  \n",
            "2     110000    automatic   sedan         red       0  2019-02-07           79  \n",
            "3     115323    automatic  pickup                   0  2019-03-22            9  \n",
            "4      80903    automatic   sedan       black       0  2019-04-02           28  \n",
            "5      57954    automatic   sedan       black       1  2018-06-20           15  \n",
            "6      79212    automatic   sedan       white       0  2018-12-27           73  \n",
            "7     109473    automatic     SUV       black       1  2019-01-07           68  \n",
            "8     104174    automatic     SUV                   1  2018-07-16           19  \n",
            "10    128413    automatic  pickup       black       1  2018-09-17           38  \n",
            "11    111142    automatic   sedan        grey       0  2019-03-28           29  \n"
          ]
        }
      ],
      "source": [
        "\n",
        "#avg_odometer = vehicles.loc[vehicles['odometer']== 'NaN', 'odoemter']\n",
        "\n",
        "#odometer_by_model_year = vehicles.groupby('model_year')['odometer'].mean()\n",
        "\n",
        "#for this_year in odometer_by_model_year.index:\n",
        "    #vehicles.loc[(vehicles['model_year']== this_year) & (vehicles['odometer'].isnull()) , 'odometer']=odometer_by_model_year[this_year]\n",
        "\n",
        "avg_odometer = vehicles['odometer'].mean()\n",
        "\n",
        "vehicles['odometer'] = vehicles['odometer'].fillna(value=avg_odometer)\n",
        "\n",
        "vehicles['odometer'] = vehicles['odometer'].astype('int')\n",
        "\n",
        "print(vehicles.head(10))\n",
        "\n"
      ]
    },
    {
      "cell_type": "markdown",
      "metadata": {
        "id": "qlPUJdvOvwDO"
      },
      "source": [
        "### Conclusion  \n",
        "* Finally, I decided to tackle the odometer column.\n",
        "I began by filling in the NaN columns with the average (mean) odometer reading of all the columns.\n",
        "I then changed the numbers to int64.\n",
        "\n",
        "* I also considered writing code to get the average odometer reading by year but opted to go with the general overall\n",
        "mean in the end.  "
      ]
    },
    {
      "cell_type": "code",
      "execution_count": null,
      "metadata": {
        "id": "ZVnDwAgDvwDT",
        "outputId": "8c0eccc5-e8b8-4a1b-d8fc-7275713d37ed"
      },
      "outputs": [
        {
          "name": "stdout",
          "output_type": "stream",
          "text": [
            "Duplicate entries in the table: 0\n"
          ]
        }
      ],
      "source": [
        "print('Duplicate entries in the table:', vehicles.duplicated().sum())\n",
        "vehicles = vehicles.drop_duplicates()"
      ]
    },
    {
      "cell_type": "code",
      "execution_count": null,
      "metadata": {
        "id": "DnJjiR2fvwDY",
        "outputId": "8558c610-c9d6-4d96-9108-7019b7212c75"
      },
      "outputs": [
        {
          "data": {
            "text/plain": [
              "array(['bmw x5', 'hyundai sonata', 'ford f-150', 'chrysler 200',\n",
              "       'chrysler 300', 'toyota camry', 'honda pilot', 'kia sorento',\n",
              "       'chevrolet silverado 1500', 'honda accord', 'ram 1500',\n",
              "       'gmc yukon', 'jeep cherokee', 'chevrolet traverse',\n",
              "       'hyundai elantra', 'toyota rav4', 'chevrolet silverado',\n",
              "       'jeep wrangler', 'chevrolet malibu', 'ford fusion se',\n",
              "       'chevrolet impala', 'chevrolet corvette', 'jeep liberty',\n",
              "       'toyota camry le', 'nissan altima', 'subaru outback',\n",
              "       'toyota highlander', 'dodge charger', 'chevrolet equinox',\n",
              "       'nissan rogue', 'mercedes-benz benze sprinter 2500', 'honda cr-v',\n",
              "       'jeep grand cherokee', 'toyota 4runner', 'ford focus',\n",
              "       'honda civic', 'kia soul', 'chevrolet colorado',\n",
              "       'ford f150 supercrew cab xlt', 'chevrolet camaro lt coupe 2d',\n",
              "       'chevrolet cruze', 'chevrolet silverado 3500hd',\n",
              "       'nissan frontier crew cab sv', 'jeep grand cherokee laredo',\n",
              "       'nissan versa', 'ford f-250 sd', 'chevrolet silverado 1500 crew',\n",
              "       'ford f250 super duty', 'chevrolet camaro',\n",
              "       'ford mustang gt coupe 2d', 'subaru forester', 'ford explorer',\n",
              "       'ford f-350 sd', 'ford edge', 'nissan maxima', 'ford f-250',\n",
              "       'nissan sentra', 'ford f150', 'chevrolet suburban',\n",
              "       'ford expedition', 'dodge grand caravan', 'ford taurus',\n",
              "       'acura tl', 'ford ranger', 'gmc sierra', 'ford mustang',\n",
              "       'hyundai santa fe', 'toyota tacoma', 'ford f350 super duty',\n",
              "       'subaru impreza', 'ford escape', 'gmc sierra 2500hd',\n",
              "       'honda civic lx', 'gmc sierra 1500', 'honda odyssey',\n",
              "       'cadillac escalade', 'volkswagen jetta', 'toyota corolla',\n",
              "       'chrysler town & country', 'volkswagen passat', 'toyota prius',\n",
              "       'buick enclave', 'ford fusion', 'ram 3500', 'ram 2500',\n",
              "       'nissan frontier', 'jeep wrangler unlimited',\n",
              "       'ford f-250 super duty', 'chevrolet tahoe', 'gmc acadia',\n",
              "       'toyota sienna', 'chevrolet silverado 2500hd', 'dodge dakota',\n",
              "       'ford f250', 'ford focus se', 'ford f350', 'toyota tundra',\n",
              "       'chevrolet trailblazer', 'ford econoline', 'nissan murano'],\n",
              "      dtype=object)"
            ]
          },
          "execution_count": 10,
          "metadata": {},
          "output_type": "execute_result"
        }
      ],
      "source": [
        "vehicles['model'].unique()"
      ]
    },
    {
      "cell_type": "markdown",
      "metadata": {
        "id": "t3441NnuvwDd"
      },
      "source": [
        "### Step 3. Make calculations and add them to the table  \n",
        "* In this section, I broke down and converted multiple items of data thereby creating new columns that allowed for a more detailed analysis of the data.  \n"
      ]
    },
    {
      "cell_type": "code",
      "execution_count": null,
      "metadata": {
        "id": "Xg8mxwgQvwDe",
        "outputId": "8549c971-72ed-43b2-f5b1-66c41fecb5cc"
      },
      "outputs": [
        {
          "name": "stdout",
          "output_type": "stream",
          "text": [
            "0   2018-06-23\n",
            "2   2019-02-07\n",
            "3   2019-03-22\n",
            "4   2019-04-02\n",
            "5   2018-06-20\n",
            "Name: date_posted, dtype: datetime64[ns]\n"
          ]
        }
      ],
      "source": [
        "#Convert to datetime to make readable for pandas\n",
        "\n",
        "vehicles['date_posted']= pd.to_datetime(vehicles['date_posted'], format='%Y.%m.%d')\n",
        "print(vehicles['date_posted'].head())"
      ]
    },
    {
      "cell_type": "code",
      "execution_count": null,
      "metadata": {
        "id": "bydKZLjVvwDh",
        "outputId": "e628abf8-d11b-44f4-9647-9752716ee777"
      },
      "outputs": [
        {
          "name": "stdout",
          "output_type": "stream",
          "text": [
            "   price  model_year           model  condition  cylinders fuel  odometer  \\\n",
            "0   9400        2011          bmw x5       good          6  gas    145000   \n",
            "2   5500        2013  hyundai sonata   like new          4  gas    110000   \n",
            "3   1500        2003      ford f-150       fair          8  gas    115323   \n",
            "4  14900        2017    chrysler 200  excellent          4  gas     80903   \n",
            "5  14990        2014    chrysler 300  excellent          6  gas     57954   \n",
            "\n",
            "  transmission    type paint_color  is_4wd date_posted  days_listed  weekday  \n",
            "0    automatic     SUV                   1  2018-06-23           19        5  \n",
            "2    automatic   sedan         red       0  2019-02-07           79        3  \n",
            "3    automatic  pickup                   0  2019-03-22            9        4  \n",
            "4    automatic   sedan       black       0  2019-04-02           28        1  \n",
            "5    automatic   sedan       black       1  2018-06-20           15        2  \n"
          ]
        }
      ],
      "source": [
        "#Calculate the weekday that ads were posted\n",
        "\n",
        "vehicles['weekday'] = vehicles['date_posted'].dt.weekday\n",
        "print(vehicles.head())\n"
      ]
    },
    {
      "cell_type": "code",
      "execution_count": null,
      "metadata": {
        "id": "XTsbeU6EvwDl",
        "outputId": "9981939b-4332-422f-f11b-093634a34008"
      },
      "outputs": [
        {
          "name": "stdout",
          "output_type": "stream",
          "text": [
            "   price  model_year           model  condition  cylinders fuel  odometer  \\\n",
            "0   9400        2011          bmw x5       good          6  gas    145000   \n",
            "2   5500        2013  hyundai sonata   like new          4  gas    110000   \n",
            "3   1500        2003      ford f-150       fair          8  gas    115323   \n",
            "4  14900        2017    chrysler 200  excellent          4  gas     80903   \n",
            "5  14990        2014    chrysler 300  excellent          6  gas     57954   \n",
            "\n",
            "  transmission    type paint_color  is_4wd date_posted  days_listed  weekday  \\\n",
            "0    automatic     SUV                   1  2018-06-23           19        5   \n",
            "2    automatic   sedan         red       0  2019-02-07           79        3   \n",
            "3    automatic  pickup                   0  2019-03-22            9        4   \n",
            "4    automatic   sedan       black       0  2019-04-02           28        1   \n",
            "5    automatic   sedan       black       1  2018-06-20           15        2   \n",
            "\n",
            "   year_posted  \n",
            "0         2018  \n",
            "2         2019  \n",
            "3         2019  \n",
            "4         2019  \n",
            "5         2018  \n"
          ]
        }
      ],
      "source": [
        "#Extract year posted in a separtae column\n",
        "\n",
        "vehicles['year_posted'] = pd.DatetimeIndex(vehicles['date_posted']).year\n",
        "print(vehicles.head())"
      ]
    },
    {
      "cell_type": "code",
      "execution_count": null,
      "metadata": {
        "id": "BPMiPF2xvwDn",
        "outputId": "6010395b-8e71-4428-9df1-863da660de1b"
      },
      "outputs": [
        {
          "name": "stdout",
          "output_type": "stream",
          "text": [
            "   price  model_year           model  condition  cylinders fuel  odometer  \\\n",
            "0   9400        2011          bmw x5       good          6  gas    145000   \n",
            "2   5500        2013  hyundai sonata   like new          4  gas    110000   \n",
            "3   1500        2003      ford f-150       fair          8  gas    115323   \n",
            "4  14900        2017    chrysler 200  excellent          4  gas     80903   \n",
            "5  14990        2014    chrysler 300  excellent          6  gas     57954   \n",
            "\n",
            "  transmission    type paint_color  is_4wd date_posted  days_listed  weekday  \\\n",
            "0    automatic     SUV                   1  2018-06-23           19        5   \n",
            "2    automatic   sedan         red       0  2019-02-07           79        3   \n",
            "3    automatic  pickup                   0  2019-03-22            9        4   \n",
            "4    automatic   sedan       black       0  2019-04-02           28        1   \n",
            "5    automatic   sedan       black       1  2018-06-20           15        2   \n",
            "\n",
            "   year_posted  month_posted  \n",
            "0         2018             6  \n",
            "2         2019             2  \n",
            "3         2019             3  \n",
            "4         2019             4  \n",
            "5         2018             6  \n"
          ]
        }
      ],
      "source": [
        "#Extract month posted in a separate column\n",
        "\n",
        "vehicles['month_posted'] = pd.DatetimeIndex(vehicles['date_posted']).month\n",
        "print(vehicles.head())"
      ]
    },
    {
      "cell_type": "code",
      "execution_count": null,
      "metadata": {
        "id": "oo0Xjt8fvwDo",
        "outputId": "fca5ac91-4602-4b7f-a151-14bb16bffada"
      },
      "outputs": [
        {
          "name": "stdout",
          "output_type": "stream",
          "text": [
            "   price  model_year           model  condition  cylinders fuel  odometer  \\\n",
            "0   9400        2011          bmw x5       good          6  gas    145000   \n",
            "2   5500        2013  hyundai sonata   like new          4  gas    110000   \n",
            "3   1500        2003      ford f-150       fair          8  gas    115323   \n",
            "4  14900        2017    chrysler 200  excellent          4  gas     80903   \n",
            "5  14990        2014    chrysler 300  excellent          6  gas     57954   \n",
            "\n",
            "  transmission    type paint_color  is_4wd date_posted  days_listed  weekday  \\\n",
            "0    automatic     SUV                   1  2018-06-23           19        5   \n",
            "2    automatic   sedan         red       0  2019-02-07           79        3   \n",
            "3    automatic  pickup                   0  2019-03-22            9        4   \n",
            "4    automatic   sedan       black       0  2019-04-02           28        1   \n",
            "5    automatic   sedan       black       1  2018-06-20           15        2   \n",
            "\n",
            "   year_posted  month_posted  sell_age  float_sell_age  \n",
            "0         2018             6         7             7.0  \n",
            "2         2019             2         6             6.0  \n",
            "3         2019             3        16            16.0  \n",
            "4         2019             4         2             2.0  \n",
            "5         2018             6         4             4.0  \n"
          ]
        }
      ],
      "source": [
        "#Calculate vehicles age when ad was placed\n",
        "\n",
        "for element in vehicles:\n",
        "    vehicles['sell_age'] = vehicles['year_posted'] - vehicles['model_year']\n",
        "\n",
        "vehicles['float_sell_age'] = vehicles['sell_age'].astype('float')\n",
        "vehicles.loc[vehicles['sell_age'] == 0, 'float_sell_age'] = 0.5\n",
        "\n",
        "print(vehicles.head())\n"
      ]
    },
    {
      "cell_type": "code",
      "execution_count": null,
      "metadata": {
        "id": "O4Yy8p2yvwDq",
        "outputId": "f8d36b3c-c7cf-4788-f62b-c79ec238f5c0"
      },
      "outputs": [
        {
          "name": "stdout",
          "output_type": "stream",
          "text": [
            "   price  model_year           model  condition  cylinders fuel  odometer  \\\n",
            "0   9400        2011          bmw x5       good          6  gas    145000   \n",
            "2   5500        2013  hyundai sonata   like new          4  gas    110000   \n",
            "3   1500        2003      ford f-150       fair          8  gas    115323   \n",
            "4  14900        2017    chrysler 200  excellent          4  gas     80903   \n",
            "5  14990        2014    chrysler 300  excellent          6  gas     57954   \n",
            "\n",
            "  transmission    type paint_color  is_4wd date_posted  days_listed  weekday  \\\n",
            "0    automatic     SUV                   1  2018-06-23           19        5   \n",
            "2    automatic   sedan         red       0  2019-02-07           79        3   \n",
            "3    automatic  pickup                   0  2019-03-22            9        4   \n",
            "4    automatic   sedan       black       0  2019-04-02           28        1   \n",
            "5    automatic   sedan       black       1  2018-06-20           15        2   \n",
            "\n",
            "   year_posted  month_posted  sell_age  float_sell_age  avg_mileage  \n",
            "0         2018             6         7             7.0        20714  \n",
            "2         2019             2         6             6.0        18333  \n",
            "3         2019             3        16            16.0         7207  \n",
            "4         2019             4         2             2.0        40451  \n",
            "5         2018             6         4             4.0        14488  \n"
          ]
        }
      ],
      "source": [
        "#Calculate average mileage per year\n",
        "\n",
        "for element in vehicles:\n",
        "    vehicles['avg_mileage'] = vehicles['odometer'] / (vehicles['float_sell_age'])\n",
        "\n",
        "vehicles['avg_mileage'] = vehicles['avg_mileage'].astype('int')\n",
        "#print(vehicles.info())\n",
        "print(vehicles.head())\n",
        "#print(vehicles[vehicles['sell_age'] == 0])\n",
        "#vehicles.iloc[vehicles['sell_age'] == 0, 'sell_age'] = 0.5\n"
      ]
    },
    {
      "cell_type": "code",
      "execution_count": null,
      "metadata": {
        "id": "gRqRK5TTvwDv",
        "outputId": "cb887472-571d-419d-ecc6-254e1c02b254"
      },
      "outputs": [
        {
          "name": "stdout",
          "output_type": "stream",
          "text": [
            "   price  model_year           model  condition  cylinders fuel  odometer  \\\n",
            "0   9400        2011          bmw x5          2          6  gas    145000   \n",
            "2   5500        2013  hyundai sonata          4          4  gas    110000   \n",
            "3   1500        2003      ford f-150          1          8  gas    115323   \n",
            "4  14900        2017    chrysler 200          3          4  gas     80903   \n",
            "5  14990        2014    chrysler 300          3          6  gas     57954   \n",
            "\n",
            "  transmission    type paint_color  is_4wd date_posted  days_listed  weekday  \\\n",
            "0    automatic     SUV                   1  2018-06-23           19        5   \n",
            "2    automatic   sedan         red       0  2019-02-07           79        3   \n",
            "3    automatic  pickup                   0  2019-03-22            9        4   \n",
            "4    automatic   sedan       black       0  2019-04-02           28        1   \n",
            "5    automatic   sedan       black       1  2018-06-20           15        2   \n",
            "\n",
            "   year_posted  month_posted  sell_age  float_sell_age  avg_mileage  \n",
            "0         2018             6         7             7.0        20714  \n",
            "2         2019             2         6             6.0        18333  \n",
            "3         2019             3        16            16.0         7207  \n",
            "4         2019             4         2             2.0        40451  \n",
            "5         2018             6         4             4.0        14488  \n"
          ]
        }
      ],
      "source": [
        "vehicles[\"condition\"]= vehicles[\"condition\"].replace(\"new\", 5)\n",
        "vehicles[\"condition\"]= vehicles[\"condition\"].replace(\"like new\", 4)\n",
        "vehicles[\"condition\"]= vehicles[\"condition\"].replace(\"excellent\", 3)\n",
        "vehicles[\"condition\"]= vehicles[\"condition\"].replace(\"good\", 2)\n",
        "vehicles[\"condition\"]= vehicles[\"condition\"].replace(\"fair\", 1)\n",
        "vehicles[\"condition\"]= vehicles[\"condition\"].replace(\"salvage\", 0)\n",
        "\n",
        "##numerical_condition = {'new' : 5, 'like new' : 4, 'excellent' : 3, 'good' : 2, 'fair' : 1, 'salvage' : 0}\n",
        "##vehicles.replace({'new' : numerical_condition, 'like new' : numerical_condition, 'excellent' : numerical_condition, 'good' : numerical_condition, 'fair' : numerical_condition, 'salvage' : numerical_condition})\n",
        "\n",
        "\n",
        "print(vehicles.head())"
      ]
    },
    {
      "cell_type": "code",
      "execution_count": null,
      "metadata": {
        "id": "wUs4khXYvwDy",
        "outputId": "bf4f00ca-0004-47bf-9efd-e44799acc4c3"
      },
      "outputs": [
        {
          "data": {
            "text/html": [
              "<div>\n",
              "<style scoped>\n",
              "    .dataframe tbody tr th:only-of-type {\n",
              "        vertical-align: middle;\n",
              "    }\n",
              "\n",
              "    .dataframe tbody tr th {\n",
              "        vertical-align: top;\n",
              "    }\n",
              "\n",
              "    .dataframe thead th {\n",
              "        text-align: right;\n",
              "    }\n",
              "</style>\n",
              "<table border=\"1\" class=\"dataframe\">\n",
              "  <thead>\n",
              "    <tr style=\"text-align: right;\">\n",
              "      <th></th>\n",
              "      <th>price</th>\n",
              "      <th>model_year</th>\n",
              "      <th>model</th>\n",
              "      <th>condition</th>\n",
              "      <th>cylinders</th>\n",
              "      <th>fuel</th>\n",
              "      <th>odometer</th>\n",
              "      <th>transmission</th>\n",
              "      <th>type</th>\n",
              "      <th>paint_color</th>\n",
              "      <th>is_4wd</th>\n",
              "      <th>date_posted</th>\n",
              "      <th>days_listed</th>\n",
              "      <th>weekday</th>\n",
              "      <th>year_posted</th>\n",
              "      <th>month_posted</th>\n",
              "      <th>sell_age</th>\n",
              "      <th>float_sell_age</th>\n",
              "      <th>avg_mileage</th>\n",
              "    </tr>\n",
              "  </thead>\n",
              "  <tbody>\n",
              "    <tr>\n",
              "      <td>0</td>\n",
              "      <td>9400</td>\n",
              "      <td>2011</td>\n",
              "      <td>bmw x5</td>\n",
              "      <td>2</td>\n",
              "      <td>6</td>\n",
              "      <td>gas</td>\n",
              "      <td>145000</td>\n",
              "      <td>1</td>\n",
              "      <td>SUV</td>\n",
              "      <td></td>\n",
              "      <td>1</td>\n",
              "      <td>2018-06-23</td>\n",
              "      <td>19</td>\n",
              "      <td>5</td>\n",
              "      <td>2018</td>\n",
              "      <td>6</td>\n",
              "      <td>7</td>\n",
              "      <td>7.0</td>\n",
              "      <td>20714</td>\n",
              "    </tr>\n",
              "    <tr>\n",
              "      <td>2</td>\n",
              "      <td>5500</td>\n",
              "      <td>2013</td>\n",
              "      <td>hyundai sonata</td>\n",
              "      <td>4</td>\n",
              "      <td>4</td>\n",
              "      <td>gas</td>\n",
              "      <td>110000</td>\n",
              "      <td>1</td>\n",
              "      <td>sedan</td>\n",
              "      <td>red</td>\n",
              "      <td>0</td>\n",
              "      <td>2019-02-07</td>\n",
              "      <td>79</td>\n",
              "      <td>3</td>\n",
              "      <td>2019</td>\n",
              "      <td>2</td>\n",
              "      <td>6</td>\n",
              "      <td>6.0</td>\n",
              "      <td>18333</td>\n",
              "    </tr>\n",
              "    <tr>\n",
              "      <td>3</td>\n",
              "      <td>1500</td>\n",
              "      <td>2003</td>\n",
              "      <td>ford f-150</td>\n",
              "      <td>1</td>\n",
              "      <td>8</td>\n",
              "      <td>gas</td>\n",
              "      <td>115323</td>\n",
              "      <td>1</td>\n",
              "      <td>pickup</td>\n",
              "      <td></td>\n",
              "      <td>0</td>\n",
              "      <td>2019-03-22</td>\n",
              "      <td>9</td>\n",
              "      <td>4</td>\n",
              "      <td>2019</td>\n",
              "      <td>3</td>\n",
              "      <td>16</td>\n",
              "      <td>16.0</td>\n",
              "      <td>7207</td>\n",
              "    </tr>\n",
              "    <tr>\n",
              "      <td>4</td>\n",
              "      <td>14900</td>\n",
              "      <td>2017</td>\n",
              "      <td>chrysler 200</td>\n",
              "      <td>3</td>\n",
              "      <td>4</td>\n",
              "      <td>gas</td>\n",
              "      <td>80903</td>\n",
              "      <td>1</td>\n",
              "      <td>sedan</td>\n",
              "      <td>black</td>\n",
              "      <td>0</td>\n",
              "      <td>2019-04-02</td>\n",
              "      <td>28</td>\n",
              "      <td>1</td>\n",
              "      <td>2019</td>\n",
              "      <td>4</td>\n",
              "      <td>2</td>\n",
              "      <td>2.0</td>\n",
              "      <td>40451</td>\n",
              "    </tr>\n",
              "    <tr>\n",
              "      <td>5</td>\n",
              "      <td>14990</td>\n",
              "      <td>2014</td>\n",
              "      <td>chrysler 300</td>\n",
              "      <td>3</td>\n",
              "      <td>6</td>\n",
              "      <td>gas</td>\n",
              "      <td>57954</td>\n",
              "      <td>1</td>\n",
              "      <td>sedan</td>\n",
              "      <td>black</td>\n",
              "      <td>1</td>\n",
              "      <td>2018-06-20</td>\n",
              "      <td>15</td>\n",
              "      <td>2</td>\n",
              "      <td>2018</td>\n",
              "      <td>6</td>\n",
              "      <td>4</td>\n",
              "      <td>4.0</td>\n",
              "      <td>14488</td>\n",
              "    </tr>\n",
              "  </tbody>\n",
              "</table>\n",
              "</div>"
            ],
            "text/plain": [
              "   price  model_year           model  condition  cylinders fuel  odometer  \\\n",
              "0   9400        2011          bmw x5          2          6  gas    145000   \n",
              "2   5500        2013  hyundai sonata          4          4  gas    110000   \n",
              "3   1500        2003      ford f-150          1          8  gas    115323   \n",
              "4  14900        2017    chrysler 200          3          4  gas     80903   \n",
              "5  14990        2014    chrysler 300          3          6  gas     57954   \n",
              "\n",
              "   transmission    type paint_color  is_4wd date_posted  days_listed  weekday  \\\n",
              "0             1     SUV                   1  2018-06-23           19        5   \n",
              "2             1   sedan         red       0  2019-02-07           79        3   \n",
              "3             1  pickup                   0  2019-03-22            9        4   \n",
              "4             1   sedan       black       0  2019-04-02           28        1   \n",
              "5             1   sedan       black       1  2018-06-20           15        2   \n",
              "\n",
              "   year_posted  month_posted  sell_age  float_sell_age  avg_mileage  \n",
              "0         2018             6         7             7.0        20714  \n",
              "2         2019             2         6             6.0        18333  \n",
              "3         2019             3        16            16.0         7207  \n",
              "4         2019             4         2             2.0        40451  \n",
              "5         2018             6         4             4.0        14488  "
            ]
          },
          "execution_count": 18,
          "metadata": {},
          "output_type": "execute_result"
        }
      ],
      "source": [
        "#Code for BoxPlot below:\n",
        "\n",
        "vehicles[\"transmission\"]= vehicles[\"transmission\"].replace(\"automatic\", 1)\n",
        "vehicles[\"transmission\"]= vehicles[\"transmission\"].replace(\"manual\", 2)\n",
        "vehicles[\"transmission\"]= vehicles[\"transmission\"].replace(\"other\", 3)\n",
        "\n",
        "\n",
        "#numerical_transmission = {'automatic' : 1, 'manual' : 2, 'other' : 3}\n",
        "#vehicles.replace({'automatic' : numerical_transmission, 'manual' : numerical_transmission, 'other' : numerical_transmission})\n",
        "vehicles.head()"
      ]
    },
    {
      "cell_type": "markdown",
      "metadata": {
        "id": "YmqWDyzsvwD8"
      },
      "source": [
        "### Step 4. Carry out exploratory data analysis"
      ]
    },
    {
      "cell_type": "code",
      "execution_count": null,
      "metadata": {
        "id": "IR8uWKVsvwD9",
        "outputId": "96310632-cd25-4c6f-d59e-746dff69090c"
      },
      "outputs": [
        {
          "data": {
            "text/plain": [
              "<matplotlib.axes._subplots.AxesSubplot at 0x7f1328e75690>"
            ]
          },
          "execution_count": 19,
          "metadata": {},
          "output_type": "execute_result"
        },
        {
          "data": {
            "image/png": "[encoded data removed]",
            "text/plain": [
              "<Figure size 432x288 with 1 Axes>"
            ]
          },
          "metadata": {
            "needs_background": "light"
          },
          "output_type": "display_data"
        }
      ],
      "source": [
        "#Initial histogram: Price\n",
        "\n",
        "#vehicles.hist('price', range=0, 50000)\n",
        "pd.Series(vehicles['price']).hist(range = (0, 70000))"
      ]
    },
    {
      "cell_type": "code",
      "execution_count": null,
      "metadata": {
        "id": "fPS4ATmJvwD-",
        "outputId": "74e70460-2e17-4c16-ba83-14b0fb3de432"
      },
      "outputs": [
        {
          "data": {
            "text/plain": [
              "<matplotlib.axes._subplots.AxesSubplot at 0x7f13262fbd90>"
            ]
          },
          "execution_count": 20,
          "metadata": {},
          "output_type": "execute_result"
        },
        {
          "data": {
            "image/png": "[encoded data removed]",
            "text/plain": [
              "<Figure size 432x288 with 1 Axes>"
            ]
          },
          "metadata": {
            "needs_background": "light"
          },
          "output_type": "display_data"
        }
      ],
      "source": [
        "pd.Series(vehicles['price']).hist(range = (0, 2000))"
      ]
    },
    {
      "cell_type": "markdown",
      "metadata": {
        "id": "eYJflk_bvwD_"
      },
      "source": [
        "### Conclusion  \n",
        "\n",
        "* Since it's not possible for vehicles to cost 0, I decided to break down the lower end of the price range into something more understandable.  Based on these histograms, I opted to remove all entries below 2000 and above 50000.  (Shown in code below)"
      ]
    },
    {
      "cell_type": "code",
      "execution_count": null,
      "metadata": {
        "id": "YGotT1UGvwEA",
        "outputId": "2534ad9d-d403-4ec1-8156-1bdd0d2fccff"
      },
      "outputs": [
        {
          "data": {
            "text/plain": [
              "<matplotlib.axes._subplots.AxesSubplot at 0x7f1325b94110>"
            ]
          },
          "execution_count": 21,
          "metadata": {},
          "output_type": "execute_result"
        },
        {
          "data": {
            "image/png": "[encoded data removed]",
            "text/plain": [
              "<Figure size 432x288 with 1 Axes>"
            ]
          },
          "metadata": {
            "needs_background": "light"
          },
          "output_type": "display_data"
        }
      ],
      "source": [
        "#Initial histogram: sell_age\n",
        "\n",
        "pd.Series(vehicles['sell_age']).hist(range = (0, 50))"
      ]
    },
    {
      "cell_type": "markdown",
      "metadata": {
        "id": "Nbq9SAxMvwED"
      },
      "source": [
        "### Conclusion\n",
        "\n",
        "* Based on this histogram, I opted to remove all sell ages under 25 years.  I also decided to leave the sell age of 0 as some vehicles were sold in the the same year they were manufactured.  (Code below)"
      ]
    },
    {
      "cell_type": "code",
      "execution_count": null,
      "metadata": {
        "id": "OWa9iZVKvwEF",
        "outputId": "7366b172-f0b5-4047-efc0-798390c5499e"
      },
      "outputs": [
        {
          "data": {
            "text/plain": [
              "<matplotlib.axes._subplots.AxesSubplot at 0x7f1325ad4c90>"
            ]
          },
          "execution_count": 22,
          "metadata": {},
          "output_type": "execute_result"
        },
        {
          "data": {
            "image/png": "[encoded data removed]",
            "text/plain": [
              "<Figure size 432x288 with 1 Axes>"
            ]
          },
          "metadata": {
            "needs_background": "light"
          },
          "output_type": "display_data"
        }
      ],
      "source": [
        "#Initial histogram: condition\n",
        "\n",
        "pd.Series(vehicles['condition']).hist(range = (0, 5))"
      ]
    },
    {
      "cell_type": "markdown",
      "metadata": {
        "id": "1eDUFR7wvwEG"
      },
      "source": [
        "### Conclusion  \n",
        "* Based on this histogram, I opted to remove the conditions that fell into the 0 and 5 range.  (code below)"
      ]
    },
    {
      "cell_type": "code",
      "execution_count": null,
      "metadata": {
        "id": "UpfRmO3ZvwEH",
        "outputId": "9bde76e6-4ad0-4298-c263-2b5120e40b63"
      },
      "outputs": [
        {
          "data": {
            "text/plain": [
              "<matplotlib.axes._subplots.AxesSubplot at 0x7f1325a4e110>"
            ]
          },
          "execution_count": 23,
          "metadata": {},
          "output_type": "execute_result"
        },
        {
          "data": {
            "image/png": "[encoded data removed]",
            "text/plain": [
              "<Figure size 432x288 with 1 Axes>"
            ]
          },
          "metadata": {
            "needs_background": "light"
          },
          "output_type": "display_data"
        }
      ],
      "source": [
        "#Initial histogram: Odometer\n",
        "\n",
        "pd.Series(vehicles['odometer']).hist(range = (0, 350000))"
      ]
    },
    {
      "cell_type": "markdown",
      "metadata": {
        "id": "unNPqirPvwEI"
      },
      "source": [
        "### Conclusion  \n",
        "* Based on this histogram, I opted to remove all entries above 275,000.  (code below)"
      ]
    },
    {
      "cell_type": "code",
      "execution_count": null,
      "metadata": {
        "id": "wR-kBoO0vwEJ",
        "outputId": "fd73b5e0-2fc2-4491-c4de-a89ac40c2595"
      },
      "outputs": [
        {
          "data": {
            "text/plain": [
              "<matplotlib.axes._subplots.AxesSubplot at 0x7f1325a1b7d0>"
            ]
          },
          "execution_count": 24,
          "metadata": {},
          "output_type": "execute_result"
        },
        {
          "data": {
            "image/png": "[encoded data removed]",
            "text/plain": [
              "<Figure size 432x288 with 1 Axes>"
            ]
          },
          "metadata": {
            "needs_background": "light"
          },
          "output_type": "display_data"
        }
      ],
      "source": [
        "#Initial histogram: cylinders\n",
        "\n",
        "pd.Series(vehicles['cylinders']).hist(range = (0, 8))"
      ]
    },
    {
      "cell_type": "markdown",
      "metadata": {
        "id": "486pMcl6vwEK"
      },
      "source": [
        "### Conclusion  \n",
        "* And finally, based on this histogram, I opted to remove all entries 3 and below.  (code below)"
      ]
    },
    {
      "cell_type": "code",
      "execution_count": null,
      "metadata": {
        "id": "aeZoMP_AvwEL",
        "outputId": "66fa6c6b-0142-4942-d9e9-a057b0c59846"
      },
      "outputs": [
        {
          "data": {
            "text/html": [
              "<div>\n",
              "<style scoped>\n",
              "    .dataframe tbody tr th:only-of-type {\n",
              "        vertical-align: middle;\n",
              "    }\n",
              "\n",
              "    .dataframe tbody tr th {\n",
              "        vertical-align: top;\n",
              "    }\n",
              "\n",
              "    .dataframe thead th {\n",
              "        text-align: right;\n",
              "    }\n",
              "</style>\n",
              "<table border=\"1\" class=\"dataframe\">\n",
              "  <thead>\n",
              "    <tr style=\"text-align: right;\">\n",
              "      <th></th>\n",
              "      <th>price</th>\n",
              "      <th>model_year</th>\n",
              "      <th>model</th>\n",
              "      <th>condition</th>\n",
              "      <th>cylinders</th>\n",
              "      <th>fuel</th>\n",
              "      <th>odometer</th>\n",
              "      <th>transmission</th>\n",
              "      <th>type</th>\n",
              "      <th>paint_color</th>\n",
              "      <th>is_4wd</th>\n",
              "      <th>date_posted</th>\n",
              "      <th>days_listed</th>\n",
              "      <th>weekday</th>\n",
              "      <th>year_posted</th>\n",
              "      <th>month_posted</th>\n",
              "      <th>sell_age</th>\n",
              "      <th>float_sell_age</th>\n",
              "      <th>avg_mileage</th>\n",
              "    </tr>\n",
              "  </thead>\n",
              "  <tbody>\n",
              "    <tr>\n",
              "      <td>0</td>\n",
              "      <td>9400</td>\n",
              "      <td>2011</td>\n",
              "      <td>bmw x5</td>\n",
              "      <td>2</td>\n",
              "      <td>6</td>\n",
              "      <td>gas</td>\n",
              "      <td>145000</td>\n",
              "      <td>1</td>\n",
              "      <td>SUV</td>\n",
              "      <td></td>\n",
              "      <td>1</td>\n",
              "      <td>2018-06-23</td>\n",
              "      <td>19</td>\n",
              "      <td>5</td>\n",
              "      <td>2018</td>\n",
              "      <td>6</td>\n",
              "      <td>7</td>\n",
              "      <td>7.0</td>\n",
              "      <td>20714</td>\n",
              "    </tr>\n",
              "    <tr>\n",
              "      <td>2</td>\n",
              "      <td>5500</td>\n",
              "      <td>2013</td>\n",
              "      <td>hyundai sonata</td>\n",
              "      <td>4</td>\n",
              "      <td>4</td>\n",
              "      <td>gas</td>\n",
              "      <td>110000</td>\n",
              "      <td>1</td>\n",
              "      <td>sedan</td>\n",
              "      <td>red</td>\n",
              "      <td>0</td>\n",
              "      <td>2019-02-07</td>\n",
              "      <td>79</td>\n",
              "      <td>3</td>\n",
              "      <td>2019</td>\n",
              "      <td>2</td>\n",
              "      <td>6</td>\n",
              "      <td>6.0</td>\n",
              "      <td>18333</td>\n",
              "    </tr>\n",
              "    <tr>\n",
              "      <td>3</td>\n",
              "      <td>1500</td>\n",
              "      <td>2003</td>\n",
              "      <td>ford f-150</td>\n",
              "      <td>1</td>\n",
              "      <td>8</td>\n",
              "      <td>gas</td>\n",
              "      <td>115323</td>\n",
              "      <td>1</td>\n",
              "      <td>pickup</td>\n",
              "      <td></td>\n",
              "      <td>0</td>\n",
              "      <td>2019-03-22</td>\n",
              "      <td>9</td>\n",
              "      <td>4</td>\n",
              "      <td>2019</td>\n",
              "      <td>3</td>\n",
              "      <td>16</td>\n",
              "      <td>16.0</td>\n",
              "      <td>7207</td>\n",
              "    </tr>\n",
              "    <tr>\n",
              "      <td>4</td>\n",
              "      <td>14900</td>\n",
              "      <td>2017</td>\n",
              "      <td>chrysler 200</td>\n",
              "      <td>3</td>\n",
              "      <td>4</td>\n",
              "      <td>gas</td>\n",
              "      <td>80903</td>\n",
              "      <td>1</td>\n",
              "      <td>sedan</td>\n",
              "      <td>black</td>\n",
              "      <td>0</td>\n",
              "      <td>2019-04-02</td>\n",
              "      <td>28</td>\n",
              "      <td>1</td>\n",
              "      <td>2019</td>\n",
              "      <td>4</td>\n",
              "      <td>2</td>\n",
              "      <td>2.0</td>\n",
              "      <td>40451</td>\n",
              "    </tr>\n",
              "    <tr>\n",
              "      <td>5</td>\n",
              "      <td>14990</td>\n",
              "      <td>2014</td>\n",
              "      <td>chrysler 300</td>\n",
              "      <td>3</td>\n",
              "      <td>6</td>\n",
              "      <td>gas</td>\n",
              "      <td>57954</td>\n",
              "      <td>1</td>\n",
              "      <td>sedan</td>\n",
              "      <td>black</td>\n",
              "      <td>1</td>\n",
              "      <td>2018-06-20</td>\n",
              "      <td>15</td>\n",
              "      <td>2</td>\n",
              "      <td>2018</td>\n",
              "      <td>6</td>\n",
              "      <td>4</td>\n",
              "      <td>4.0</td>\n",
              "      <td>14488</td>\n",
              "    </tr>\n",
              "    <tr>\n",
              "      <td>...</td>\n",
              "      <td>...</td>\n",
              "      <td>...</td>\n",
              "      <td>...</td>\n",
              "      <td>...</td>\n",
              "      <td>...</td>\n",
              "      <td>...</td>\n",
              "      <td>...</td>\n",
              "      <td>...</td>\n",
              "      <td>...</td>\n",
              "      <td>...</td>\n",
              "      <td>...</td>\n",
              "      <td>...</td>\n",
              "      <td>...</td>\n",
              "      <td>...</td>\n",
              "      <td>...</td>\n",
              "      <td>...</td>\n",
              "      <td>...</td>\n",
              "      <td>...</td>\n",
              "      <td>...</td>\n",
              "    </tr>\n",
              "    <tr>\n",
              "      <td>51520</td>\n",
              "      <td>9249</td>\n",
              "      <td>2013</td>\n",
              "      <td>nissan maxima</td>\n",
              "      <td>4</td>\n",
              "      <td>6</td>\n",
              "      <td>gas</td>\n",
              "      <td>88136</td>\n",
              "      <td>1</td>\n",
              "      <td>sedan</td>\n",
              "      <td>black</td>\n",
              "      <td>0</td>\n",
              "      <td>2018-10-03</td>\n",
              "      <td>37</td>\n",
              "      <td>2</td>\n",
              "      <td>2018</td>\n",
              "      <td>10</td>\n",
              "      <td>5</td>\n",
              "      <td>5.0</td>\n",
              "      <td>17627</td>\n",
              "    </tr>\n",
              "    <tr>\n",
              "      <td>51521</td>\n",
              "      <td>2700</td>\n",
              "      <td>2002</td>\n",
              "      <td>honda civic</td>\n",
              "      <td>0</td>\n",
              "      <td>4</td>\n",
              "      <td>gas</td>\n",
              "      <td>181500</td>\n",
              "      <td>1</td>\n",
              "      <td>sedan</td>\n",
              "      <td>white</td>\n",
              "      <td>0</td>\n",
              "      <td>2018-11-14</td>\n",
              "      <td>22</td>\n",
              "      <td>2</td>\n",
              "      <td>2018</td>\n",
              "      <td>11</td>\n",
              "      <td>16</td>\n",
              "      <td>16.0</td>\n",
              "      <td>11343</td>\n",
              "    </tr>\n",
              "    <tr>\n",
              "      <td>51522</td>\n",
              "      <td>3950</td>\n",
              "      <td>2009</td>\n",
              "      <td>hyundai sonata</td>\n",
              "      <td>3</td>\n",
              "      <td>4</td>\n",
              "      <td>gas</td>\n",
              "      <td>128000</td>\n",
              "      <td>1</td>\n",
              "      <td>sedan</td>\n",
              "      <td>blue</td>\n",
              "      <td>0</td>\n",
              "      <td>2018-11-15</td>\n",
              "      <td>32</td>\n",
              "      <td>3</td>\n",
              "      <td>2018</td>\n",
              "      <td>11</td>\n",
              "      <td>9</td>\n",
              "      <td>9.0</td>\n",
              "      <td>14222</td>\n",
              "    </tr>\n",
              "    <tr>\n",
              "      <td>51523</td>\n",
              "      <td>7455</td>\n",
              "      <td>2013</td>\n",
              "      <td>toyota corolla</td>\n",
              "      <td>2</td>\n",
              "      <td>4</td>\n",
              "      <td>gas</td>\n",
              "      <td>139573</td>\n",
              "      <td>1</td>\n",
              "      <td>sedan</td>\n",
              "      <td>black</td>\n",
              "      <td>0</td>\n",
              "      <td>2018-07-02</td>\n",
              "      <td>71</td>\n",
              "      <td>0</td>\n",
              "      <td>2018</td>\n",
              "      <td>7</td>\n",
              "      <td>5</td>\n",
              "      <td>5.0</td>\n",
              "      <td>27914</td>\n",
              "    </tr>\n",
              "    <tr>\n",
              "      <td>51524</td>\n",
              "      <td>6300</td>\n",
              "      <td>2014</td>\n",
              "      <td>nissan altima</td>\n",
              "      <td>2</td>\n",
              "      <td>4</td>\n",
              "      <td>gas</td>\n",
              "      <td>115323</td>\n",
              "      <td>1</td>\n",
              "      <td>sedan</td>\n",
              "      <td></td>\n",
              "      <td>0</td>\n",
              "      <td>2018-06-05</td>\n",
              "      <td>10</td>\n",
              "      <td>1</td>\n",
              "      <td>2018</td>\n",
              "      <td>6</td>\n",
              "      <td>4</td>\n",
              "      <td>4.0</td>\n",
              "      <td>28830</td>\n",
              "    </tr>\n",
              "  </tbody>\n",
              "</table>\n",
              "<p>42976 rows × 19 columns</p>\n",
              "</div>"
            ],
            "text/plain": [
              "       price  model_year           model  condition  cylinders fuel  odometer  \\\n",
              "0       9400        2011          bmw x5          2          6  gas    145000   \n",
              "2       5500        2013  hyundai sonata          4          4  gas    110000   \n",
              "3       1500        2003      ford f-150          1          8  gas    115323   \n",
              "4      14900        2017    chrysler 200          3          4  gas     80903   \n",
              "5      14990        2014    chrysler 300          3          6  gas     57954   \n",
              "...      ...         ...             ...        ...        ...  ...       ...   \n",
              "51520   9249        2013   nissan maxima          4          6  gas     88136   \n",
              "51521   2700        2002     honda civic          0          4  gas    181500   \n",
              "51522   3950        2009  hyundai sonata          3          4  gas    128000   \n",
              "51523   7455        2013  toyota corolla          2          4  gas    139573   \n",
              "51524   6300        2014   nissan altima          2          4  gas    115323   \n",
              "\n",
              "       transmission    type paint_color  is_4wd date_posted  days_listed  \\\n",
              "0                 1     SUV                   1  2018-06-23           19   \n",
              "2                 1   sedan         red       0  2019-02-07           79   \n",
              "3                 1  pickup                   0  2019-03-22            9   \n",
              "4                 1   sedan       black       0  2019-04-02           28   \n",
              "5                 1   sedan       black       1  2018-06-20           15   \n",
              "...             ...     ...         ...     ...         ...          ...   \n",
              "51520             1   sedan       black       0  2018-10-03           37   \n",
              "51521             1   sedan       white       0  2018-11-14           22   \n",
              "51522             1   sedan        blue       0  2018-11-15           32   \n",
              "51523             1   sedan       black       0  2018-07-02           71   \n",
              "51524             1   sedan                   0  2018-06-05           10   \n",
              "\n",
              "       weekday  year_posted  month_posted  sell_age  float_sell_age  \\\n",
              "0            5         2018             6         7             7.0   \n",
              "2            3         2019             2         6             6.0   \n",
              "3            4         2019             3        16            16.0   \n",
              "4            1         2019             4         2             2.0   \n",
              "5            2         2018             6         4             4.0   \n",
              "...        ...          ...           ...       ...             ...   \n",
              "51520        2         2018            10         5             5.0   \n",
              "51521        2         2018            11        16            16.0   \n",
              "51522        3         2018            11         9             9.0   \n",
              "51523        0         2018             7         5             5.0   \n",
              "51524        1         2018             6         4             4.0   \n",
              "\n",
              "       avg_mileage  \n",
              "0            20714  \n",
              "2            18333  \n",
              "3             7207  \n",
              "4            40451  \n",
              "5            14488  \n",
              "...            ...  \n",
              "51520        17627  \n",
              "51521        11343  \n",
              "51522        14222  \n",
              "51523        27914  \n",
              "51524        28830  \n",
              "\n",
              "[42976 rows x 19 columns]"
            ]
          },
          "execution_count": 25,
          "metadata": {},
          "output_type": "execute_result"
        }
      ],
      "source": [
        "#removing outliers\n",
        "\n",
        "vehicles.query('price < 50000')\n",
        "vehicles.query('price > 2000')\n",
        "vehicles.query('sell_age < 25')\n",
        "vehicles.query('condition > 0')\n",
        "vehicles.query('condition > 5' )\n",
        "vehicles.query('odometer < 275000')\n",
        "vehicles.query('cylinders > 3')\n",
        "\n"
      ]
    },
    {
      "cell_type": "code",
      "execution_count": null,
      "metadata": {
        "id": "yepmuCjjvwEN",
        "outputId": "4fc34ef6-e724-42b1-9f5e-7465cfa30187"
      },
      "outputs": [
        {
          "data": {
            "text/plain": [
              "<matplotlib.axes._subplots.AxesSubplot at 0x7f1328ef1250>"
            ]
          },
          "execution_count": 26,
          "metadata": {},
          "output_type": "execute_result"
        },
        {
          "data": {
            "image/png": "[encoded data removed]",
            "text/plain": [
              "<Figure size 432x288 with 1 Axes>"
            ]
          },
          "metadata": {
            "needs_background": "light"
          },
          "output_type": "display_data"
        }
      ],
      "source": [
        "#Updated histogram: price\n",
        "\n",
        "pd.Series(vehicles['price']).hist(range = (0, 5000))"
      ]
    },
    {
      "cell_type": "code",
      "execution_count": null,
      "metadata": {
        "id": "bB16KM1svwEP",
        "outputId": "4a0ec7d8-8090-4d7e-fe36-041b9e7bf364"
      },
      "outputs": [
        {
          "data": {
            "text/plain": [
              "<matplotlib.axes._subplots.AxesSubplot at 0x7f1328f09250>"
            ]
          },
          "execution_count": 27,
          "metadata": {},
          "output_type": "execute_result"
        },
        {
          "data": {
            "image/png": "[encoded data removed]",
            "text/plain": [
              "<Figure size 432x288 with 1 Axes>"
            ]
          },
          "metadata": {
            "needs_background": "light"
          },
          "output_type": "display_data"
        }
      ],
      "source": [
        "#Updated Histogram: price\n",
        "\n",
        "pd.Series(vehicles['price']).hist(range = (0, 50000))"
      ]
    },
    {
      "cell_type": "markdown",
      "metadata": {
        "id": "xIMZNwSavwEZ"
      },
      "source": [
        "### Conclusion  \n",
        "* Based upon the updated histograms, it is evident that the majority of the vehicles range in price from 4500 to 20000.  "
      ]
    },
    {
      "cell_type": "code",
      "execution_count": null,
      "metadata": {
        "id": "x99tkzgWvwEb",
        "outputId": "220ce893-4a29-40bd-8cf6-68db990c8f66"
      },
      "outputs": [
        {
          "data": {
            "text/plain": [
              "<matplotlib.axes._subplots.AxesSubplot at 0x7f1328902510>"
            ]
          },
          "execution_count": 28,
          "metadata": {},
          "output_type": "execute_result"
        },
        {
          "data": {
            "image/png": "[encoded data removed]",
            "text/plain": [
              "<Figure size 432x288 with 1 Axes>"
            ]
          },
          "metadata": {
            "needs_background": "light"
          },
          "output_type": "display_data"
        }
      ],
      "source": [
        "#Updated Histogram: sell_age\n",
        "\n",
        "pd.Series(vehicles['sell_age']).hist(range = (0, 25))"
      ]
    },
    {
      "cell_type": "markdown",
      "metadata": {
        "id": "U6nyr5xEvwEf"
      },
      "source": [
        "### Conclusion  \n",
        "* Based upon the updated histogram, it is evident that the majority of vehicles range in age from 5-12 years of age.  "
      ]
    },
    {
      "cell_type": "code",
      "execution_count": null,
      "metadata": {
        "id": "WEC7yavJvwEg",
        "outputId": "3d8f5978-a74d-453e-dd0a-aff4520f17b8"
      },
      "outputs": [
        {
          "data": {
            "text/plain": [
              "<matplotlib.axes._subplots.AxesSubplot at 0x7f132883dc90>"
            ]
          },
          "execution_count": 29,
          "metadata": {},
          "output_type": "execute_result"
        },
        {
          "data": {
            "image/png": "[encoded data removed]",
            "text/plain": [
              "<Figure size 432x288 with 1 Axes>"
            ]
          },
          "metadata": {
            "needs_background": "light"
          },
          "output_type": "display_data"
        }
      ],
      "source": [
        "#Updated Histogram: condition\n",
        "\n",
        "pd.Series(vehicles['condition']).hist(range = (1, 4))"
      ]
    },
    {
      "cell_type": "markdown",
      "metadata": {
        "id": "VGvxQ6aVvwEx"
      },
      "source": [
        "### Conclusion  \n",
        "* Based upon the updated histogram, it is evident that the majority of the vehicle's conditions range from 2 to 3 or good and excellent.  "
      ]
    },
    {
      "cell_type": "code",
      "execution_count": null,
      "metadata": {
        "id": "DFsZhDL1vwE2",
        "outputId": "b95a824f-b1a0-4f03-ea0d-c8ae461fe353"
      },
      "outputs": [
        {
          "data": {
            "text/plain": [
              "<matplotlib.axes._subplots.AxesSubplot at 0x7f13287c5550>"
            ]
          },
          "execution_count": 30,
          "metadata": {},
          "output_type": "execute_result"
        },
        {
          "data": {
            "image/png": "[encoded data removed]",
            "text/plain": [
              "<Figure size 432x288 with 1 Axes>"
            ]
          },
          "metadata": {
            "needs_background": "light"
          },
          "output_type": "display_data"
        }
      ],
      "source": [
        "#Updated Histogram: odometer\n",
        "\n",
        "pd.Series(vehicles['odometer']).hist(range = (0, 275000))"
      ]
    },
    {
      "cell_type": "markdown",
      "metadata": {
        "id": "7xLSwySJvwE3"
      },
      "source": [
        "### Conclusion  \n",
        "* Based upon the updated histogram, it is evident that the majority of vehicles have odometer readings between 50,000 and 150,000 miles.  "
      ]
    },
    {
      "cell_type": "code",
      "execution_count": null,
      "metadata": {
        "id": "SkLERNwSvwE4",
        "outputId": "6e0cdf1a-57bb-449a-a7bb-dc51dfba2e7a"
      },
      "outputs": [
        {
          "data": {
            "text/plain": [
              "<matplotlib.axes._subplots.AxesSubplot at 0x7f1328749890>"
            ]
          },
          "execution_count": 31,
          "metadata": {},
          "output_type": "execute_result"
        },
        {
          "data": {
            "image/png": "[encoded data removed]",
            "text/plain": [
              "<Figure size 432x288 with 1 Axes>"
            ]
          },
          "metadata": {
            "needs_background": "light"
          },
          "output_type": "display_data"
        }
      ],
      "source": [
        "#Updated Histogram: cylinders\n",
        "\n",
        "pd.Series(vehicles['cylinders']).hist(range = (4, 8))"
      ]
    },
    {
      "cell_type": "markdown",
      "metadata": {
        "id": "RR6Py9gUvwE7"
      },
      "source": [
        "### Conclusion  \n",
        "* Based upon the updated histogram, it is evident that most of the vehicles are 6 and 8 cylinders with a substantial number also being 4 cylinder.  "
      ]
    },
    {
      "cell_type": "code",
      "execution_count": null,
      "metadata": {
        "id": "jAzUKRMYvwE-",
        "outputId": "749db762-4468-48ba-e7b9-e420186dd4cc"
      },
      "outputs": [
        {
          "data": {
            "text/plain": [
              "<matplotlib.axes._subplots.AxesSubplot at 0x7f13285f9b10>"
            ]
          },
          "execution_count": 32,
          "metadata": {},
          "output_type": "execute_result"
        },
        {
          "data": {
            "image/png": "[encoded data removed]",
            "text/plain": [
              "<Figure size 432x288 with 1 Axes>"
            ]
          },
          "metadata": {
            "needs_background": "light"
          },
          "output_type": "display_data"
        }
      ],
      "source": [
        "#days listed histogram\n",
        "\n",
        "pd.Series(vehicles['days_listed']).hist(range = (0, 150))"
      ]
    },
    {
      "cell_type": "code",
      "execution_count": null,
      "metadata": {
        "id": "9zhiMmHWvwFI",
        "outputId": "b14d12c7-1829-41b6-89b3-582b47444fef"
      },
      "outputs": [
        {
          "data": {
            "text/plain": [
              "<matplotlib.axes._subplots.AxesSubplot at 0x7f13258dfa50>"
            ]
          },
          "execution_count": 33,
          "metadata": {},
          "output_type": "execute_result"
        },
        {
          "data": {
            "image/png": "[encoded data removed]",
            "text/plain": [
              "<Figure size 432x288 with 1 Axes>"
            ]
          },
          "metadata": {
            "needs_background": "light"
          },
          "output_type": "display_data"
        }
      ],
      "source": [
        "#days listed histogram: edited in order to better understand how many vehicles were sold very quickly\n",
        "\n",
        "\n",
        "pd.Series(vehicles['days_listed']).hist(range = (0, 20))"
      ]
    },
    {
      "cell_type": "code",
      "execution_count": null,
      "metadata": {
        "id": "BT-UHc3FvwFL",
        "outputId": "74029019-c1f8-464c-ba37-7b1e524a6f89"
      },
      "outputs": [
        {
          "data": {
            "text/plain": [
              "<matplotlib.axes._subplots.AxesSubplot at 0x7f13285aba10>"
            ]
          },
          "execution_count": 34,
          "metadata": {},
          "output_type": "execute_result"
        },
        {
          "data": {
            "image/png": "[encoded data removed]",
            "text/plain": [
              "<Figure size 432x288 with 1 Axes>"
            ]
          },
          "metadata": {
            "needs_background": "light"
          },
          "output_type": "display_data"
        }
      ],
      "source": [
        "pd.Series(vehicles['days_listed']).hist(range = (20, 90))"
      ]
    },
    {
      "cell_type": "code",
      "execution_count": null,
      "metadata": {
        "id": "vhUMIP1OvwFN",
        "outputId": "ab7d3ec4-6257-4635-b539-4f5b03bd8bd8"
      },
      "outputs": [
        {
          "data": {
            "text/plain": [
              "<matplotlib.axes._subplots.AxesSubplot at 0x7f13643fb410>"
            ]
          },
          "execution_count": 35,
          "metadata": {},
          "output_type": "execute_result"
        },
        {
          "data": {
            "image/png": "[encoded data removed]",
            "text/plain": [
              "<Figure size 432x288 with 1 Axes>"
            ]
          },
          "metadata": {
            "needs_background": "light"
          },
          "output_type": "display_data"
        }
      ],
      "source": [
        "#days listed histogram: edited in order to better understand how many vehicles were sold very slowly\n",
        "\n",
        "pd.Series(vehicles['days_listed']).hist(range = (90, 120))"
      ]
    },
    {
      "cell_type": "markdown",
      "metadata": {
        "id": "tY8AHh-nvwFS"
      },
      "source": [
        "### Conclusion  \n",
        "* The majority of vehicles were listed for 20 to 40 days.  With the average being 39 and the mean being 33 (see below.)"
      ]
    },
    {
      "cell_type": "code",
      "execution_count": null,
      "metadata": {
        "id": "-xQPIv9qvwFU",
        "outputId": "948f3e02-ff70-4930-e3f1-d0e96a56da81"
      },
      "outputs": [
        {
          "name": "stdout",
          "output_type": "stream",
          "text": [
            "39.57367062707805\n",
            "33.0\n"
          ]
        }
      ],
      "source": [
        "#days listed: mean and median\n",
        "\n",
        "print(vehicles['days_listed'].mean())\n",
        "print(vehicles['days_listed'].median())"
      ]
    },
    {
      "cell_type": "code",
      "execution_count": null,
      "metadata": {
        "id": "fzi_x684vwFY"
      },
      "outputs": [],
      "source": [
        "vehicles['days_listed'].count()\n",
        "\n",
        "vehicles_model_groupby = (vehicles.groupby('model').mean())\n",
        "\n",
        "#print(vehicles_model_groupby)"
      ]
    },
    {
      "cell_type": "code",
      "execution_count": null,
      "metadata": {
        "id": "7pWemF3DvwFd",
        "outputId": "6ab7ef58-f824-4319-a511-6f919625a211"
      },
      "outputs": [
        {
          "data": {
            "text/plain": [
              "array(['bmw x5', 'hyundai sonata', 'ford f-150', 'chrysler 200',\n",
              "       'chrysler 300', 'toyota camry', 'honda pilot', 'kia sorento',\n",
              "       'chevrolet silverado 1500', 'honda accord', 'ram 1500',\n",
              "       'gmc yukon', 'jeep cherokee', 'chevrolet traverse',\n",
              "       'hyundai elantra', 'toyota rav4', 'chevrolet silverado',\n",
              "       'jeep wrangler', 'chevrolet malibu', 'ford fusion se',\n",
              "       'chevrolet impala', 'chevrolet corvette', 'jeep liberty',\n",
              "       'toyota camry le', 'nissan altima', 'subaru outback',\n",
              "       'toyota highlander', 'dodge charger', 'chevrolet equinox',\n",
              "       'nissan rogue', 'mercedes-benz benze sprinter 2500', 'honda cr-v',\n",
              "       'jeep grand cherokee', 'toyota 4runner', 'ford focus',\n",
              "       'honda civic', 'kia soul', 'chevrolet colorado',\n",
              "       'ford f150 supercrew cab xlt', 'chevrolet camaro lt coupe 2d',\n",
              "       'chevrolet cruze', 'chevrolet silverado 3500hd',\n",
              "       'nissan frontier crew cab sv', 'jeep grand cherokee laredo',\n",
              "       'nissan versa', 'ford f-250 sd', 'chevrolet silverado 1500 crew',\n",
              "       'ford f250 super duty', 'chevrolet camaro',\n",
              "       'ford mustang gt coupe 2d', 'subaru forester', 'ford explorer',\n",
              "       'ford f-350 sd', 'ford edge', 'nissan maxima', 'ford f-250',\n",
              "       'nissan sentra', 'ford f150', 'chevrolet suburban',\n",
              "       'ford expedition', 'dodge grand caravan', 'ford taurus',\n",
              "       'acura tl', 'ford ranger', 'gmc sierra', 'ford mustang',\n",
              "       'hyundai santa fe', 'toyota tacoma', 'ford f350 super duty',\n",
              "       'subaru impreza', 'ford escape', 'gmc sierra 2500hd',\n",
              "       'honda civic lx', 'gmc sierra 1500', 'honda odyssey',\n",
              "       'cadillac escalade', 'volkswagen jetta', 'toyota corolla',\n",
              "       'chrysler town & country', 'volkswagen passat', 'toyota prius',\n",
              "       'buick enclave', 'ford fusion', 'ram 3500', 'ram 2500',\n",
              "       'nissan frontier', 'jeep wrangler unlimited',\n",
              "       'ford f-250 super duty', 'chevrolet tahoe', 'gmc acadia',\n",
              "       'toyota sienna', 'chevrolet silverado 2500hd', 'dodge dakota',\n",
              "       'ford f250', 'ford focus se', 'ford f350', 'toyota tundra',\n",
              "       'chevrolet trailblazer', 'ford econoline', 'nissan murano'],\n",
              "      dtype=object)"
            ]
          },
          "execution_count": 38,
          "metadata": {},
          "output_type": "execute_result"
        }
      ],
      "source": [
        "vehicles['model'].unique()"
      ]
    },
    {
      "cell_type": "code",
      "execution_count": null,
      "metadata": {
        "scrolled": true,
        "id": "lus7t3_jvwFi",
        "outputId": "99072152-9801-4626-cee3-d307dfde0034"
      },
      "outputs": [
        {
          "name": "stdout",
          "output_type": "stream",
          "text": [
            "================\n",
            "Ford          10577\n",
            "Chevrolet      8874\n",
            "Toyota         4533\n",
            "Dodge          3804\n",
            "Honda          2921\n",
            "Jeep           2721\n",
            "Nissan         2671\n",
            "GMC            2001\n",
            "Subaru         1060\n",
            "Hyundai         991\n",
            "Volkswagen      724\n",
            "Chrysler        690\n",
            "Kia             478\n",
            "Cadillac        268\n",
            "Buick           234\n",
            "BMW             231\n",
            "Acura           200\n",
            "other            31\n",
            "Name: model_category, dtype: int64\n"
          ]
        }
      ],
      "source": [
        "#grouping vehicles based on brand type\n",
        "\n",
        "import nltk\n",
        "from nltk.stem import WordNetLemmatizer\n",
        "wordnet_lemma = WordNetLemmatizer()\n",
        "from collections import Counter\n",
        "\n",
        "\n",
        "\n",
        "def vehicle_model_lemma(row):\n",
        "    model = row['model']\n",
        "    words = nltk.word_tokenize(model)\n",
        "    lemmas = [wordnet_lemma.lemmatize(w, pos = 'n') for w in words]\n",
        "\n",
        "    #print(Counter(lemmas))\n",
        "    #return lemmas\n",
        "    #was used for debugging\n",
        "\n",
        "\n",
        "    if ('bmw' in lemmas):\n",
        "        return 'BMW'\n",
        "    elif 'hyundai' in lemmas:\n",
        "        return 'Hyundai'\n",
        "    elif 'ford' in lemmas:\n",
        "        return 'Ford'\n",
        "    elif 'chrysler' in lemmas:\n",
        "        return 'Chrysler'\n",
        "    elif 'toyota' in lemmas:\n",
        "        return 'Toyota'\n",
        "    elif 'honda' in lemmas:\n",
        "        return 'Honda'\n",
        "    elif ('ram' in lemmas) or ('dodge' in lemmas):\n",
        "        return 'Dodge'\n",
        "    elif 'ford' in lemmas:\n",
        "        return 'Ford'\n",
        "    elif 'gmc' in lemmas:\n",
        "        return 'GMC'\n",
        "    elif 'jeep' in lemmas:\n",
        "        return 'Jeep'\n",
        "    elif 'kia' in lemmas:\n",
        "        return 'Kia'\n",
        "    elif 'chevrolet' in lemmas:\n",
        "        return 'Chevrolet'\n",
        "    elif 'nissan' in lemmas:\n",
        "        return 'Nissan'\n",
        "    elif 'subaru' in lemmas:\n",
        "        return 'Subaru'\n",
        "    elif 'mercedes' in lemmas:\n",
        "        return 'Mercedes'\n",
        "    elif 'acura' in lemmas:\n",
        "        return 'Acura'\n",
        "    elif 'cadillac' in lemmas:\n",
        "        return 'Cadillac'\n",
        "    elif 'volkswagen' in lemmas:\n",
        "        return 'Volkswagen'\n",
        "    elif 'buick' in lemmas:\n",
        "        return 'Buick'\n",
        "    else:\n",
        "        return 'other'\n",
        "\n",
        "\n",
        "\n",
        "\n",
        "vehicles['model_category'] = vehicles.apply(vehicle_model_lemma, axis=1)\n",
        "\n",
        "model_counts_variable = vehicles['model_category'].value_counts()\n",
        "print(\"================\")\n",
        "print(model_counts_variable)\n",
        "#print(type(model_counts_variable))\n",
        "#print(vehicles.groupby('model_category').count())"
      ]
    },
    {
      "cell_type": "markdown",
      "metadata": {
        "id": "GqHkrkoPvwFr"
      },
      "source": [
        "### Conclusion  \n",
        "* In this section, I began by using lemmas to group vehicles based on brand type.  I then used the new column to calculate the average price for each brand (see below.)"
      ]
    },
    {
      "cell_type": "code",
      "execution_count": null,
      "metadata": {
        "id": "OnOqURcwvwFs",
        "outputId": "4941c08c-fc21-43f6-9e31-3504778bab15"
      },
      "outputs": [
        {
          "name": "stdout",
          "output_type": "stream",
          "text": [
            "model_category\n",
            "Acura          6536.970000\n",
            "BMW           10983.722944\n",
            "Buick         11633.311966\n",
            "Cadillac      17472.802239\n",
            "Chevrolet     14393.885283\n",
            "Chrysler       8212.597101\n",
            "Dodge         15409.113039\n",
            "Ford          12724.195897\n",
            "GMC           15548.184908\n",
            "Honda          7349.423485\n",
            "Hyundai        7393.399596\n",
            "Jeep          12828.219037\n",
            "Kia            8663.721757\n",
            "Nissan         9470.039311\n",
            "Subaru         8817.560377\n",
            "Toyota        10058.501655\n",
            "Volkswagen     7242.037293\n",
            "other         34900.000000\n",
            "Name: price, dtype: float64\n"
          ]
        }
      ],
      "source": [
        "# mean price based on vehicle brand\n",
        "\n",
        "model_price_variable = vehicles.groupby('model_category').mean()['price']\n",
        "print(model_price_variable)"
      ]
    },
    {
      "cell_type": "code",
      "execution_count": null,
      "metadata": {
        "id": "sXqqiFw1vwFt",
        "outputId": "3357dd02-0dfb-4635-8eff-26fcc2aac0d4"
      },
      "outputs": [
        {
          "data": {
            "image/png": "[encoded data removed]",
            "text/plain": [
              "<Figure size 432x288 with 1 Axes>"
            ]
          },
          "metadata": {
            "needs_background": "light"
          },
          "output_type": "display_data"
        }
      ],
      "source": [
        "import matplotlib.pyplot as plt\n",
        "#ads_type_pivot = vehicles.pivot_table(index='model_counts_variable', values='model_price_variable')\n",
        "\n",
        "#print(model_counts_variable.index)\n",
        "modelrange = range(len(model_counts_variable.index))\n",
        "\n",
        "\n",
        "plt.bar(modelrange, model_counts_variable,width=0.8, bottom=None, align='center')\n",
        "plt.xticks(modelrange,model_counts_variable.index, rotation='vertical')\n",
        "plt.show()\n",
        "#plt.plot(x= model_counts_variable.index, y= model_counts_variable , kind='scatter')\n",
        "#plt(x= model_counts_variable, y= model_price_variable , kind='scatter')"
      ]
    },
    {
      "cell_type": "markdown",
      "metadata": {
        "id": "o8Z4ENQ-vwFu"
      },
      "source": [
        "### Conclusion  \n",
        "* The most popular vehicles were Ford and Chevrolet.  "
      ]
    },
    {
      "cell_type": "code",
      "execution_count": null,
      "metadata": {
        "id": "x_6EA8VpvwFv",
        "outputId": "bb112b7f-e4fc-47a6-e333-5ff09fa637e3"
      },
      "outputs": [
        {
          "name": "stdout",
          "output_type": "stream",
          "text": [
            "Correlation between sell_age and price: -0.4332538296847899\n"
          ]
        },
        {
          "data": {
            "image/png": "[encoded data removed]",
            "text/plain": [
              "<Figure size 432x288 with 1 Axes>"
            ]
          },
          "metadata": {
            "needs_background": "light"
          },
          "output_type": "display_data"
        }
      ],
      "source": [
        "Ford_vehicles = vehicles[vehicles['model_category'] == 'Ford']\n",
        "Ford_vehicles.plot(x='sell_age', y='price', kind='scatter')\n",
        "\n",
        "print('Correlation between sell_age and price:' ,vehicles['sell_age'].corr(vehicles['price']))"
      ]
    },
    {
      "cell_type": "markdown",
      "metadata": {
        "id": "zO-fKmPpvwFw"
      },
      "source": [
        "### Conclusion  \n",
        "* Based upon both the scatter chart and corr(), age and increased price are correlated.  According to the correlation coefficient, they have a negative correlation, i.e., the lower the age of the vehicle, the higher the price of the vehicle.  It's not a strong correlation but it does reflect that there is a connection between the two elements.  \n",
        "\n"
      ]
    },
    {
      "cell_type": "code",
      "execution_count": null,
      "metadata": {
        "id": "-FI4xGOGvwF4",
        "outputId": "2eadb774-d33f-4341-e834-d929c5367573"
      },
      "outputs": [
        {
          "name": "stdout",
          "output_type": "stream",
          "text": [
            "Correlation between odometer reading and price: -0.39045901254348153\n"
          ]
        },
        {
          "data": {
            "image/png": "[encoded data removed]",
            "text/plain": [
              "<Figure size 432x288 with 1 Axes>"
            ]
          },
          "metadata": {
            "needs_background": "light"
          },
          "output_type": "display_data"
        }
      ],
      "source": [
        "Ford_vehicles = vehicles[vehicles['model_category'] == 'Ford']\n",
        "Ford_vehicles.plot(x='odometer', y='price', kind='scatter')\n",
        "\n",
        "print('Correlation between odometer reading and price:' ,vehicles['odometer'].corr(vehicles['price']))"
      ]
    },
    {
      "cell_type": "markdown",
      "metadata": {
        "id": "Xc6rrtjnvwF6"
      },
      "source": [
        "### Conclusion  \n",
        "* Based upon both the scatter chart and corr(), odometer readings and increased price are correlated.  According to the correlation coefficient, they have a negative correlation, i.e., the lower odometer reading of the vehicle, the higher the price of the vehicle.  It's not a strong correlation but it does reflect that there is a connection between the two elements.\n",
        "\n"
      ]
    },
    {
      "cell_type": "code",
      "execution_count": null,
      "metadata": {
        "id": "hUky6XTbvwF7",
        "outputId": "b7b22254-04c4-471e-fe9e-742545e8d9ae"
      },
      "outputs": [
        {
          "name": "stdout",
          "output_type": "stream",
          "text": [
            "Correlation between vehicle condition and price: 0.2223939304983966\n"
          ]
        },
        {
          "data": {
            "image/png": "[encoded data removed]",
            "text/plain": [
              "<Figure size 432x288 with 1 Axes>"
            ]
          },
          "metadata": {
            "needs_background": "light"
          },
          "output_type": "display_data"
        }
      ],
      "source": [
        "Ford_vehicles = vehicles[vehicles['model_category'] == 'Ford']\n",
        "Ford_vehicles.plot(x='condition', y='price', kind='scatter')\n",
        "\n",
        "print('Correlation between vehicle condition and price:' ,vehicles['condition'].corr(vehicles['price']))\n",
        "\n"
      ]
    },
    {
      "cell_type": "markdown",
      "metadata": {
        "id": "OvQXCkqQvwF8"
      },
      "source": [
        "### Conclusion  \n",
        "* For the Ford vehicles, condition seems to be somewhat related to price.  Below 2 (good), the price of the vehicles drops dramatically.  Based upon that, I would expect that the vehicle price would continue upward based on increased condition ratings.  However, that isn't the case entirely.  Vehicles in the range of 2 to 4 seem to have very similar price ranges and vehicles in the range of 5 (highest rating) are a bit lower than those in 2-4.  Why that is, I'm not certain.  But I suspect that it has something to do with the fact that the vehicles in the range of 5 are new vehicles and most vehicles are posted for sale in the same year that they were purchased.  \n",
        "\n",
        "* Additionally, based upon corr(), condition and increased price are correlated.  According to the correlation coefficient, they have a positive correlation, i.e., the better the condition of the vehicle, the higher the price of the vehicle.  It's not a strong correlation but it matches the results of the scatter plot which show the show that the two elements are at least somewhat related.\n",
        "\n",
        "  "
      ]
    },
    {
      "cell_type": "code",
      "execution_count": null,
      "metadata": {
        "id": "Vj9amxxovwF_",
        "outputId": "44722b19-ee61-4187-b126-0f691aa4b2b2"
      },
      "outputs": [
        {
          "name": "stderr",
          "output_type": "stream",
          "text": [
            "/opt/conda/lib/python3.7/site-packages/numpy/core/_asarray.py:83: VisibleDeprecationWarning: Creating an ndarray from ragged nested sequences (which is a list-or-tuple of lists-or-tuples-or ndarrays with different lengths or shapes) is deprecated. If you meant to do this, you must specify 'dtype=object' when creating the ndarray\n",
            "  return array(a, dtype, copy=False, order=order)\n"
          ]
        },
        {
          "data": {
            "image/png": "[encoded data removed]",
            "text/plain": [
              "<Figure size 432x288 with 1 Axes>"
            ]
          },
          "metadata": {
            "needs_background": "light"
          },
          "output_type": "display_data"
        },
        {
          "name": "stdout",
          "output_type": "stream",
          "text": [
            "Correlation between price and type of transmission: 0.06234180672345733\n"
          ]
        }
      ],
      "source": [
        "#numerical_transmission = {'automatic' : 1, 'manual' : 2, 'other' : 3}\n",
        "#vehicles.replace({'automatic' : numerical_transmission, 'manual' : numerical_transmission, 'other' : numerical_transmission})\n",
        "\n",
        "Ford_vehicles = vehicles[vehicles['model_category'] == 'Ford']\n",
        "Ford_vehicles.boxplot(column=\"price\", by=\"transmission\")\n",
        "#Ford_vehicles.groupby['transmission']\n",
        "plt.show()\n",
        "\n",
        "\n",
        "print('Correlation between price and type of transmission:' ,vehicles['price'].corr(vehicles['transmission']))"
      ]
    },
    {
      "cell_type": "markdown",
      "metadata": {
        "id": "22pnKLTlvwGA"
      },
      "source": [
        "### Conclusion  \n",
        "* Based upon the box plot, price does seem to be impacted by transmission type with vehicles that have automatic transmissions falling into the higher price range.  The difference between automatic and manual don't seem to be great but there is a small difference\n",
        "\n",
        "* Based upon corr(), transmission type and increased price are minimally correlated.  According to the correlation coefficient, they have a positive correlation, but it is very minimal.\n",
        ""
      ]
    },
    {
      "cell_type": "code",
      "execution_count": null,
      "metadata": {
        "id": "4KnxL9lVvwGC",
        "outputId": "83fa7f4f-1c42-435b-cdb1-03d78594d4a4"
      },
      "outputs": [
        {
          "data": {
            "text/html": [
              "<div>\n",
              "<style scoped>\n",
              "    .dataframe tbody tr th:only-of-type {\n",
              "        vertical-align: middle;\n",
              "    }\n",
              "\n",
              "    .dataframe tbody tr th {\n",
              "        vertical-align: top;\n",
              "    }\n",
              "\n",
              "    .dataframe thead th {\n",
              "        text-align: right;\n",
              "    }\n",
              "</style>\n",
              "<table border=\"1\" class=\"dataframe\">\n",
              "  <thead>\n",
              "    <tr style=\"text-align: right;\">\n",
              "      <th></th>\n",
              "      <th>price</th>\n",
              "      <th>model_year</th>\n",
              "      <th>model</th>\n",
              "      <th>condition</th>\n",
              "      <th>cylinders</th>\n",
              "      <th>fuel</th>\n",
              "      <th>odometer</th>\n",
              "      <th>transmission</th>\n",
              "      <th>type</th>\n",
              "      <th>paint_color</th>\n",
              "      <th>is_4wd</th>\n",
              "      <th>date_posted</th>\n",
              "      <th>days_listed</th>\n",
              "      <th>weekday</th>\n",
              "      <th>year_posted</th>\n",
              "      <th>month_posted</th>\n",
              "      <th>sell_age</th>\n",
              "      <th>float_sell_age</th>\n",
              "      <th>avg_mileage</th>\n",
              "      <th>model_category</th>\n",
              "    </tr>\n",
              "  </thead>\n",
              "  <tbody>\n",
              "    <tr>\n",
              "      <td>0</td>\n",
              "      <td>9400</td>\n",
              "      <td>2011</td>\n",
              "      <td>bmw x5</td>\n",
              "      <td>2</td>\n",
              "      <td>6</td>\n",
              "      <td>gas</td>\n",
              "      <td>145000</td>\n",
              "      <td>1</td>\n",
              "      <td>SUV</td>\n",
              "      <td>0</td>\n",
              "      <td>1</td>\n",
              "      <td>2018-06-23</td>\n",
              "      <td>19</td>\n",
              "      <td>5</td>\n",
              "      <td>2018</td>\n",
              "      <td>6</td>\n",
              "      <td>7</td>\n",
              "      <td>7.0</td>\n",
              "      <td>20714</td>\n",
              "      <td>BMW</td>\n",
              "    </tr>\n",
              "    <tr>\n",
              "      <td>2</td>\n",
              "      <td>5500</td>\n",
              "      <td>2013</td>\n",
              "      <td>hyundai sonata</td>\n",
              "      <td>4</td>\n",
              "      <td>4</td>\n",
              "      <td>gas</td>\n",
              "      <td>110000</td>\n",
              "      <td>1</td>\n",
              "      <td>sedan</td>\n",
              "      <td>1</td>\n",
              "      <td>0</td>\n",
              "      <td>2019-02-07</td>\n",
              "      <td>79</td>\n",
              "      <td>3</td>\n",
              "      <td>2019</td>\n",
              "      <td>2</td>\n",
              "      <td>6</td>\n",
              "      <td>6.0</td>\n",
              "      <td>18333</td>\n",
              "      <td>Hyundai</td>\n",
              "    </tr>\n",
              "    <tr>\n",
              "      <td>3</td>\n",
              "      <td>1500</td>\n",
              "      <td>2003</td>\n",
              "      <td>ford f-150</td>\n",
              "      <td>1</td>\n",
              "      <td>8</td>\n",
              "      <td>gas</td>\n",
              "      <td>115323</td>\n",
              "      <td>1</td>\n",
              "      <td>pickup</td>\n",
              "      <td>0</td>\n",
              "      <td>0</td>\n",
              "      <td>2019-03-22</td>\n",
              "      <td>9</td>\n",
              "      <td>4</td>\n",
              "      <td>2019</td>\n",
              "      <td>3</td>\n",
              "      <td>16</td>\n",
              "      <td>16.0</td>\n",
              "      <td>7207</td>\n",
              "      <td>Ford</td>\n",
              "    </tr>\n",
              "    <tr>\n",
              "      <td>4</td>\n",
              "      <td>14900</td>\n",
              "      <td>2017</td>\n",
              "      <td>chrysler 200</td>\n",
              "      <td>3</td>\n",
              "      <td>4</td>\n",
              "      <td>gas</td>\n",
              "      <td>80903</td>\n",
              "      <td>1</td>\n",
              "      <td>sedan</td>\n",
              "      <td>2</td>\n",
              "      <td>0</td>\n",
              "      <td>2019-04-02</td>\n",
              "      <td>28</td>\n",
              "      <td>1</td>\n",
              "      <td>2019</td>\n",
              "      <td>4</td>\n",
              "      <td>2</td>\n",
              "      <td>2.0</td>\n",
              "      <td>40451</td>\n",
              "      <td>Chrysler</td>\n",
              "    </tr>\n",
              "    <tr>\n",
              "      <td>5</td>\n",
              "      <td>14990</td>\n",
              "      <td>2014</td>\n",
              "      <td>chrysler 300</td>\n",
              "      <td>3</td>\n",
              "      <td>6</td>\n",
              "      <td>gas</td>\n",
              "      <td>57954</td>\n",
              "      <td>1</td>\n",
              "      <td>sedan</td>\n",
              "      <td>2</td>\n",
              "      <td>1</td>\n",
              "      <td>2018-06-20</td>\n",
              "      <td>15</td>\n",
              "      <td>2</td>\n",
              "      <td>2018</td>\n",
              "      <td>6</td>\n",
              "      <td>4</td>\n",
              "      <td>4.0</td>\n",
              "      <td>14488</td>\n",
              "      <td>Chrysler</td>\n",
              "    </tr>\n",
              "  </tbody>\n",
              "</table>\n",
              "</div>"
            ],
            "text/plain": [
              "   price  model_year           model  condition  cylinders fuel  odometer  \\\n",
              "0   9400        2011          bmw x5          2          6  gas    145000   \n",
              "2   5500        2013  hyundai sonata          4          4  gas    110000   \n",
              "3   1500        2003      ford f-150          1          8  gas    115323   \n",
              "4  14900        2017    chrysler 200          3          4  gas     80903   \n",
              "5  14990        2014    chrysler 300          3          6  gas     57954   \n",
              "\n",
              "   transmission    type  paint_color  is_4wd date_posted  days_listed  \\\n",
              "0             1     SUV            0       1  2018-06-23           19   \n",
              "2             1   sedan            1       0  2019-02-07           79   \n",
              "3             1  pickup            0       0  2019-03-22            9   \n",
              "4             1   sedan            2       0  2019-04-02           28   \n",
              "5             1   sedan            2       1  2018-06-20           15   \n",
              "\n",
              "   weekday  year_posted  month_posted  sell_age  float_sell_age  avg_mileage  \\\n",
              "0        5         2018             6         7             7.0        20714   \n",
              "2        3         2019             2         6             6.0        18333   \n",
              "3        4         2019             3        16            16.0         7207   \n",
              "4        1         2019             4         2             2.0        40451   \n",
              "5        2         2018             6         4             4.0        14488   \n",
              "\n",
              "  model_category  \n",
              "0            BMW  \n",
              "2        Hyundai  \n",
              "3           Ford  \n",
              "4       Chrysler  \n",
              "5       Chrysler  "
            ]
          },
          "execution_count": 46,
          "metadata": {},
          "output_type": "execute_result"
        }
      ],
      "source": [
        "vehicles['paint_color'].unique()\n",
        "\n",
        "vehicles[\"paint_color\"]= vehicles[\"paint_color\"].replace(\"\", 0)\n",
        "vehicles[\"paint_color\"]= vehicles[\"paint_color\"].replace(\"red\", 1)\n",
        "vehicles[\"paint_color\"]= vehicles[\"paint_color\"].replace(\"black\", 2)\n",
        "vehicles[\"paint_color\"]= vehicles[\"paint_color\"].replace(\"white\", 3)\n",
        "vehicles[\"paint_color\"]= vehicles[\"paint_color\"].replace(\"grey\", 4)\n",
        "vehicles[\"paint_color\"]= vehicles[\"paint_color\"].replace(\"silver\", 5)\n",
        "vehicles[\"paint_color\"]= vehicles[\"paint_color\"].replace(\"custom\", 6)\n",
        "vehicles[\"paint_color\"]= vehicles[\"paint_color\"].replace(\"orange\", 7)\n",
        "vehicles[\"paint_color\"]= vehicles[\"paint_color\"].replace(\"yellow\", 8)\n",
        "vehicles[\"paint_color\"]= vehicles[\"paint_color\"].replace(\"blue\", 9)\n",
        "vehicles[\"paint_color\"]= vehicles[\"paint_color\"].replace(\"brown\", 10)\n",
        "vehicles[\"paint_color\"]= vehicles[\"paint_color\"].replace(\"green\", 11)\n",
        "vehicles[\"paint_color\"]= vehicles[\"paint_color\"].replace(\"purple\", 12)\n",
        "\n",
        "vehicles.head()"
      ]
    },
    {
      "cell_type": "code",
      "execution_count": null,
      "metadata": {
        "id": "v0e153fRvwGF",
        "outputId": "d7667b33-a9f0-477a-c5f7-c52bac0133e9"
      },
      "outputs": [
        {
          "name": "stderr",
          "output_type": "stream",
          "text": [
            "/opt/conda/lib/python3.7/site-packages/numpy/core/_asarray.py:83: VisibleDeprecationWarning: Creating an ndarray from ragged nested sequences (which is a list-or-tuple of lists-or-tuples-or ndarrays with different lengths or shapes) is deprecated. If you meant to do this, you must specify 'dtype=object' when creating the ndarray\n",
            "  return array(a, dtype, copy=False, order=order)\n"
          ]
        },
        {
          "data": {
            "image/png": "[encoded data removed]",
            "text/plain": [
              "<Figure size 432x288 with 1 Axes>"
            ]
          },
          "metadata": {
            "needs_background": "light"
          },
          "output_type": "display_data"
        },
        {
          "name": "stdout",
          "output_type": "stream",
          "text": [
            "Correlation between price and paint color: -0.08985645455979956\n"
          ]
        }
      ],
      "source": [
        "fordColors = Ford_vehicles['paint_color'].unique()\n",
        "#modelrange = range(len(fordColors))\n",
        "modelrange = range(1,len(fordColors)+1)\n",
        "Ford_vehicles = vehicles[vehicles['model_category'] == 'Ford']\n",
        "Ford_vehicles.boxplot(column=\"price\", by=\"paint_color\")\n",
        "plt.xticks(modelrange, fordColors, rotation='vertical')\n",
        "\n",
        "plt.show()\n",
        "\n",
        "print('Correlation between price and paint color:' ,vehicles['price'].corr(vehicles['paint_color']))"
      ]
    },
    {
      "cell_type": "markdown",
      "metadata": {
        "id": "pIaPr2yXvwGI"
      },
      "source": [
        "### Conclusion  \n",
        "* Based upon the box plot, price does seem to be impacted by paint color, but the difference isn't great.  \n",
        "\n",
        "* Based upon corr(), paint color and increased price are minimally correlated. According to the correlation coefficient, they have a negative correlation, but it is very minimal.\n",
        "\n",
        "* Color seems to impact price but not to the same degree as the other elements examined.  Black vehicles seem to fall into the highest price range, followed by red, white, orange and purple.\n",
        ""
      ]
    },
    {
      "cell_type": "code",
      "execution_count": null,
      "metadata": {
        "id": "6Yy_HDAFvwGK",
        "outputId": "804291b1-76fe-4e01-a5b4-e31f9acfef34"
      },
      "outputs": [
        {
          "name": "stdout",
          "output_type": "stream",
          "text": [
            "Correlation between price and sell age: -0.4332538296847899\n"
          ]
        },
        {
          "data": {
            "image/png": "[encoded data removed]",
            "text/plain": [
              "<Figure size 432x288 with 1 Axes>"
            ]
          },
          "metadata": {
            "needs_background": "light"
          },
          "output_type": "display_data"
        }
      ],
      "source": [
        "Chevrolet_vehicles = vehicles[vehicles['model_category'] == 'Chevrolet']\n",
        "Chevrolet_vehicles.plot(x='sell_age', y='price', kind='scatter')\n",
        "\n",
        "print('Correlation between price and sell age:' ,vehicles['price'].corr(vehicles['sell_age']))"
      ]
    },
    {
      "cell_type": "markdown",
      "metadata": {
        "id": "XyVSyrKuvwGL"
      },
      "source": [
        "### Conclusion  \n",
        "* As was the case with the Ford vehicles, based upon both the scatter chart and corr(), age and increased price are correlated.  According to the correlation coefficient, they have a negative correlation, i.e., the lower the age of the vehicle, the higher the price of the vehicle.  It's not a strong correlation, but it does reflect that there is a connection between the two elements."
      ]
    },
    {
      "cell_type": "code",
      "execution_count": null,
      "metadata": {
        "id": "-YI8y-41A4yP",
        "outputId": "47e09b77-e55d-4a3d-83df-94beaaa46e49"
      },
      "outputs": [
        {
          "name": "stdout",
          "output_type": "stream",
          "text": [
            "Correlation between price and odometer: -0.39045901254348153\n"
          ]
        },
        {
          "data": {
            "image/png": "[encoded data removed]",
            "text/plain": [
              "<Figure size 432x288 with 1 Axes>"
            ]
          },
          "metadata": {
            "needs_background": "light"
          },
          "output_type": "display_data"
        }
      ],
      "source": [
        "Chevrolet_vehicles = vehicles[vehicles['model_category'] == 'Chevrolet']\n",
        "Chevrolet_vehicles.plot(x='odometer', y='price', kind='scatter')\n",
        "\n",
        "print('Correlation between price and odometer:' ,vehicles['price'].corr(vehicles['odometer']))"
      ]
    },
    {
      "cell_type": "markdown",
      "metadata": {
        "id": "QbYKXXPSvwGO"
      },
      "source": [
        "### Conclusion  \n",
        "* Also, as was the case with Ford, based upon both the scatter chart and corr(), odometer readings and increased price are correlated.  According to the correlation coefficient, they have a negative correlation, i.e., the lower the odometer reading of the vehicle, the higher the price of the vehicle.  It's not a strong correlation, but it does reflect that there is a connection between the two elements.  "
      ]
    },
    {
      "cell_type": "code",
      "execution_count": null,
      "metadata": {
        "id": "xU2ES0QTvwGP",
        "outputId": "819b89a0-b237-4896-ab58-8202ee980636"
      },
      "outputs": [
        {
          "name": "stdout",
          "output_type": "stream",
          "text": [
            "Correlation between price and condition: 0.22239393049839662\n"
          ]
        },
        {
          "data": {
            "image/png": "[encoded data removed]",
            "text/plain": [
              "<Figure size 432x288 with 1 Axes>"
            ]
          },
          "metadata": {
            "needs_background": "light"
          },
          "output_type": "display_data"
        }
      ],
      "source": [
        "Chevrolet_vehicles = vehicles[vehicles['model_category'] == 'Chevrolet']\n",
        "Chevrolet_vehicles.plot(x='condition', y='price', kind='scatter')\n",
        "\n",
        "print('Correlation between price and condition:' ,vehicles['price'].corr(vehicles['condition']))"
      ]
    },
    {
      "cell_type": "markdown",
      "metadata": {
        "id": "6ULVSaw_vwGQ"
      },
      "source": [
        "### Conclusion  \n",
        "* Based upon both the scatter chart and corr(), condition and increased price are correlated.  According to the correlation coefficient, they have a positive correlation, i.e., the better the condition of the vehicle, the higher the price of the vehicle.  It's not a strong correlation, but it does reflect that there is a connection between the two elements.\n",
        "\n",
        "* Condition and price with the Chevrolet vehicles tend to follow the same pattern as that of the Ford vehicles with one slight exception.  For the Chevrolet vehicles, those in new condition (5), seem to have a bit of a higher price value than the others overall.\n",
        ""
      ]
    },
    {
      "cell_type": "code",
      "execution_count": null,
      "metadata": {
        "id": "-4gBwVtEvwGS",
        "outputId": "58782e5a-3f26-430d-cc74-f0c0b4fb82f3"
      },
      "outputs": [
        {
          "name": "stderr",
          "output_type": "stream",
          "text": [
            "/opt/conda/lib/python3.7/site-packages/numpy/core/_asarray.py:83: VisibleDeprecationWarning: Creating an ndarray from ragged nested sequences (which is a list-or-tuple of lists-or-tuples-or ndarrays with different lengths or shapes) is deprecated. If you meant to do this, you must specify 'dtype=object' when creating the ndarray\n",
            "  return array(a, dtype, copy=False, order=order)\n"
          ]
        },
        {
          "data": {
            "image/png": "[encoded data removed]",
            "text/plain": [
              "<Figure size 432x288 with 1 Axes>"
            ]
          },
          "metadata": {
            "needs_background": "light"
          },
          "output_type": "display_data"
        },
        {
          "name": "stdout",
          "output_type": "stream",
          "text": [
            "Correlation between price and transmission: 0.06234180672345733\n"
          ]
        }
      ],
      "source": [
        "Chevrolet_vehicles = vehicles[vehicles['model_category'] == 'Chevrolet']\n",
        "Chevrolet_vehicles.boxplot(column=\"price\", by=\"transmission\")\n",
        "#Chevrolet_vehicles.groupby['transmission']\n",
        "plt.show()\n",
        "\n",
        "print('Correlation between price and transmission:' ,vehicles['price'].corr(vehicles['transmission']))"
      ]
    },
    {
      "cell_type": "markdown",
      "metadata": {
        "id": "d7wMvzHtvwGU"
      },
      "source": [
        "### Conclusion  \n",
        "* Additionally, as was the case with Ford, based upon the box plot, price does seem to be impacted by transmission type with vehicles that have automatic transmissions falling into the higher price range. The difference between automatic and manual don't seem to be great but there is a small difference\n",
        "\n",
        "* Based upon corr(), transmission type and increased price are minimally correlated. According to the correlation coefficient, they have a positive correlation, but it is very minimal.\n"
      ]
    },
    {
      "cell_type": "code",
      "execution_count": null,
      "metadata": {
        "id": "flvYm83fvwGW",
        "outputId": "15de167c-67b4-468f-923e-d2ce93312465"
      },
      "outputs": [
        {
          "name": "stderr",
          "output_type": "stream",
          "text": [
            "/opt/conda/lib/python3.7/site-packages/numpy/core/_asarray.py:83: VisibleDeprecationWarning: Creating an ndarray from ragged nested sequences (which is a list-or-tuple of lists-or-tuples-or ndarrays with different lengths or shapes) is deprecated. If you meant to do this, you must specify 'dtype=object' when creating the ndarray\n",
            "  return array(a, dtype, copy=False, order=order)\n"
          ]
        },
        {
          "data": {
            "image/png": "[encoded data removed]",
            "text/plain": [
              "<Figure size 432x288 with 1 Axes>"
            ]
          },
          "metadata": {
            "needs_background": "light"
          },
          "output_type": "display_data"
        },
        {
          "name": "stdout",
          "output_type": "stream",
          "text": [
            "Correlation between price and paint color: -0.08985645455979956\n"
          ]
        }
      ],
      "source": [
        "chevroletColors = Chevrolet_vehicles['paint_color'].unique()\n",
        "modelrange = range(len(chevroletColors))\n",
        "Chevrolet_vehicles = vehicles[vehicles['model_category'] == 'Ford']\n",
        "Chevrolet_vehicles.boxplot(column=\"price\", by=\"paint_color\")\n",
        "plt.xticks(modelrange, chevroletColors, rotation='vertical')\n",
        "\n",
        "plt.show()\n",
        "\n",
        "print('Correlation between price and paint color:' ,vehicles['price'].corr(vehicles['paint_color']))"
      ]
    },
    {
      "cell_type": "markdown",
      "metadata": {
        "id": "DGLzD298vwGY"
      },
      "source": [
        "### Conclusion  \n",
        "* And finally, as was the case with Ford, there are slight differences in the values of Chevrolet vehicles based on color but not a significant difference.  \n",
        "\n",
        "* Based upon the box plot, price does seem to be impacted by paint color, but the difference isn't great.  \n",
        "\n",
        "* Based upon corr(), paint color and increased price are minimally correlated. According to the correlation coefficient, they have a negative correlation, but it is very minimal.\n"
      ]
    },
    {
      "cell_type": "markdown",
      "metadata": {
        "id": "gG8zNRhtvwGb"
      },
      "source": [
        "### Step 5. Overall conclusion"
      ]
    },
    {
      "cell_type": "markdown",
      "metadata": {
        "id": "58XLwpsAvwGc"
      },
      "source": [
        "Factors that influence vehicle price:\n",
        "\n",
        "In general, age at the time of sale, transmission, condition and odometer levels seem to impact the prices of vehicles.\n",
        "\n",
        "* Vehicles ranging from age 0-5 seem to have the highest resell prices/values, with a significant drop in price coming after 10 years of sell_age.\n",
        "* Vehicles with odometer readings of 100,000 miles and below have the highest resell prices/values, with a significant drop in price coming after 200,000 miles.  \n",
        "* Vehicles with condition ratings between 2 and 4 (good and like new) have the highest resell prices/values overall.  With Chevrolet having a bit of a spike in value of vehicles with the number 5 rating.  \n",
        "* Overall, the value of vehicles with automatic transmissions is higher than that of vehicles with manual transmissions with the difference in value generally being around $20,000.  \n",
        "* And the value of vehicles based upon color doesn't seem to be significant.  The price differences are generally slight.\n"
      ]
    }
  ],
  "metadata": {
    "kernelspec": {
      "display_name": "Python 3",
      "language": "python",
      "name": "python3"
    },
    "language_info": {
      "codemirror_mode": {
        "name": "ipython",
        "version": 3
      },
      "file_extension": ".py",
      "mimetype": "text/x-python",
      "name": "python",
      "nbconvert_exporter": "python",
      "pygments_lexer": "ipython3",
      "version": "3.7.8"
    },
    "toc": {
      "base_numbering": 1,
      "nav_menu": {},
      "number_sections": true,
      "sideBar": true,
      "skip_h1_title": true,
      "title_cell": "Table of Contents",
      "title_sidebar": "Contents",
      "toc_cell": false,
      "toc_position": {},
      "toc_section_display": true,
      "toc_window_display": false
    },
    "colab": {
      "provenance": []
    }
  },
  "nbformat": 4,
  "nbformat_minor": 0
}