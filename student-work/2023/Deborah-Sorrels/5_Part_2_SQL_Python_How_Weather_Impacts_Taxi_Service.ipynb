{
  "cells": [
    {
      "cell_type": "markdown",
      "metadata": {
        "id": "w8bqhqRM0ePF"
      },
      "source": [
        "# SQL Analysis on How Weather Impacts Taxi Services\n",
        "\n",
        "\n",
        "\n",
        "For this project, I began by retrieving data using HTML parsing and SQL parsing (see Part 1 PDF).  The data retrieved from this process is listed in the three dataframes listed below.\n",
        "\n",
        "For this section of the project, I will be conducting an analysis of data related to Chicago taxi companies, their dropoff locations and whether or not weather impacts the use of said taxi services.\n",
        "\n",
        "## Table of Contents  \n",
        "\n",
        "I. Conducting a general overview of the information\n",
        "\n",
        "II. Preparing data for analysis\n",
        "\n",
        "III. Analysis of the data\n",
        "\n",
        "IV. Hypothesis testing\n",
        "\n",
        "V. Overall Conclusions"
      ]
    },
    {
      "cell_type": "markdown",
      "metadata": {
        "id": "KiibILcf0ePI"
      },
      "source": [
        "## Importing Data"
      ]
    },
    {
      "cell_type": "code",
      "execution_count": null,
      "metadata": {
        "id": "O7CA1BEG0ePK"
      },
      "outputs": [],
      "source": [
        "import pandas as pd\n",
        "from scipy import stats as st\n",
        "import numpy as np\n",
        "\n",
        "\n",
        "november1516 = pd.read_csv('/datasets/project_sql_result_01.csv')\n",
        "destination = pd.read_csv('/datasets/project_sql_result_04.csv')\n",
        "saturday = pd.read_csv('/datasets/project_sql_result_07.csv')"
      ]
    },
    {
      "cell_type": "code",
      "execution_count": null,
      "metadata": {
        "id": "CTjpeypb0eP-",
        "outputId": "889e796f-f981-4914-b4f9-1c5ffca80dbe"
      },
      "outputs": [
        {
          "name": "stdout",
          "output_type": "stream",
          "text": [
            "<class 'pandas.core.frame.DataFrame'>\n",
            "RangeIndex: 64 entries, 0 to 63\n",
            "Data columns (total 2 columns):\n",
            " #   Column        Non-Null Count  Dtype \n",
            "---  ------        --------------  ----- \n",
            " 0   company_name  64 non-null     object\n",
            " 1   trips_amount  64 non-null     int64 \n",
            "dtypes: int64(1), object(1)\n",
            "memory usage: 1.1+ KB\n"
          ]
        }
      ],
      "source": [
        "november1516.info()"
      ]
    },
    {
      "cell_type": "code",
      "execution_count": null,
      "metadata": {
        "id": "CriOv4x40eQD",
        "outputId": "cd80306a-42c7-45aa-a816-15efabac384a"
      },
      "outputs": [
        {
          "name": "stdout",
          "output_type": "stream",
          "text": [
            "<class 'pandas.core.frame.DataFrame'>\n",
            "RangeIndex: 94 entries, 0 to 93\n",
            "Data columns (total 2 columns):\n",
            " #   Column                 Non-Null Count  Dtype  \n",
            "---  ------                 --------------  -----  \n",
            " 0   dropoff_location_name  94 non-null     object \n",
            " 1   average_trips          94 non-null     float64\n",
            "dtypes: float64(1), object(1)\n",
            "memory usage: 1.6+ KB\n"
          ]
        }
      ],
      "source": [
        "destination.info()"
      ]
    },
    {
      "cell_type": "code",
      "execution_count": null,
      "metadata": {
        "id": "tCd2AW7_0eQH",
        "outputId": "3a1a5d9a-856c-4bd7-f661-5024abd8d189"
      },
      "outputs": [
        {
          "name": "stdout",
          "output_type": "stream",
          "text": [
            "<class 'pandas.core.frame.DataFrame'>\n",
            "RangeIndex: 1068 entries, 0 to 1067\n",
            "Data columns (total 3 columns):\n",
            " #   Column              Non-Null Count  Dtype \n",
            "---  ------              --------------  ----- \n",
            " 0   start_ts            1068 non-null   object\n",
            " 1   weather_conditions  1068 non-null   object\n",
            " 2   duration_seconds    1068 non-null   int64 \n",
            "dtypes: int64(1), object(2)\n",
            "memory usage: 25.2+ KB\n",
            "           start_ts weather_conditions  duration_seconds\n",
            "0  11/25/2017 16:00               Good              2410\n",
            "1  11/25/2017 14:00               Good              1920\n",
            "2  11/25/2017 12:00               Good              1543\n",
            "3   11/4/2017 10:00               Good              2512\n",
            "4   11/11/2017 7:00               Good              1440\n"
          ]
        }
      ],
      "source": [
        "saturday.info()\n",
        "print(saturday.head())"
      ]
    },
    {
      "cell_type": "code",
      "execution_count": null,
      "metadata": {
        "id": "4oOJ7TfW0eQJ",
        "outputId": "1f520fef-3b31-41fc-f970-41350be669da"
      },
      "outputs": [
        {
          "data": {
            "text/html": [
              "<div>\n",
              "<style scoped>\n",
              "    .dataframe tbody tr th:only-of-type {\n",
              "        vertical-align: middle;\n",
              "    }\n",
              "\n",
              "    .dataframe tbody tr th {\n",
              "        vertical-align: top;\n",
              "    }\n",
              "\n",
              "    .dataframe thead th {\n",
              "        text-align: right;\n",
              "    }\n",
              "</style>\n",
              "<table border=\"1\" class=\"dataframe\">\n",
              "  <thead>\n",
              "    <tr style=\"text-align: right;\">\n",
              "      <th></th>\n",
              "      <th>trips_amount</th>\n",
              "    </tr>\n",
              "  </thead>\n",
              "  <tbody>\n",
              "    <tr>\n",
              "      <th>count</th>\n",
              "      <td>64.000000</td>\n",
              "    </tr>\n",
              "    <tr>\n",
              "      <th>mean</th>\n",
              "      <td>2145.484375</td>\n",
              "    </tr>\n",
              "    <tr>\n",
              "      <th>std</th>\n",
              "      <td>3812.310186</td>\n",
              "    </tr>\n",
              "    <tr>\n",
              "      <th>min</th>\n",
              "      <td>2.000000</td>\n",
              "    </tr>\n",
              "    <tr>\n",
              "      <th>25%</th>\n",
              "      <td>20.750000</td>\n",
              "    </tr>\n",
              "    <tr>\n",
              "      <th>50%</th>\n",
              "      <td>178.500000</td>\n",
              "    </tr>\n",
              "    <tr>\n",
              "      <th>75%</th>\n",
              "      <td>2106.500000</td>\n",
              "    </tr>\n",
              "    <tr>\n",
              "      <th>max</th>\n",
              "      <td>19558.000000</td>\n",
              "    </tr>\n",
              "  </tbody>\n",
              "</table>\n",
              "</div>"
            ],
            "text/plain": [
              "       trips_amount\n",
              "count     64.000000\n",
              "mean    2145.484375\n",
              "std     3812.310186\n",
              "min        2.000000\n",
              "25%       20.750000\n",
              "50%      178.500000\n",
              "75%     2106.500000\n",
              "max    19558.000000"
            ]
          },
          "execution_count": 92,
          "metadata": {},
          "output_type": "execute_result"
        }
      ],
      "source": [
        "november1516.describe()"
      ]
    },
    {
      "cell_type": "code",
      "execution_count": null,
      "metadata": {
        "id": "8WTikuEW0eQL",
        "outputId": "17fd2299-1d5a-496d-c6a6-8c777d094a96"
      },
      "outputs": [
        {
          "data": {
            "text/html": [
              "<div>\n",
              "<style scoped>\n",
              "    .dataframe tbody tr th:only-of-type {\n",
              "        vertical-align: middle;\n",
              "    }\n",
              "\n",
              "    .dataframe tbody tr th {\n",
              "        vertical-align: top;\n",
              "    }\n",
              "\n",
              "    .dataframe thead th {\n",
              "        text-align: right;\n",
              "    }\n",
              "</style>\n",
              "<table border=\"1\" class=\"dataframe\">\n",
              "  <thead>\n",
              "    <tr style=\"text-align: right;\">\n",
              "      <th></th>\n",
              "      <th>average_trips</th>\n",
              "    </tr>\n",
              "  </thead>\n",
              "  <tbody>\n",
              "    <tr>\n",
              "      <th>count</th>\n",
              "      <td>94.000000</td>\n",
              "    </tr>\n",
              "    <tr>\n",
              "      <th>mean</th>\n",
              "      <td>599.953728</td>\n",
              "    </tr>\n",
              "    <tr>\n",
              "      <th>std</th>\n",
              "      <td>1714.591098</td>\n",
              "    </tr>\n",
              "    <tr>\n",
              "      <th>min</th>\n",
              "      <td>1.800000</td>\n",
              "    </tr>\n",
              "    <tr>\n",
              "      <th>25%</th>\n",
              "      <td>14.266667</td>\n",
              "    </tr>\n",
              "    <tr>\n",
              "      <th>50%</th>\n",
              "      <td>52.016667</td>\n",
              "    </tr>\n",
              "    <tr>\n",
              "      <th>75%</th>\n",
              "      <td>298.858333</td>\n",
              "    </tr>\n",
              "    <tr>\n",
              "      <th>max</th>\n",
              "      <td>10727.466670</td>\n",
              "    </tr>\n",
              "  </tbody>\n",
              "</table>\n",
              "</div>"
            ],
            "text/plain": [
              "       average_trips\n",
              "count      94.000000\n",
              "mean      599.953728\n",
              "std      1714.591098\n",
              "min         1.800000\n",
              "25%        14.266667\n",
              "50%        52.016667\n",
              "75%       298.858333\n",
              "max     10727.466670"
            ]
          },
          "execution_count": 93,
          "metadata": {},
          "output_type": "execute_result"
        }
      ],
      "source": [
        "destination.describe()"
      ]
    },
    {
      "cell_type": "code",
      "execution_count": null,
      "metadata": {
        "id": "avhqZk5H0eQN",
        "outputId": "c76d72f2-f572-43e9-a700-89283e2455c8"
      },
      "outputs": [
        {
          "data": {
            "text/html": [
              "<div>\n",
              "<style scoped>\n",
              "    .dataframe tbody tr th:only-of-type {\n",
              "        vertical-align: middle;\n",
              "    }\n",
              "\n",
              "    .dataframe tbody tr th {\n",
              "        vertical-align: top;\n",
              "    }\n",
              "\n",
              "    .dataframe thead th {\n",
              "        text-align: right;\n",
              "    }\n",
              "</style>\n",
              "<table border=\"1\" class=\"dataframe\">\n",
              "  <thead>\n",
              "    <tr style=\"text-align: right;\">\n",
              "      <th></th>\n",
              "      <th>duration_seconds</th>\n",
              "    </tr>\n",
              "  </thead>\n",
              "  <tbody>\n",
              "    <tr>\n",
              "      <th>count</th>\n",
              "      <td>1068.000000</td>\n",
              "    </tr>\n",
              "    <tr>\n",
              "      <th>mean</th>\n",
              "      <td>2071.731273</td>\n",
              "    </tr>\n",
              "    <tr>\n",
              "      <th>std</th>\n",
              "      <td>769.461125</td>\n",
              "    </tr>\n",
              "    <tr>\n",
              "      <th>min</th>\n",
              "      <td>0.000000</td>\n",
              "    </tr>\n",
              "    <tr>\n",
              "      <th>25%</th>\n",
              "      <td>1438.250000</td>\n",
              "    </tr>\n",
              "    <tr>\n",
              "      <th>50%</th>\n",
              "      <td>1980.000000</td>\n",
              "    </tr>\n",
              "    <tr>\n",
              "      <th>75%</th>\n",
              "      <td>2580.000000</td>\n",
              "    </tr>\n",
              "    <tr>\n",
              "      <th>max</th>\n",
              "      <td>7440.000000</td>\n",
              "    </tr>\n",
              "  </tbody>\n",
              "</table>\n",
              "</div>"
            ],
            "text/plain": [
              "       duration_seconds\n",
              "count       1068.000000\n",
              "mean        2071.731273\n",
              "std          769.461125\n",
              "min            0.000000\n",
              "25%         1438.250000\n",
              "50%         1980.000000\n",
              "75%         2580.000000\n",
              "max         7440.000000"
            ]
          },
          "execution_count": 94,
          "metadata": {},
          "output_type": "execute_result"
        }
      ],
      "source": [
        "saturday.describe()"
      ]
    },
    {
      "cell_type": "markdown",
      "metadata": {
        "id": "gwoloexZ0eQR"
      },
      "source": [
        "### Conclusion  \n",
        "* As all the data was retrieved through HTML and SQL parsing, none of the dataframes contained missing information.\n",
        "\n",
        "* The number of taxi trips over the course of a two-day timespan (dataframe: november1516) varied greatly with the highest trip number being almost 20,000 trips by one taxi service and the lowest being 2 trips for another taxi service.    \n",
        "\n",
        "* The number of trips that ended in particular locations also ranged greatly with one end location having an average of over 10000 drop-offs per day in November, while  the lowest number of drop-offs for a given location was 1.8 per day in November.\n",
        "\n",
        "* Finally, the time length for trips taken on the various Saturdays of November 2017, also varied.  The longest trip was 7440 seconds or 2 hours and 4 minutes whereas the average trip length was 2071 seconds or 34 minutes.\n"
      ]
    },
    {
      "cell_type": "markdown",
      "metadata": {
        "id": "7v51D2_Q0eQT"
      },
      "source": [
        "## Data Preprocessing"
      ]
    },
    {
      "cell_type": "code",
      "execution_count": null,
      "metadata": {
        "id": "onHA0KuG0eQU"
      },
      "outputs": [],
      "source": [
        "\n",
        "\n",
        "saturday['start_ts_datetime'] = pd.to_datetime(saturday['start_ts'], format= '%m/%d/%Y %H:%M')"
      ]
    },
    {
      "cell_type": "markdown",
      "metadata": {
        "id": "QA_F6ck00eQW"
      },
      "source": [
        "## Conclusion"
      ]
    },
    {
      "cell_type": "markdown",
      "metadata": {
        "id": "ZaLJMs9G0eQX"
      },
      "source": [
        "* There was very little work for me to do by means of data preprocessing.  There was no missing data, and everything was in order already as issues had been taken care of in the previous two sections (See Part 1 PDF).\n",
        "\n",
        "* The only thing I ended up doing was converting the 'start_ts' column of the database, Saturday, to datetime.\n"
      ]
    },
    {
      "cell_type": "markdown",
      "metadata": {
        "id": "fT9wHW6H0eQZ"
      },
      "source": [
        "## Exploratory data analysis"
      ]
    },
    {
      "cell_type": "code",
      "execution_count": null,
      "metadata": {
        "id": "cSgqIAKe0eQa"
      },
      "outputs": [],
      "source": [
        "top_ten = destination.head(10)"
      ]
    },
    {
      "cell_type": "code",
      "execution_count": null,
      "metadata": {
        "id": "6YVxdBli0eQb",
        "outputId": "333a0827-97bd-48f2-e1c3-e33e06ab0fd7"
      },
      "outputs": [
        {
          "data": {
            "text/plain": [
              "Text(0, 0.5, 'Average Trips')"
            ]
          },
          "execution_count": 97,
          "metadata": {},
          "output_type": "execute_result"
        },
        {
          "data": {
            "image/png": "[encoded data removed]",
            "text/plain": [
              "<Figure size 432x288 with 1 Axes>"
            ]
          },
          "metadata": {
            "needs_background": "light"
          },
          "output_type": "display_data"
        }
      ],
      "source": [
        "top_ten.plot(x='dropoff_location_name', y='average_trips', kind='bar');\n",
        "plt.xlabel('Dropoff Location Name')\n",
        "plt.ylabel('Average Trips')"
      ]
    },
    {
      "cell_type": "code",
      "execution_count": null,
      "metadata": {
        "id": "CH9g_8GD0eQe",
        "outputId": "6ac28ae6-22d8-416c-d9d5-b9f73b09c449"
      },
      "outputs": [
        {
          "data": {
            "text/plain": [
              "Text(0, 0.5, 'Trips Amount')"
            ]
          },
          "execution_count": 98,
          "metadata": {},
          "output_type": "execute_result"
        },
        {
          "data": {
            "image/png": "[encoded data removed]",
            "text/plain": [
              "<Figure size 432x288 with 1 Axes>"
            ]
          },
          "metadata": {
            "needs_background": "light"
          },
          "output_type": "display_data"
        }
      ],
      "source": [
        "taxi_top_fifteen = november1516.head(15)\n",
        "\n",
        "taxi_top_fifteen.plot(x='company_name', y='trips_amount', kind='bar');\n",
        "plt.xlabel('Company Name')\n",
        "plt.ylabel('Trips Amount')"
      ]
    },
    {
      "cell_type": "markdown",
      "metadata": {
        "id": "m2-vJbop0eQh"
      },
      "source": [
        "### Conclusion  \n",
        "* To begin, the majority of the drop-off locations in Chicago were relegated to four particular areas: Loop, River North, Streeterville, and West Loop.  Technically, this makes sense as these four areas encompass the city's main community areas, business district and tourist sites.\n",
        "\n",
        "* For the graph on taxi companies and the number of trips they conducted over a two-day period in Chicago, I opted to go with the top 15 companies and not the top 10 as I felt it showed the decline in services provided by the companies better.\n",
        "\n",
        "* The bulk of the taxi rides were conducted by Flash Cab, i.e., over 19500 trips.\n",
        "\n",
        "* The second highest number of trips were conducted by Taxi Affiliation Services, 11400+ -- a drop of almost half that of Flash Cab.  \n",
        "\n",
        "* From this point onward, the decline continued to as little as 2000+ trips per day by Patriot Taxi Dba Peace Taxi Associat.\n",
        "\n",
        "\n",
        "\n",
        "\n"
      ]
    },
    {
      "cell_type": "markdown",
      "metadata": {
        "id": "OzXR2dX10eQi"
      },
      "source": [
        "## Hypothesis Testing"
      ]
    },
    {
      "cell_type": "code",
      "execution_count": null,
      "metadata": {
        "id": "9u07qRsJ0eQj",
        "outputId": "38e84b13-0ed9-4c83-b70a-1486d4dfc7bf"
      },
      "outputs": [
        {
          "name": "stdout",
          "output_type": "stream",
          "text": [
            "p-value:  6.517970327099473e-12\n",
            "There is a difference in the average duration of rides from Loop neighborhood to O'Hare International Airport changes on rainy Saturdays \n"
          ]
        }
      ],
      "source": [
        "alpha = .05\n",
        "\n",
        "results = st.ttest_ind(saturday[saturday.weather_conditions=='Good'].duration_seconds, saturday[saturday.weather_conditions=='Bad'].duration_seconds)\n",
        "\n",
        "print('p-value: ', results.pvalue)\n",
        "\n",
        "alpha = 0.05\n",
        "if (results.pvalue < alpha):\n",
        "        print(\"There is a difference in the average duration of rides from Loop neighborhood to O'Hare International Airport changes on rainy Saturdays \")\n",
        "else:\n",
        "        print(\"There is not a difference in the  average duration of rides from Loop neighborhood to O'Hare International Airport changes on rainy Saturdays\")"
      ]
    },
    {
      "cell_type": "code",
      "execution_count": null,
      "metadata": {
        "id": "1sO8DgUh0eQm",
        "outputId": "4e299eac-1b4a-4db5-bf9d-8c3a4749629d"
      },
      "outputs": [
        {
          "name": "stdout",
          "output_type": "stream",
          "text": [
            "1999.6756756756756\n",
            "2427.2055555555557\n"
          ]
        }
      ],
      "source": [
        "print(saturday[saturday.weather_conditions=='Good'].duration_seconds.mean())\n",
        "print(saturday[saturday.weather_conditions=='Bad'].duration_seconds.mean())"
      ]
    },
    {
      "cell_type": "markdown",
      "metadata": {
        "id": "9QG9Sgki0eQt"
      },
      "source": [
        "### Conclusion  \n",
        "Based upon the results of the hypothesis test, there is a significant difference in the duration of rides to the airport on bad days versus good days.  On bad days, movement is slowed significantly, probably due to rainy weather and traffic jams."
      ]
    },
    {
      "cell_type": "markdown",
      "metadata": {
        "id": "TlJL7v940eQx"
      },
      "source": [
        "### Overall Conclusion  \n",
        "* To begin, most of the drop-off locations in Chicago were relegated to four particular areas: Loop, River North, Streeterville, and West Loop. Technically, this makes sense as these four areas encompass the city's main community areas, business district and tourist sites.\n",
        "\n",
        "* Moreover, the bulk of the taxi rides in Chicago were conducted by one cab company, Flash Cab, with over 19500 trips.\n",
        "\n",
        "* The second highest number of trips were conducted by Taxi Affiliation Services, 11400+ -- a drop of almost half that of Flash Cab.\n",
        "\n",
        "* From this point onward, the decline continued to as little as 2000+ trips per day by Patriot Taxi Dba Peace Taxi Associat.\n",
        "\n",
        "* Finally, based upon the results of the hypothesis test, there is a significant difference in the duration of rides to the airport on bad days versus good days. On bad days, movement is slowed significantly, probably due to rainy weather and traffic jams.\n"
      ]
    }
  ],
  "metadata": {
    "kernelspec": {
      "display_name": "Python 3",
      "language": "python",
      "name": "python3"
    },
    "language_info": {
      "codemirror_mode": {
        "name": "ipython",
        "version": 3
      },
      "file_extension": ".py",
      "mimetype": "text/x-python",
      "name": "python",
      "nbconvert_exporter": "python",
      "pygments_lexer": "ipython3",
      "version": "3.7.8"
    },
    "toc": {
      "base_numbering": 1,
      "nav_menu": {},
      "number_sections": true,
      "sideBar": true,
      "skip_h1_title": true,
      "title_cell": "Table of Contents",
      "title_sidebar": "Contents",
      "toc_cell": false,
      "toc_position": {},
      "toc_section_display": true,
      "toc_window_display": false
    },
    "colab": {
      "provenance": []
    }
  },
  "nbformat": 4,
  "nbformat_minor": 0
}