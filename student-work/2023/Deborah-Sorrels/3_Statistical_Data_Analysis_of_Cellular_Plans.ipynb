{
  "cells": [
    {
      "cell_type": "markdown",
      "source": [
        "# Statistical Data Analysis of Celluar Plans  \n",
        "\n",
        "You work as an analyst for the telecom operator Megaline. The company offers its clients two prepaid plans, Surf and Ultimate. The commercial department wants to know which of the plans is more profitable in order to adjust the advertising budget.  \n",
        "\n",
        "You will carry out a preliminary analysis of the plans based on a relatively small client selection. Your job is to analyze clients' behavior and determine which prepaid plan is more profitable.\n"
      ],
      "metadata": {
        "id": "99UbHdhxHqRg"
      }
    },
    {
      "cell_type": "markdown",
      "source": [
        "## Table of Contents   \n",
        "\n",
        "Step 1. Open the Data File and Study the General Information  \n",
        "Step 2. Data Preprocessing   \n",
        "Step 3. Analyze the Data   \n",
        "Step 4. Test the Hypotheses  \n",
        "Step 5. Overall Conclusion  "
      ],
      "metadata": {
        "id": "mQH1I2Y4IFdu"
      }
    },
    {
      "cell_type": "markdown",
      "metadata": {
        "id": "v2aNLm-vCz-e"
      },
      "source": [
        "## **Step 1. Open the data file and study the general information**\n",
        "\n",
        "\n",
        "<div class=\"alert alert-block alert-info\">\n",
        "\n",
        "\n",
        "\n"
      ]
    },
    {
      "cell_type": "code",
      "execution_count": null,
      "metadata": {
        "id": "o8s8MWHpCz-l"
      },
      "outputs": [],
      "source": [
        "import pandas as pd\n",
        "from scipy import stats as st\n",
        "import numpy as np\n",
        "\n",
        "calls = pd.read_csv('/datasets/megaline_calls.csv')\n",
        "internet = pd.read_csv('/datasets/megaline_internet.csv')\n",
        "messages = pd.read_csv('/datasets/megaline_messages.csv')\n",
        "plans = pd.read_csv('/datasets/megaline_plans.csv')\n",
        "users = pd.read_csv('/datasets/megaline_users.csv')"
      ]
    },
    {
      "cell_type": "code",
      "execution_count": null,
      "metadata": {
        "id": "jcoaxBT-Cz-t",
        "outputId": "a999ab22-6643-4350-f576-4be0707ca99a"
      },
      "outputs": [
        {
          "name": "stdout",
          "output_type": "stream",
          "text": [
            "----------CALLS\n",
            "<class 'pandas.core.frame.DataFrame'>\n",
            "RangeIndex: 137735 entries, 0 to 137734\n",
            "Data columns (total 4 columns):\n",
            "id           137735 non-null object\n",
            "user_id      137735 non-null int64\n",
            "call_date    137735 non-null object\n",
            "duration     137735 non-null float64\n",
            "dtypes: float64(1), int64(1), object(2)\n",
            "memory usage: 4.2+ MB\n",
            "----------INTERNET\n",
            "<class 'pandas.core.frame.DataFrame'>\n",
            "RangeIndex: 104825 entries, 0 to 104824\n",
            "Data columns (total 4 columns):\n",
            "id              104825 non-null object\n",
            "user_id         104825 non-null int64\n",
            "session_date    104825 non-null object\n",
            "mb_used         104825 non-null float64\n",
            "dtypes: float64(1), int64(1), object(2)\n",
            "memory usage: 3.2+ MB\n",
            "----------MESSAGES\n",
            "<class 'pandas.core.frame.DataFrame'>\n",
            "RangeIndex: 76051 entries, 0 to 76050\n",
            "Data columns (total 3 columns):\n",
            "id              76051 non-null object\n",
            "user_id         76051 non-null int64\n",
            "message_date    76051 non-null object\n",
            "dtypes: int64(1), object(2)\n",
            "memory usage: 1.7+ MB\n",
            "----------PLANS\n",
            "<class 'pandas.core.frame.DataFrame'>\n",
            "RangeIndex: 2 entries, 0 to 1\n",
            "Data columns (total 8 columns):\n",
            "messages_included        2 non-null int64\n",
            "mb_per_month_included    2 non-null int64\n",
            "minutes_included         2 non-null int64\n",
            "usd_monthly_pay          2 non-null int64\n",
            "usd_per_gb               2 non-null int64\n",
            "usd_per_message          2 non-null float64\n",
            "usd_per_minute           2 non-null float64\n",
            "plan_name                2 non-null object\n",
            "dtypes: float64(2), int64(5), object(1)\n",
            "memory usage: 256.0+ bytes\n",
            "----------USERS\n",
            "<class 'pandas.core.frame.DataFrame'>\n",
            "RangeIndex: 500 entries, 0 to 499\n",
            "Data columns (total 8 columns):\n",
            "user_id       500 non-null int64\n",
            "first_name    500 non-null object\n",
            "last_name     500 non-null object\n",
            "age           500 non-null int64\n",
            "city          500 non-null object\n",
            "reg_date      500 non-null object\n",
            "plan          500 non-null object\n",
            "churn_date    34 non-null object\n",
            "dtypes: int64(2), object(6)\n",
            "memory usage: 31.4+ KB\n"
          ]
        }
      ],
      "source": [
        "print('----------CALLS')\n",
        "calls.info()\n",
        "print('----------INTERNET')\n",
        "internet.info()\n",
        "print('----------MESSAGES')\n",
        "messages.info()\n",
        "print('----------PLANS')\n",
        "plans.info()\n",
        "print('----------USERS')\n",
        "users.info()"
      ]
    },
    {
      "cell_type": "code",
      "execution_count": null,
      "metadata": {
        "id": "GtOkuQXUCz-x",
        "outputId": "840d0d48-7a6f-4a5e-aadc-91965de155bc"
      },
      "outputs": [
        {
          "name": "stdout",
          "output_type": "stream",
          "text": [
            "----------CALLS\n"
          ]
        },
        {
          "data": {
            "text/html": [
              "<div>\n",
              "<style scoped>\n",
              "    .dataframe tbody tr th:only-of-type {\n",
              "        vertical-align: middle;\n",
              "    }\n",
              "\n",
              "    .dataframe tbody tr th {\n",
              "        vertical-align: top;\n",
              "    }\n",
              "\n",
              "    .dataframe thead th {\n",
              "        text-align: right;\n",
              "    }\n",
              "</style>\n",
              "<table border=\"1\" class=\"dataframe\">\n",
              "  <thead>\n",
              "    <tr style=\"text-align: right;\">\n",
              "      <th></th>\n",
              "      <th>id</th>\n",
              "      <th>user_id</th>\n",
              "      <th>call_date</th>\n",
              "      <th>duration</th>\n",
              "    </tr>\n",
              "  </thead>\n",
              "  <tbody>\n",
              "    <tr>\n",
              "      <td>0</td>\n",
              "      <td>1000_93</td>\n",
              "      <td>1000</td>\n",
              "      <td>2018-12-27</td>\n",
              "      <td>8.52</td>\n",
              "    </tr>\n",
              "    <tr>\n",
              "      <td>1</td>\n",
              "      <td>1000_145</td>\n",
              "      <td>1000</td>\n",
              "      <td>2018-12-27</td>\n",
              "      <td>13.66</td>\n",
              "    </tr>\n",
              "    <tr>\n",
              "      <td>2</td>\n",
              "      <td>1000_247</td>\n",
              "      <td>1000</td>\n",
              "      <td>2018-12-27</td>\n",
              "      <td>14.48</td>\n",
              "    </tr>\n",
              "    <tr>\n",
              "      <td>3</td>\n",
              "      <td>1000_309</td>\n",
              "      <td>1000</td>\n",
              "      <td>2018-12-28</td>\n",
              "      <td>5.76</td>\n",
              "    </tr>\n",
              "    <tr>\n",
              "      <td>4</td>\n",
              "      <td>1000_380</td>\n",
              "      <td>1000</td>\n",
              "      <td>2018-12-30</td>\n",
              "      <td>4.22</td>\n",
              "    </tr>\n",
              "  </tbody>\n",
              "</table>\n",
              "</div>"
            ],
            "text/plain": [
              "         id  user_id   call_date  duration\n",
              "0   1000_93     1000  2018-12-27      8.52\n",
              "1  1000_145     1000  2018-12-27     13.66\n",
              "2  1000_247     1000  2018-12-27     14.48\n",
              "3  1000_309     1000  2018-12-28      5.76\n",
              "4  1000_380     1000  2018-12-30      4.22"
            ]
          },
          "execution_count": 3,
          "metadata": {},
          "output_type": "execute_result"
        }
      ],
      "source": [
        "print('----------CALLS')\n",
        "calls.head()"
      ]
    },
    {
      "cell_type": "code",
      "execution_count": null,
      "metadata": {
        "id": "hrb1BFlHCz-z",
        "outputId": "be408b9c-1cb7-4b79-806c-ce62711071f6"
      },
      "outputs": [
        {
          "data": {
            "text/plain": [
              "count    137735.000000\n",
              "mean          6.745927\n",
              "std           5.839241\n",
              "min           0.000000\n",
              "25%           1.290000\n",
              "50%           5.980000\n",
              "75%          10.690000\n",
              "max          37.600000\n",
              "Name: duration, dtype: float64"
            ]
          },
          "execution_count": 4,
          "metadata": {},
          "output_type": "execute_result"
        }
      ],
      "source": [
        "calls['duration'].describe()"
      ]
    },
    {
      "cell_type": "code",
      "execution_count": null,
      "metadata": {
        "id": "Xs8kgUPBCz-2",
        "outputId": "f64c9361-ed6b-4661-a4ae-be7f3d44450b"
      },
      "outputs": [
        {
          "name": "stdout",
          "output_type": "stream",
          "text": [
            "1111_120    1\n",
            "1434_170    1\n",
            "1393_203    1\n",
            "1354_472    1\n",
            "1362_409    1\n",
            "           ..\n",
            "1498_60     1\n",
            "1144_300    1\n",
            "1347_75     1\n",
            "1059_450    1\n",
            "1109_534    1\n",
            "Name: id, Length: 137735, dtype: int64\n",
            "1324    1300\n",
            "1077    1224\n",
            "1334    1140\n",
            "1362    1121\n",
            "1320    1080\n",
            "        ... \n",
            "1104       4\n",
            "1452       3\n",
            "1306       3\n",
            "1323       3\n",
            "1034       2\n",
            "Name: user_id, Length: 481, dtype: int64\n",
            "2018-12-27    1091\n",
            "2018-12-28    1085\n",
            "2018-12-30    1080\n",
            "2018-12-24    1078\n",
            "2018-12-29    1070\n",
            "              ... \n",
            "2018-01-17       6\n",
            "2018-01-26       6\n",
            "2018-01-15       5\n",
            "2018-01-18       4\n",
            "2018-01-24       3\n",
            "Name: call_date, Length: 351, dtype: int64\n",
            "0.00     26834\n",
            "8.37       102\n",
            "4.02       102\n",
            "3.91       101\n",
            "7.61       100\n",
            "         ...  \n",
            "25.53        1\n",
            "29.34        1\n",
            "26.05        1\n",
            "36.24        1\n",
            "27.16        1\n",
            "Name: duration, Length: 2802, dtype: int64\n"
          ]
        }
      ],
      "source": [
        "print(calls['id'].value_counts())\n",
        "print(calls['user_id'].value_counts())\n",
        "print(calls['call_date'].value_counts())\n",
        "print(calls['duration'].value_counts())"
      ]
    },
    {
      "cell_type": "code",
      "execution_count": null,
      "metadata": {
        "id": "prLR4rLWCz-5",
        "outputId": "5d5aa859-67bb-404f-ad4b-3c2eb1338a94"
      },
      "outputs": [
        {
          "name": "stdout",
          "output_type": "stream",
          "text": [
            "----------INTERNET\n"
          ]
        },
        {
          "data": {
            "text/html": [
              "<div>\n",
              "<style scoped>\n",
              "    .dataframe tbody tr th:only-of-type {\n",
              "        vertical-align: middle;\n",
              "    }\n",
              "\n",
              "    .dataframe tbody tr th {\n",
              "        vertical-align: top;\n",
              "    }\n",
              "\n",
              "    .dataframe thead th {\n",
              "        text-align: right;\n",
              "    }\n",
              "</style>\n",
              "<table border=\"1\" class=\"dataframe\">\n",
              "  <thead>\n",
              "    <tr style=\"text-align: right;\">\n",
              "      <th></th>\n",
              "      <th>id</th>\n",
              "      <th>user_id</th>\n",
              "      <th>session_date</th>\n",
              "      <th>mb_used</th>\n",
              "    </tr>\n",
              "  </thead>\n",
              "  <tbody>\n",
              "    <tr>\n",
              "      <td>0</td>\n",
              "      <td>1000_13</td>\n",
              "      <td>1000</td>\n",
              "      <td>2018-12-29</td>\n",
              "      <td>89.86</td>\n",
              "    </tr>\n",
              "    <tr>\n",
              "      <td>1</td>\n",
              "      <td>1000_204</td>\n",
              "      <td>1000</td>\n",
              "      <td>2018-12-31</td>\n",
              "      <td>0.00</td>\n",
              "    </tr>\n",
              "    <tr>\n",
              "      <td>2</td>\n",
              "      <td>1000_379</td>\n",
              "      <td>1000</td>\n",
              "      <td>2018-12-28</td>\n",
              "      <td>660.40</td>\n",
              "    </tr>\n",
              "    <tr>\n",
              "      <td>3</td>\n",
              "      <td>1000_413</td>\n",
              "      <td>1000</td>\n",
              "      <td>2018-12-26</td>\n",
              "      <td>270.99</td>\n",
              "    </tr>\n",
              "    <tr>\n",
              "      <td>4</td>\n",
              "      <td>1000_442</td>\n",
              "      <td>1000</td>\n",
              "      <td>2018-12-27</td>\n",
              "      <td>880.22</td>\n",
              "    </tr>\n",
              "  </tbody>\n",
              "</table>\n",
              "</div>"
            ],
            "text/plain": [
              "         id  user_id session_date  mb_used\n",
              "0   1000_13     1000   2018-12-29    89.86\n",
              "1  1000_204     1000   2018-12-31     0.00\n",
              "2  1000_379     1000   2018-12-28   660.40\n",
              "3  1000_413     1000   2018-12-26   270.99\n",
              "4  1000_442     1000   2018-12-27   880.22"
            ]
          },
          "execution_count": 6,
          "metadata": {},
          "output_type": "execute_result"
        }
      ],
      "source": [
        "\n",
        "print('----------INTERNET')\n",
        "internet.head()\n"
      ]
    },
    {
      "cell_type": "code",
      "execution_count": null,
      "metadata": {
        "id": "vOqYP7LRCz-9",
        "outputId": "19c32f09-d3c5-4a76-f0c3-f42bf046fecc"
      },
      "outputs": [
        {
          "data": {
            "text/plain": [
              "count    104825.000000\n",
              "mean        366.713701\n",
              "std         277.170542\n",
              "min           0.000000\n",
              "25%         136.080000\n",
              "50%         343.980000\n",
              "75%         554.610000\n",
              "max        1693.470000\n",
              "Name: mb_used, dtype: float64"
            ]
          },
          "execution_count": 7,
          "metadata": {},
          "output_type": "execute_result"
        }
      ],
      "source": [
        "internet['mb_used'].describe()"
      ]
    },
    {
      "cell_type": "code",
      "execution_count": null,
      "metadata": {
        "id": "AxmMHJUmCz-_",
        "outputId": "8fbe3f88-1224-401e-8bbe-138702dea0bc"
      },
      "outputs": [
        {
          "name": "stdout",
          "output_type": "stream",
          "text": [
            "1188_95     1\n",
            "1268_407    1\n",
            "1163_50     1\n",
            "1078_43     1\n",
            "1409_94     1\n",
            "           ..\n",
            "1261_610    1\n",
            "1263_240    1\n",
            "1303_15     1\n",
            "1419_32     1\n",
            "1434_362    1\n",
            "Name: id, Length: 104825, dtype: int64\n",
            "1185    851\n",
            "1028    752\n",
            "1171    716\n",
            "1498    657\n",
            "1214    652\n",
            "       ... \n",
            "1323      3\n",
            "1034      2\n",
            "1108      2\n",
            "1452      1\n",
            "1306      1\n",
            "Name: user_id, Length: 489, dtype: int64\n",
            "2018-12-24    851\n",
            "2018-12-30    845\n",
            "2018-12-27    830\n",
            "2018-12-21    826\n",
            "2018-12-31    823\n",
            "             ... \n",
            "2018-01-23      3\n",
            "2018-01-20      2\n",
            "2018-01-16      2\n",
            "2018-01-15      2\n",
            "2018-01-18      2\n",
            "Name: session_date, Length: 351, dtype: int64\n",
            "0.00      13747\n",
            "414.46        8\n",
            "435.77        8\n",
            "417.46        7\n",
            "313.79        7\n",
            "          ...  \n",
            "638.12        1\n",
            "217.39        1\n",
            "683.90        1\n",
            "243.97        1\n",
            "563.11        1\n",
            "Name: mb_used, Length: 57624, dtype: int64\n"
          ]
        }
      ],
      "source": [
        "print(internet['id'].value_counts())\n",
        "print(internet['user_id'].value_counts())\n",
        "print(internet['session_date'].value_counts())\n",
        "print(internet['mb_used'].value_counts())"
      ]
    },
    {
      "cell_type": "code",
      "execution_count": null,
      "metadata": {
        "id": "M_7hVefvCz_A",
        "outputId": "8fd5054c-c2b9-43ac-877a-9745487a9bbf"
      },
      "outputs": [
        {
          "name": "stdout",
          "output_type": "stream",
          "text": [
            "----------MESSAGES\n"
          ]
        },
        {
          "data": {
            "text/html": [
              "<div>\n",
              "<style scoped>\n",
              "    .dataframe tbody tr th:only-of-type {\n",
              "        vertical-align: middle;\n",
              "    }\n",
              "\n",
              "    .dataframe tbody tr th {\n",
              "        vertical-align: top;\n",
              "    }\n",
              "\n",
              "    .dataframe thead th {\n",
              "        text-align: right;\n",
              "    }\n",
              "</style>\n",
              "<table border=\"1\" class=\"dataframe\">\n",
              "  <thead>\n",
              "    <tr style=\"text-align: right;\">\n",
              "      <th></th>\n",
              "      <th>id</th>\n",
              "      <th>user_id</th>\n",
              "      <th>message_date</th>\n",
              "    </tr>\n",
              "  </thead>\n",
              "  <tbody>\n",
              "    <tr>\n",
              "      <td>0</td>\n",
              "      <td>1000_125</td>\n",
              "      <td>1000</td>\n",
              "      <td>2018-12-27</td>\n",
              "    </tr>\n",
              "    <tr>\n",
              "      <td>1</td>\n",
              "      <td>1000_160</td>\n",
              "      <td>1000</td>\n",
              "      <td>2018-12-31</td>\n",
              "    </tr>\n",
              "    <tr>\n",
              "      <td>2</td>\n",
              "      <td>1000_223</td>\n",
              "      <td>1000</td>\n",
              "      <td>2018-12-31</td>\n",
              "    </tr>\n",
              "    <tr>\n",
              "      <td>3</td>\n",
              "      <td>1000_251</td>\n",
              "      <td>1000</td>\n",
              "      <td>2018-12-27</td>\n",
              "    </tr>\n",
              "    <tr>\n",
              "      <td>4</td>\n",
              "      <td>1000_255</td>\n",
              "      <td>1000</td>\n",
              "      <td>2018-12-26</td>\n",
              "    </tr>\n",
              "  </tbody>\n",
              "</table>\n",
              "</div>"
            ],
            "text/plain": [
              "         id  user_id message_date\n",
              "0  1000_125     1000   2018-12-27\n",
              "1  1000_160     1000   2018-12-31\n",
              "2  1000_223     1000   2018-12-31\n",
              "3  1000_251     1000   2018-12-27\n",
              "4  1000_255     1000   2018-12-26"
            ]
          },
          "execution_count": 9,
          "metadata": {},
          "output_type": "execute_result"
        }
      ],
      "source": [
        "print('----------MESSAGES')\n",
        "messages.head()\n"
      ]
    },
    {
      "cell_type": "code",
      "execution_count": null,
      "metadata": {
        "id": "LuBXKE2UCz_C",
        "outputId": "d15053f0-7553-4930-a428-b3d4b0701c8f"
      },
      "outputs": [
        {
          "data": {
            "text/html": [
              "<div>\n",
              "<style scoped>\n",
              "    .dataframe tbody tr th:only-of-type {\n",
              "        vertical-align: middle;\n",
              "    }\n",
              "\n",
              "    .dataframe tbody tr th {\n",
              "        vertical-align: top;\n",
              "    }\n",
              "\n",
              "    .dataframe thead th {\n",
              "        text-align: right;\n",
              "    }\n",
              "</style>\n",
              "<table border=\"1\" class=\"dataframe\">\n",
              "  <thead>\n",
              "    <tr style=\"text-align: right;\">\n",
              "      <th></th>\n",
              "      <th>user_id</th>\n",
              "    </tr>\n",
              "  </thead>\n",
              "  <tbody>\n",
              "    <tr>\n",
              "      <td>count</td>\n",
              "      <td>76051.000000</td>\n",
              "    </tr>\n",
              "    <tr>\n",
              "      <td>mean</td>\n",
              "      <td>1245.972768</td>\n",
              "    </tr>\n",
              "    <tr>\n",
              "      <td>std</td>\n",
              "      <td>139.843635</td>\n",
              "    </tr>\n",
              "    <tr>\n",
              "      <td>min</td>\n",
              "      <td>1000.000000</td>\n",
              "    </tr>\n",
              "    <tr>\n",
              "      <td>25%</td>\n",
              "      <td>1123.000000</td>\n",
              "    </tr>\n",
              "    <tr>\n",
              "      <td>50%</td>\n",
              "      <td>1251.000000</td>\n",
              "    </tr>\n",
              "    <tr>\n",
              "      <td>75%</td>\n",
              "      <td>1362.000000</td>\n",
              "    </tr>\n",
              "    <tr>\n",
              "      <td>max</td>\n",
              "      <td>1497.000000</td>\n",
              "    </tr>\n",
              "  </tbody>\n",
              "</table>\n",
              "</div>"
            ],
            "text/plain": [
              "            user_id\n",
              "count  76051.000000\n",
              "mean    1245.972768\n",
              "std      139.843635\n",
              "min     1000.000000\n",
              "25%     1123.000000\n",
              "50%     1251.000000\n",
              "75%     1362.000000\n",
              "max     1497.000000"
            ]
          },
          "execution_count": 10,
          "metadata": {},
          "output_type": "execute_result"
        }
      ],
      "source": [
        "messages.describe()"
      ]
    },
    {
      "cell_type": "code",
      "execution_count": null,
      "metadata": {
        "id": "GvMo9hgfCz_E",
        "outputId": "48d363ed-bdb4-4950-fbab-e8f2d6660e2b"
      },
      "outputs": [
        {
          "name": "stdout",
          "output_type": "stream",
          "text": [
            "1381_433    1\n",
            "1199_55     1\n",
            "1434_275    1\n",
            "1077_248    1\n",
            "1101_242    1\n",
            "           ..\n",
            "1044_120    1\n",
            "1082_101    1\n",
            "1249_170    1\n",
            "1444_126    1\n",
            "1258_410    1\n",
            "Name: id, Length: 76051, dtype: int64\n",
            "1132    1288\n",
            "1328    1233\n",
            "1324    1175\n",
            "1470    1056\n",
            "1077     804\n",
            "        ... \n",
            "1481       3\n",
            "1190       3\n",
            "1161       2\n",
            "1323       1\n",
            "1479       1\n",
            "Name: user_id, Length: 402, dtype: int64\n",
            "2018-12-28    702\n",
            "2018-12-27    701\n",
            "2018-12-25    699\n",
            "2018-12-31    699\n",
            "2018-12-18    688\n",
            "             ... \n",
            "2018-01-21      3\n",
            "2018-01-24      2\n",
            "2018-02-18      2\n",
            "2018-01-15      2\n",
            "2018-01-19      1\n",
            "Name: message_date, Length: 351, dtype: int64\n"
          ]
        }
      ],
      "source": [
        "print(messages['id'].value_counts())\n",
        "print(messages['user_id'].value_counts())\n",
        "print(messages['message_date'].value_counts())"
      ]
    },
    {
      "cell_type": "code",
      "execution_count": null,
      "metadata": {
        "id": "XNqdZddjCz_G",
        "outputId": "e884439a-8351-4a8e-cacf-d96ab0f74774"
      },
      "outputs": [
        {
          "name": "stdout",
          "output_type": "stream",
          "text": [
            "----------PLANS\n"
          ]
        },
        {
          "data": {
            "text/html": [
              "<div>\n",
              "<style scoped>\n",
              "    .dataframe tbody tr th:only-of-type {\n",
              "        vertical-align: middle;\n",
              "    }\n",
              "\n",
              "    .dataframe tbody tr th {\n",
              "        vertical-align: top;\n",
              "    }\n",
              "\n",
              "    .dataframe thead th {\n",
              "        text-align: right;\n",
              "    }\n",
              "</style>\n",
              "<table border=\"1\" class=\"dataframe\">\n",
              "  <thead>\n",
              "    <tr style=\"text-align: right;\">\n",
              "      <th></th>\n",
              "      <th>messages_included</th>\n",
              "      <th>mb_per_month_included</th>\n",
              "      <th>minutes_included</th>\n",
              "      <th>usd_monthly_pay</th>\n",
              "      <th>usd_per_gb</th>\n",
              "      <th>usd_per_message</th>\n",
              "      <th>usd_per_minute</th>\n",
              "      <th>plan_name</th>\n",
              "    </tr>\n",
              "  </thead>\n",
              "  <tbody>\n",
              "    <tr>\n",
              "      <td>0</td>\n",
              "      <td>50</td>\n",
              "      <td>15360</td>\n",
              "      <td>500</td>\n",
              "      <td>20</td>\n",
              "      <td>10</td>\n",
              "      <td>0.03</td>\n",
              "      <td>0.03</td>\n",
              "      <td>surf</td>\n",
              "    </tr>\n",
              "    <tr>\n",
              "      <td>1</td>\n",
              "      <td>1000</td>\n",
              "      <td>30720</td>\n",
              "      <td>3000</td>\n",
              "      <td>70</td>\n",
              "      <td>7</td>\n",
              "      <td>0.01</td>\n",
              "      <td>0.01</td>\n",
              "      <td>ultimate</td>\n",
              "    </tr>\n",
              "  </tbody>\n",
              "</table>\n",
              "</div>"
            ],
            "text/plain": [
              "   messages_included  mb_per_month_included  minutes_included  \\\n",
              "0                 50                  15360               500   \n",
              "1               1000                  30720              3000   \n",
              "\n",
              "   usd_monthly_pay  usd_per_gb  usd_per_message  usd_per_minute plan_name  \n",
              "0               20          10             0.03            0.03      surf  \n",
              "1               70           7             0.01            0.01  ultimate  "
            ]
          },
          "execution_count": 12,
          "metadata": {},
          "output_type": "execute_result"
        }
      ],
      "source": [
        "print('----------PLANS')\n",
        "plans.head()\n"
      ]
    },
    {
      "cell_type": "code",
      "execution_count": null,
      "metadata": {
        "id": "-Bg1_GxlCz_I",
        "outputId": "3365f46a-13d8-42e8-a6fe-4abac748f7e0"
      },
      "outputs": [
        {
          "data": {
            "text/html": [
              "<div>\n",
              "<style scoped>\n",
              "    .dataframe tbody tr th:only-of-type {\n",
              "        vertical-align: middle;\n",
              "    }\n",
              "\n",
              "    .dataframe tbody tr th {\n",
              "        vertical-align: top;\n",
              "    }\n",
              "\n",
              "    .dataframe thead th {\n",
              "        text-align: right;\n",
              "    }\n",
              "</style>\n",
              "<table border=\"1\" class=\"dataframe\">\n",
              "  <thead>\n",
              "    <tr style=\"text-align: right;\">\n",
              "      <th></th>\n",
              "      <th>messages_included</th>\n",
              "      <th>mb_per_month_included</th>\n",
              "      <th>minutes_included</th>\n",
              "      <th>usd_monthly_pay</th>\n",
              "      <th>usd_per_gb</th>\n",
              "      <th>usd_per_message</th>\n",
              "      <th>usd_per_minute</th>\n",
              "    </tr>\n",
              "  </thead>\n",
              "  <tbody>\n",
              "    <tr>\n",
              "      <td>count</td>\n",
              "      <td>2.000000</td>\n",
              "      <td>2.000000</td>\n",
              "      <td>2.000000</td>\n",
              "      <td>2.000000</td>\n",
              "      <td>2.00000</td>\n",
              "      <td>2.000000</td>\n",
              "      <td>2.000000</td>\n",
              "    </tr>\n",
              "    <tr>\n",
              "      <td>mean</td>\n",
              "      <td>525.000000</td>\n",
              "      <td>23040.000000</td>\n",
              "      <td>1750.000000</td>\n",
              "      <td>45.000000</td>\n",
              "      <td>8.50000</td>\n",
              "      <td>0.020000</td>\n",
              "      <td>0.020000</td>\n",
              "    </tr>\n",
              "    <tr>\n",
              "      <td>std</td>\n",
              "      <td>671.751442</td>\n",
              "      <td>10861.160159</td>\n",
              "      <td>1767.766953</td>\n",
              "      <td>35.355339</td>\n",
              "      <td>2.12132</td>\n",
              "      <td>0.014142</td>\n",
              "      <td>0.014142</td>\n",
              "    </tr>\n",
              "    <tr>\n",
              "      <td>min</td>\n",
              "      <td>50.000000</td>\n",
              "      <td>15360.000000</td>\n",
              "      <td>500.000000</td>\n",
              "      <td>20.000000</td>\n",
              "      <td>7.00000</td>\n",
              "      <td>0.010000</td>\n",
              "      <td>0.010000</td>\n",
              "    </tr>\n",
              "    <tr>\n",
              "      <td>25%</td>\n",
              "      <td>287.500000</td>\n",
              "      <td>19200.000000</td>\n",
              "      <td>1125.000000</td>\n",
              "      <td>32.500000</td>\n",
              "      <td>7.75000</td>\n",
              "      <td>0.015000</td>\n",
              "      <td>0.015000</td>\n",
              "    </tr>\n",
              "    <tr>\n",
              "      <td>50%</td>\n",
              "      <td>525.000000</td>\n",
              "      <td>23040.000000</td>\n",
              "      <td>1750.000000</td>\n",
              "      <td>45.000000</td>\n",
              "      <td>8.50000</td>\n",
              "      <td>0.020000</td>\n",
              "      <td>0.020000</td>\n",
              "    </tr>\n",
              "    <tr>\n",
              "      <td>75%</td>\n",
              "      <td>762.500000</td>\n",
              "      <td>26880.000000</td>\n",
              "      <td>2375.000000</td>\n",
              "      <td>57.500000</td>\n",
              "      <td>9.25000</td>\n",
              "      <td>0.025000</td>\n",
              "      <td>0.025000</td>\n",
              "    </tr>\n",
              "    <tr>\n",
              "      <td>max</td>\n",
              "      <td>1000.000000</td>\n",
              "      <td>30720.000000</td>\n",
              "      <td>3000.000000</td>\n",
              "      <td>70.000000</td>\n",
              "      <td>10.00000</td>\n",
              "      <td>0.030000</td>\n",
              "      <td>0.030000</td>\n",
              "    </tr>\n",
              "  </tbody>\n",
              "</table>\n",
              "</div>"
            ],
            "text/plain": [
              "       messages_included  mb_per_month_included  minutes_included  \\\n",
              "count           2.000000               2.000000          2.000000   \n",
              "mean          525.000000           23040.000000       1750.000000   \n",
              "std           671.751442           10861.160159       1767.766953   \n",
              "min            50.000000           15360.000000        500.000000   \n",
              "25%           287.500000           19200.000000       1125.000000   \n",
              "50%           525.000000           23040.000000       1750.000000   \n",
              "75%           762.500000           26880.000000       2375.000000   \n",
              "max          1000.000000           30720.000000       3000.000000   \n",
              "\n",
              "       usd_monthly_pay  usd_per_gb  usd_per_message  usd_per_minute  \n",
              "count         2.000000     2.00000         2.000000        2.000000  \n",
              "mean         45.000000     8.50000         0.020000        0.020000  \n",
              "std          35.355339     2.12132         0.014142        0.014142  \n",
              "min          20.000000     7.00000         0.010000        0.010000  \n",
              "25%          32.500000     7.75000         0.015000        0.015000  \n",
              "50%          45.000000     8.50000         0.020000        0.020000  \n",
              "75%          57.500000     9.25000         0.025000        0.025000  \n",
              "max          70.000000    10.00000         0.030000        0.030000  "
            ]
          },
          "execution_count": 13,
          "metadata": {},
          "output_type": "execute_result"
        }
      ],
      "source": [
        "plans.describe()"
      ]
    },
    {
      "cell_type": "code",
      "execution_count": null,
      "metadata": {
        "id": "NTpRYWqVCz_K",
        "outputId": "f1580b66-585b-4544-f34f-cfc8fc62f4bd"
      },
      "outputs": [
        {
          "name": "stdout",
          "output_type": "stream",
          "text": [
            "50      1\n",
            "1000    1\n",
            "Name: messages_included, dtype: int64\n",
            "30720    1\n",
            "15360    1\n",
            "Name: mb_per_month_included, dtype: int64\n",
            "3000    1\n",
            "500     1\n",
            "Name: minutes_included, dtype: int64\n",
            "70    1\n",
            "20    1\n",
            "Name: usd_monthly_pay, dtype: int64\n",
            "7     1\n",
            "10    1\n",
            "Name: usd_per_gb, dtype: int64\n",
            "0.01    1\n",
            "0.03    1\n",
            "Name: usd_per_message, dtype: int64\n",
            "0.01    1\n",
            "0.03    1\n",
            "Name: usd_per_minute, dtype: int64\n",
            "ultimate    1\n",
            "surf        1\n",
            "Name: plan_name, dtype: int64\n"
          ]
        }
      ],
      "source": [
        "print(plans['messages_included'].value_counts())\n",
        "print(plans['mb_per_month_included'].value_counts())\n",
        "print(plans['minutes_included'].value_counts())\n",
        "print(plans['usd_monthly_pay'].value_counts())\n",
        "print(plans['usd_per_gb'].value_counts())\n",
        "print(plans['usd_per_message'].value_counts())\n",
        "print(plans['usd_per_minute'].value_counts())\n",
        "print(plans['plan_name'].value_counts())\n"
      ]
    },
    {
      "cell_type": "code",
      "execution_count": null,
      "metadata": {
        "id": "mQPcNYQcCz_M",
        "outputId": "cf1e19ee-11c7-4117-c9d9-73040ef88b60"
      },
      "outputs": [
        {
          "name": "stdout",
          "output_type": "stream",
          "text": [
            "----------USERS\n"
          ]
        },
        {
          "data": {
            "text/html": [
              "<div>\n",
              "<style scoped>\n",
              "    .dataframe tbody tr th:only-of-type {\n",
              "        vertical-align: middle;\n",
              "    }\n",
              "\n",
              "    .dataframe tbody tr th {\n",
              "        vertical-align: top;\n",
              "    }\n",
              "\n",
              "    .dataframe thead th {\n",
              "        text-align: right;\n",
              "    }\n",
              "</style>\n",
              "<table border=\"1\" class=\"dataframe\">\n",
              "  <thead>\n",
              "    <tr style=\"text-align: right;\">\n",
              "      <th></th>\n",
              "      <th>user_id</th>\n",
              "      <th>first_name</th>\n",
              "      <th>last_name</th>\n",
              "      <th>age</th>\n",
              "      <th>city</th>\n",
              "      <th>reg_date</th>\n",
              "      <th>plan</th>\n",
              "      <th>churn_date</th>\n",
              "    </tr>\n",
              "  </thead>\n",
              "  <tbody>\n",
              "    <tr>\n",
              "      <td>0</td>\n",
              "      <td>1000</td>\n",
              "      <td>Anamaria</td>\n",
              "      <td>Bauer</td>\n",
              "      <td>45</td>\n",
              "      <td>Atlanta-Sandy Springs-Roswell, GA MSA</td>\n",
              "      <td>2018-12-24</td>\n",
              "      <td>ultimate</td>\n",
              "      <td>NaN</td>\n",
              "    </tr>\n",
              "    <tr>\n",
              "      <td>1</td>\n",
              "      <td>1001</td>\n",
              "      <td>Mickey</td>\n",
              "      <td>Wilkerson</td>\n",
              "      <td>28</td>\n",
              "      <td>Seattle-Tacoma-Bellevue, WA MSA</td>\n",
              "      <td>2018-08-13</td>\n",
              "      <td>surf</td>\n",
              "      <td>NaN</td>\n",
              "    </tr>\n",
              "    <tr>\n",
              "      <td>2</td>\n",
              "      <td>1002</td>\n",
              "      <td>Carlee</td>\n",
              "      <td>Hoffman</td>\n",
              "      <td>36</td>\n",
              "      <td>Las Vegas-Henderson-Paradise, NV MSA</td>\n",
              "      <td>2018-10-21</td>\n",
              "      <td>surf</td>\n",
              "      <td>NaN</td>\n",
              "    </tr>\n",
              "    <tr>\n",
              "      <td>3</td>\n",
              "      <td>1003</td>\n",
              "      <td>Reynaldo</td>\n",
              "      <td>Jenkins</td>\n",
              "      <td>52</td>\n",
              "      <td>Tulsa, OK MSA</td>\n",
              "      <td>2018-01-28</td>\n",
              "      <td>surf</td>\n",
              "      <td>NaN</td>\n",
              "    </tr>\n",
              "    <tr>\n",
              "      <td>4</td>\n",
              "      <td>1004</td>\n",
              "      <td>Leonila</td>\n",
              "      <td>Thompson</td>\n",
              "      <td>40</td>\n",
              "      <td>Seattle-Tacoma-Bellevue, WA MSA</td>\n",
              "      <td>2018-05-23</td>\n",
              "      <td>surf</td>\n",
              "      <td>NaN</td>\n",
              "    </tr>\n",
              "  </tbody>\n",
              "</table>\n",
              "</div>"
            ],
            "text/plain": [
              "   user_id first_name  last_name  age                                   city  \\\n",
              "0     1000   Anamaria      Bauer   45  Atlanta-Sandy Springs-Roswell, GA MSA   \n",
              "1     1001     Mickey  Wilkerson   28        Seattle-Tacoma-Bellevue, WA MSA   \n",
              "2     1002     Carlee    Hoffman   36   Las Vegas-Henderson-Paradise, NV MSA   \n",
              "3     1003   Reynaldo    Jenkins   52                          Tulsa, OK MSA   \n",
              "4     1004    Leonila   Thompson   40        Seattle-Tacoma-Bellevue, WA MSA   \n",
              "\n",
              "     reg_date      plan churn_date  \n",
              "0  2018-12-24  ultimate        NaN  \n",
              "1  2018-08-13      surf        NaN  \n",
              "2  2018-10-21      surf        NaN  \n",
              "3  2018-01-28      surf        NaN  \n",
              "4  2018-05-23      surf        NaN  "
            ]
          },
          "execution_count": 15,
          "metadata": {},
          "output_type": "execute_result"
        }
      ],
      "source": [
        "print('----------USERS')\n",
        "users.head()"
      ]
    },
    {
      "cell_type": "code",
      "execution_count": null,
      "metadata": {
        "id": "JWknTpqQCz_N",
        "outputId": "45ab8617-0278-4a86-d66a-5abae27cc9a7"
      },
      "outputs": [
        {
          "data": {
            "text/html": [
              "<div>\n",
              "<style scoped>\n",
              "    .dataframe tbody tr th:only-of-type {\n",
              "        vertical-align: middle;\n",
              "    }\n",
              "\n",
              "    .dataframe tbody tr th {\n",
              "        vertical-align: top;\n",
              "    }\n",
              "\n",
              "    .dataframe thead th {\n",
              "        text-align: right;\n",
              "    }\n",
              "</style>\n",
              "<table border=\"1\" class=\"dataframe\">\n",
              "  <thead>\n",
              "    <tr style=\"text-align: right;\">\n",
              "      <th></th>\n",
              "      <th>user_id</th>\n",
              "      <th>age</th>\n",
              "    </tr>\n",
              "  </thead>\n",
              "  <tbody>\n",
              "    <tr>\n",
              "      <td>count</td>\n",
              "      <td>500.000000</td>\n",
              "      <td>500.000000</td>\n",
              "    </tr>\n",
              "    <tr>\n",
              "      <td>mean</td>\n",
              "      <td>1249.500000</td>\n",
              "      <td>45.486000</td>\n",
              "    </tr>\n",
              "    <tr>\n",
              "      <td>std</td>\n",
              "      <td>144.481833</td>\n",
              "      <td>16.972269</td>\n",
              "    </tr>\n",
              "    <tr>\n",
              "      <td>min</td>\n",
              "      <td>1000.000000</td>\n",
              "      <td>18.000000</td>\n",
              "    </tr>\n",
              "    <tr>\n",
              "      <td>25%</td>\n",
              "      <td>1124.750000</td>\n",
              "      <td>30.000000</td>\n",
              "    </tr>\n",
              "    <tr>\n",
              "      <td>50%</td>\n",
              "      <td>1249.500000</td>\n",
              "      <td>46.000000</td>\n",
              "    </tr>\n",
              "    <tr>\n",
              "      <td>75%</td>\n",
              "      <td>1374.250000</td>\n",
              "      <td>61.000000</td>\n",
              "    </tr>\n",
              "    <tr>\n",
              "      <td>max</td>\n",
              "      <td>1499.000000</td>\n",
              "      <td>75.000000</td>\n",
              "    </tr>\n",
              "  </tbody>\n",
              "</table>\n",
              "</div>"
            ],
            "text/plain": [
              "           user_id         age\n",
              "count   500.000000  500.000000\n",
              "mean   1249.500000   45.486000\n",
              "std     144.481833   16.972269\n",
              "min    1000.000000   18.000000\n",
              "25%    1124.750000   30.000000\n",
              "50%    1249.500000   46.000000\n",
              "75%    1374.250000   61.000000\n",
              "max    1499.000000   75.000000"
            ]
          },
          "execution_count": 16,
          "metadata": {},
          "output_type": "execute_result"
        }
      ],
      "source": [
        "users.describe()"
      ]
    },
    {
      "cell_type": "code",
      "execution_count": null,
      "metadata": {
        "id": "fP2vyfDtCz_P",
        "outputId": "575c6e0d-675d-4194-a846-7baae76beb63"
      },
      "outputs": [
        {
          "name": "stdout",
          "output_type": "stream",
          "text": [
            "1023    1\n",
            "1194    1\n",
            "1181    1\n",
            "1182    1\n",
            "1183    1\n",
            "       ..\n",
            "1362    1\n",
            "1363    1\n",
            "1364    1\n",
            "1365    1\n",
            "1024    1\n",
            "Name: user_id, Length: 500, dtype: int64\n",
            "Jasper      3\n",
            "Leonila     3\n",
            "Seymour     3\n",
            "Miguel      2\n",
            "Lenard      2\n",
            "           ..\n",
            "Tammara     1\n",
            "Meggan      1\n",
            "Shavon      1\n",
            "Kasandra    1\n",
            "Ruthanne    1\n",
            "Name: first_name, Length: 458, dtype: int64\n",
            "Brock        3\n",
            "David        3\n",
            "Wilkinson    3\n",
            "Hoffman      3\n",
            "Kelley       3\n",
            "            ..\n",
            "Perry        1\n",
            "Baldwin      1\n",
            "Willis       1\n",
            "Malone       1\n",
            "Snider       1\n",
            "Name: last_name, Length: 399, dtype: int64\n",
            "18    15\n",
            "61    14\n",
            "27    14\n",
            "70    14\n",
            "69    14\n",
            "20    13\n",
            "28    13\n",
            "33    12\n",
            "30    12\n",
            "65    11\n",
            "52    11\n",
            "67    11\n",
            "39    11\n",
            "47    11\n",
            "51    11\n",
            "29    10\n",
            "34    10\n",
            "26    10\n",
            "36    10\n",
            "42    10\n",
            "45    10\n",
            "49    10\n",
            "75    10\n",
            "53    10\n",
            "64    10\n",
            "46    10\n",
            "23     9\n",
            "60     9\n",
            "66     9\n",
            "56     9\n",
            "19     8\n",
            "44     8\n",
            "21     8\n",
            "59     8\n",
            "57     7\n",
            "22     7\n",
            "41     7\n",
            "38     7\n",
            "25     7\n",
            "48     7\n",
            "50     6\n",
            "24     6\n",
            "71     6\n",
            "55     6\n",
            "63     6\n",
            "31     6\n",
            "54     6\n",
            "37     6\n",
            "40     6\n",
            "74     6\n",
            "35     6\n",
            "58     5\n",
            "73     5\n",
            "32     4\n",
            "62     4\n",
            "72     4\n",
            "43     3\n",
            "68     2\n",
            "Name: age, dtype: int64\n",
            "New York-Newark-Jersey City, NY-NJ-PA MSA          80\n",
            "Los Angeles-Long Beach-Anaheim, CA MSA             29\n",
            "Dallas-Fort Worth-Arlington, TX MSA                21\n",
            "Chicago-Naperville-Elgin, IL-IN-WI MSA             19\n",
            "Philadelphia-Camden-Wilmington, PA-NJ-DE-MD MSA    17\n",
            "                                                   ..\n",
            "Greensboro-High Point, NC MSA                       1\n",
            "El Paso, TX MSA                                     1\n",
            "Oxnard-Thousand Oaks-Ventura, CA MSA                1\n",
            "Raleigh-Cary, NC MSA                                1\n",
            "Albany-Schenectady-Troy, NY MSA                     1\n",
            "Name: city, Length: 73, dtype: int64\n",
            "2018-03-08    5\n",
            "2018-06-04    5\n",
            "2018-07-12    5\n",
            "2018-02-06    5\n",
            "2018-08-03    5\n",
            "             ..\n",
            "2018-05-18    1\n",
            "2018-06-06    1\n",
            "2018-01-25    1\n",
            "2018-04-25    1\n",
            "2018-11-15    1\n",
            "Name: reg_date, Length: 266, dtype: int64\n",
            "surf        339\n",
            "ultimate    161\n",
            "Name: plan, dtype: int64\n",
            "2018-12-18    3\n",
            "2018-12-31    2\n",
            "2018-12-19    2\n",
            "2018-11-14    2\n",
            "2018-08-19    1\n",
            "2018-10-22    1\n",
            "2018-12-15    1\n",
            "2018-11-29    1\n",
            "2018-11-11    1\n",
            "2018-12-26    1\n",
            "2018-08-16    1\n",
            "2018-10-03    1\n",
            "2018-11-21    1\n",
            "2018-11-24    1\n",
            "2018-09-01    1\n",
            "2018-12-10    1\n",
            "2018-10-07    1\n",
            "2018-12-27    1\n",
            "2018-09-18    1\n",
            "2018-12-30    1\n",
            "2018-11-30    1\n",
            "2018-10-13    1\n",
            "2018-11-18    1\n",
            "2018-09-17    1\n",
            "2018-12-12    1\n",
            "2018-09-07    1\n",
            "2018-07-31    1\n",
            "2018-12-22    1\n",
            "2018-11-16    1\n",
            "Name: churn_date, dtype: int64\n"
          ]
        }
      ],
      "source": [
        "print(users['user_id'].value_counts())\n",
        "print(users['first_name'].value_counts())\n",
        "print(users['last_name'].value_counts())\n",
        "print(users['age'].value_counts())\n",
        "print(users['city'].value_counts())\n",
        "print(users['reg_date'].value_counts())\n",
        "print(users['plan'].value_counts())\n",
        "print(users['churn_date'].value_counts())"
      ]
    },
    {
      "cell_type": "markdown",
      "metadata": {
        "id": "MaGa1-chCz_R"
      },
      "source": [
        "* Looking at the preliminary data, I found that there were no missing values in this data except for one column in the megaline_users dataframe.  In the column churn_date, most of the rows were left blank (because most of the people hadn't canceled their services: they were still customers.)\n",
        "\n",
        "* In the megaline_calls dataframe, I also noticed something that would prove to be consistent throughout the analysis; the minutes used per month fell far below the minimum allowed in the least expensive, Surf, program.\n",
        "\n",
        "* In the megaline_internet dataframe, however, I noticed that the opposite was true.  The averages showed that the mb_used were higher than the minimum used which is not something that I found in the subsequent analysis.  In the subsequent analysis below, the averages of the internet usage, once divided into the separate plans, were much lower.\n",
        "\n",
        "* Additionally, I noticed that the average age of the user was 45.  \n",
        "\n",
        "\n"
      ]
    },
    {
      "cell_type": "markdown",
      "metadata": {
        "id": "ZSh_ZklsCz_T"
      },
      "source": [
        "\n",
        "\n",
        "## **Step 2. Data preprocessing**\n",
        "\n",
        "<div class=\"alert alert-block alert-info\">"
      ]
    },
    {
      "cell_type": "markdown",
      "metadata": {
        "id": "73gGXaTmCz_U"
      },
      "source": [
        "* For this section, I had initially thought about changing the dates in all the files at the same time to datetime.  However, I ultimately decided just to tackle preprocessing one data file at a time.  There was no particular reason that I worked on them in the order that I did other than it was simply alphabetical.  \n",
        "\n",
        "* Additionally, I considered converting the data usage information for calls and internet to int64.  However, I worried that a complete cut of the extra seconds/mb's would negatively impact the results of analysis and decided to not convert the numbers.\n"
      ]
    },
    {
      "cell_type": "markdown",
      "source": [
        "## megaline_calls"
      ],
      "metadata": {
        "id": "4BrQVyjd2Dkl"
      }
    },
    {
      "cell_type": "code",
      "execution_count": null,
      "metadata": {
        "id": "veU2LkuzCz_V",
        "outputId": "cc31bfd8-cb64-4b32-9965-7bd45a357aa5"
      },
      "outputs": [
        {
          "data": {
            "text/html": [
              "<div>\n",
              "<style scoped>\n",
              "    .dataframe tbody tr th:only-of-type {\n",
              "        vertical-align: middle;\n",
              "    }\n",
              "\n",
              "    .dataframe tbody tr th {\n",
              "        vertical-align: top;\n",
              "    }\n",
              "\n",
              "    .dataframe thead th {\n",
              "        text-align: right;\n",
              "    }\n",
              "</style>\n",
              "<table border=\"1\" class=\"dataframe\">\n",
              "  <thead>\n",
              "    <tr style=\"text-align: right;\">\n",
              "      <th></th>\n",
              "      <th>id</th>\n",
              "      <th>user_id</th>\n",
              "      <th>call_date</th>\n",
              "      <th>duration</th>\n",
              "      <th>month_year</th>\n",
              "    </tr>\n",
              "  </thead>\n",
              "  <tbody>\n",
              "    <tr>\n",
              "      <td>0</td>\n",
              "      <td>1000_93</td>\n",
              "      <td>1000</td>\n",
              "      <td>2018-12-27</td>\n",
              "      <td>8.52</td>\n",
              "      <td>2018-12</td>\n",
              "    </tr>\n",
              "    <tr>\n",
              "      <td>1</td>\n",
              "      <td>1000_145</td>\n",
              "      <td>1000</td>\n",
              "      <td>2018-12-27</td>\n",
              "      <td>13.66</td>\n",
              "      <td>2018-12</td>\n",
              "    </tr>\n",
              "    <tr>\n",
              "      <td>2</td>\n",
              "      <td>1000_247</td>\n",
              "      <td>1000</td>\n",
              "      <td>2018-12-27</td>\n",
              "      <td>14.48</td>\n",
              "      <td>2018-12</td>\n",
              "    </tr>\n",
              "    <tr>\n",
              "      <td>3</td>\n",
              "      <td>1000_309</td>\n",
              "      <td>1000</td>\n",
              "      <td>2018-12-28</td>\n",
              "      <td>5.76</td>\n",
              "      <td>2018-12</td>\n",
              "    </tr>\n",
              "    <tr>\n",
              "      <td>4</td>\n",
              "      <td>1000_380</td>\n",
              "      <td>1000</td>\n",
              "      <td>2018-12-30</td>\n",
              "      <td>4.22</td>\n",
              "      <td>2018-12</td>\n",
              "    </tr>\n",
              "  </tbody>\n",
              "</table>\n",
              "</div>"
            ],
            "text/plain": [
              "         id  user_id  call_date  duration month_year\n",
              "0   1000_93     1000 2018-12-27      8.52    2018-12\n",
              "1  1000_145     1000 2018-12-27     13.66    2018-12\n",
              "2  1000_247     1000 2018-12-27     14.48    2018-12\n",
              "3  1000_309     1000 2018-12-28      5.76    2018-12\n",
              "4  1000_380     1000 2018-12-30      4.22    2018-12"
            ]
          },
          "execution_count": 18,
          "metadata": {},
          "output_type": "execute_result"
        }
      ],
      "source": [
        "##megaline_calls\n",
        "\n",
        "calls['call_date'] = pd.to_datetime(calls['call_date'], format='%Y-%m-%d')\n",
        "calls['month_year'] = pd.to_datetime(calls['call_date']).dt.to_period('M')\n",
        "\n",
        "\n",
        "\n",
        "monthly_calls = calls.groupby(['user_id','month_year']).duration.sum()\n",
        "\n",
        "\n",
        "calls.head()"
      ]
    },
    {
      "cell_type": "markdown",
      "metadata": {
        "id": "tppJsNKWCz_f"
      },
      "source": [
        "### Conclusion\n",
        "\n",
        "* For this dataframe, I opted to convert the regular call_date using datetime (even though, ultimately, I didn't use it) and I created a new datetime column based on the month and year only so as to make the grouping of data possible below.  \n",
        "\n",
        "* I also created a new series using groupby to calculate the sum of call duration based upon user_id and month.\n",
        "\n",
        "* I considered eliminating the calls listed as 0 minutes but opted not to as their presence didn't impact the calculations made below.\n",
        ""
      ]
    },
    {
      "cell_type": "code",
      "execution_count": null,
      "metadata": {
        "id": "-R-ctIGmCz_g",
        "outputId": "180b0795-276d-46d0-9c4e-1b867257396f"
      },
      "outputs": [
        {
          "name": "stdout",
          "output_type": "stream",
          "text": [
            "user_id  month_year\n",
            "1000     2018-12        2.0\n",
            "1001     2018-08        7.0\n",
            "         2018-09       14.0\n",
            "         2018-10       22.0\n",
            "         2018-11       19.0\n",
            "Name: mb_used, dtype: float64\n"
          ]
        }
      ],
      "source": [
        "##megaline_internet\n",
        "\n",
        "internet['session_date']= pd.to_datetime(internet['session_date'], format='%Y.%m.%d')\n",
        "internet['month_year'] = pd.to_datetime(internet['session_date']).dt.to_period('M')\n",
        "\n",
        "monthly_internet = (internet.groupby(['user_id','month_year']).mb_used.sum()/1024).apply(np.ceil)\n",
        "print(monthly_internet.head())\n"
      ]
    },
    {
      "cell_type": "markdown",
      "metadata": {
        "id": "L9xcczmNCz_j"
      },
      "source": [
        "### Conclusion  \n",
        "\n",
        "* For this dataframe, I opted to convert the regular call_date using datetime (even though, ultimately, I didn't use it)\n",
        "and I created a new datetime column based on the month and year only so as to make the grouping of data possible below.  \n",
        "\n",
        "* I also created a new series using groupby to calculate the sum of mb used per user, per month.  The extra price for internet service was listed in gb and not mb so the formula was divided by 1024 to convert the data to mb.  \n"
      ]
    },
    {
      "cell_type": "code",
      "execution_count": null,
      "metadata": {
        "scrolled": true,
        "id": "gWwZlidWCz_k",
        "outputId": "ae6dba50-d4fa-4954-e966-d822fbec2e5b"
      },
      "outputs": [
        {
          "name": "stdout",
          "output_type": "stream",
          "text": [
            "user_id  month_year\n",
            "1000     2018-12       11\n",
            "1001     2018-08       30\n",
            "         2018-09       44\n",
            "         2018-10       53\n",
            "         2018-11       36\n",
            "Name: message_date, dtype: int64\n"
          ]
        }
      ],
      "source": [
        "##megaline_messages\n",
        "\n",
        "messages['message_date'] = pd.to_datetime(messages['message_date'], format='%Y.%m.%d')\n",
        "\n",
        "messages['month_year'] = pd.to_datetime(messages['message_date']).dt.to_period('M')\n",
        "\n",
        "monthly_messages = messages.groupby(['user_id','month_year']).message_date.count()\n",
        "print(monthly_messages.head())\n"
      ]
    },
    {
      "cell_type": "markdown",
      "metadata": {
        "id": "3qK_dGA0Cz_o"
      },
      "source": [
        "### Conclusion  \n",
        "\n",
        "* For this dataframe, I opted to convert the regular call_date using datetime (even though, ultimately, I didn't use it) and I created a new datetime column based on the month  and year only so as to make the grouping of data possible below.\n",
        "\n",
        "* I also used groupby to calculate test message usage based on user_id and month."
      ]
    },
    {
      "cell_type": "markdown",
      "metadata": {
        "id": "3Pbq6YJLCz_p"
      },
      "source": [
        "## megaline_plans   \n",
        "\n",
        "\n",
        "\n",
        "* As this file consisted of two rows only and each row was already in int64 format (except for the usd columns), I left this file as is.  I didn't convert the usd columns as the format being currently used seems most appropriate."
      ]
    },
    {
      "cell_type": "code",
      "execution_count": null,
      "metadata": {
        "id": "jKtQ0sDcCz_r"
      },
      "outputs": [],
      "source": [
        "##megaline_users\n",
        "\n",
        "users['reg_date'] = pd.to_datetime(users['reg_date'], format='%Y.%m.%d')\n",
        "\n",
        "users['month_year'] = pd.to_datetime(users['reg_date']).dt.to_period('M')\n",
        "users['month_year'] = pd.to_datetime(users['churn_date']).dt.to_period('M')\n",
        "\n"
      ]
    },
    {
      "cell_type": "markdown",
      "metadata": {
        "id": "_whA1A31Cz_t"
      },
      "source": [
        "### Conclusion  \n",
        "* For this dataframe, I opted to convert the regular call_date using datetime (even though, ultimately, I didn't use it) and I created a new datetime column based on the month and year only for both the reg_date and churn_date.  "
      ]
    },
    {
      "cell_type": "code",
      "execution_count": null,
      "metadata": {
        "id": "2rug7wTkCz_u",
        "outputId": "612218ae-ceb3-4cfd-cfb9-92bbfe65b031"
      },
      "outputs": [
        {
          "data": {
            "text/html": [
              "<div>\n",
              "<style scoped>\n",
              "    .dataframe tbody tr th:only-of-type {\n",
              "        vertical-align: middle;\n",
              "    }\n",
              "\n",
              "    .dataframe tbody tr th {\n",
              "        vertical-align: top;\n",
              "    }\n",
              "\n",
              "    .dataframe thead th {\n",
              "        text-align: right;\n",
              "    }\n",
              "</style>\n",
              "<table border=\"1\" class=\"dataframe\">\n",
              "  <thead>\n",
              "    <tr style=\"text-align: right;\">\n",
              "      <th></th>\n",
              "      <th>user_id</th>\n",
              "      <th>month_year_x</th>\n",
              "      <th>call_duration</th>\n",
              "      <th>mb_used</th>\n",
              "      <th>message_count</th>\n",
              "      <th>first_name</th>\n",
              "      <th>last_name</th>\n",
              "      <th>age</th>\n",
              "      <th>city</th>\n",
              "      <th>reg_date</th>\n",
              "      <th>plan</th>\n",
              "      <th>churn_date</th>\n",
              "      <th>month_year_y</th>\n",
              "    </tr>\n",
              "  </thead>\n",
              "  <tbody>\n",
              "    <tr>\n",
              "      <td>0</td>\n",
              "      <td>1000</td>\n",
              "      <td>2018-12</td>\n",
              "      <td>116.83</td>\n",
              "      <td>2.0</td>\n",
              "      <td>11.0</td>\n",
              "      <td>Anamaria</td>\n",
              "      <td>Bauer</td>\n",
              "      <td>45</td>\n",
              "      <td>Atlanta-Sandy Springs-Roswell, GA MSA</td>\n",
              "      <td>2018-12-24</td>\n",
              "      <td>ultimate</td>\n",
              "      <td>NaN</td>\n",
              "      <td>NaT</td>\n",
              "    </tr>\n",
              "    <tr>\n",
              "      <td>1</td>\n",
              "      <td>1001</td>\n",
              "      <td>2018-08</td>\n",
              "      <td>171.14</td>\n",
              "      <td>7.0</td>\n",
              "      <td>30.0</td>\n",
              "      <td>Mickey</td>\n",
              "      <td>Wilkerson</td>\n",
              "      <td>28</td>\n",
              "      <td>Seattle-Tacoma-Bellevue, WA MSA</td>\n",
              "      <td>2018-08-13</td>\n",
              "      <td>surf</td>\n",
              "      <td>NaN</td>\n",
              "      <td>NaT</td>\n",
              "    </tr>\n",
              "    <tr>\n",
              "      <td>1</td>\n",
              "      <td>1001</td>\n",
              "      <td>2018-09</td>\n",
              "      <td>297.69</td>\n",
              "      <td>14.0</td>\n",
              "      <td>44.0</td>\n",
              "      <td>Mickey</td>\n",
              "      <td>Wilkerson</td>\n",
              "      <td>28</td>\n",
              "      <td>Seattle-Tacoma-Bellevue, WA MSA</td>\n",
              "      <td>2018-08-13</td>\n",
              "      <td>surf</td>\n",
              "      <td>NaN</td>\n",
              "      <td>NaT</td>\n",
              "    </tr>\n",
              "    <tr>\n",
              "      <td>1</td>\n",
              "      <td>1001</td>\n",
              "      <td>2018-10</td>\n",
              "      <td>374.11</td>\n",
              "      <td>22.0</td>\n",
              "      <td>53.0</td>\n",
              "      <td>Mickey</td>\n",
              "      <td>Wilkerson</td>\n",
              "      <td>28</td>\n",
              "      <td>Seattle-Tacoma-Bellevue, WA MSA</td>\n",
              "      <td>2018-08-13</td>\n",
              "      <td>surf</td>\n",
              "      <td>NaN</td>\n",
              "      <td>NaT</td>\n",
              "    </tr>\n",
              "    <tr>\n",
              "      <td>1</td>\n",
              "      <td>1001</td>\n",
              "      <td>2018-11</td>\n",
              "      <td>404.59</td>\n",
              "      <td>19.0</td>\n",
              "      <td>36.0</td>\n",
              "      <td>Mickey</td>\n",
              "      <td>Wilkerson</td>\n",
              "      <td>28</td>\n",
              "      <td>Seattle-Tacoma-Bellevue, WA MSA</td>\n",
              "      <td>2018-08-13</td>\n",
              "      <td>surf</td>\n",
              "      <td>NaN</td>\n",
              "      <td>NaT</td>\n",
              "    </tr>\n",
              "  </tbody>\n",
              "</table>\n",
              "</div>"
            ],
            "text/plain": [
              "   user_id month_year_x  call_duration  mb_used  message_count first_name  \\\n",
              "0     1000      2018-12         116.83      2.0           11.0   Anamaria   \n",
              "1     1001      2018-08         171.14      7.0           30.0     Mickey   \n",
              "1     1001      2018-09         297.69     14.0           44.0     Mickey   \n",
              "1     1001      2018-10         374.11     22.0           53.0     Mickey   \n",
              "1     1001      2018-11         404.59     19.0           36.0     Mickey   \n",
              "\n",
              "   last_name  age                                   city   reg_date      plan  \\\n",
              "0      Bauer   45  Atlanta-Sandy Springs-Roswell, GA MSA 2018-12-24  ultimate   \n",
              "1  Wilkerson   28        Seattle-Tacoma-Bellevue, WA MSA 2018-08-13      surf   \n",
              "1  Wilkerson   28        Seattle-Tacoma-Bellevue, WA MSA 2018-08-13      surf   \n",
              "1  Wilkerson   28        Seattle-Tacoma-Bellevue, WA MSA 2018-08-13      surf   \n",
              "1  Wilkerson   28        Seattle-Tacoma-Bellevue, WA MSA 2018-08-13      surf   \n",
              "\n",
              "  churn_date month_year_y  \n",
              "0        NaN          NaT  \n",
              "1        NaN          NaT  \n",
              "1        NaN          NaT  \n",
              "1        NaN          NaT  \n",
              "1        NaN          NaT  "
            ]
          },
          "execution_count": 22,
          "metadata": {},
          "output_type": "execute_result"
        }
      ],
      "source": [
        "concat_1 = pd.concat([monthly_calls, monthly_internet, monthly_messages],1).reset_index().fillna(0)\n",
        "\n",
        "\n",
        "combined_df = pd.merge(concat_1,users, on= 'user_id', left_index = True, how='inner')\n",
        "\n",
        "\n",
        "\n",
        "combined_df.rename(columns={'message_date':'message_count', 'duration':'call_duration'}, inplace=True)\n",
        "\n",
        "\n",
        "combined_df.head()"
      ]
    },
    {
      "cell_type": "markdown",
      "metadata": {
        "id": "x2A8WHwRCz_z"
      },
      "source": [
        "### Conclusion  \n",
        "* In this section, I combined the three new series created above (groupby) with the megaline_users dataframe in order to make calculations easier.  "
      ]
    },
    {
      "cell_type": "code",
      "execution_count": null,
      "metadata": {
        "id": "FXEJxmleCz_1"
      },
      "outputs": [],
      "source": [
        "plansNice = plans\n",
        "plansNice.set_index('plan_name', inplace=True)"
      ]
    },
    {
      "cell_type": "code",
      "execution_count": null,
      "metadata": {
        "id": "WPCOkBbnCz_2",
        "outputId": "fdee42e7-d8a0-48f0-ee0f-dfe2e65ecc35"
      },
      "outputs": [
        {
          "name": "stdout",
          "output_type": "stream",
          "text": [
            "   user_id month_year_x  call_duration  mb_used  message_count first_name  \\\n",
            "0     1000      2018-12         116.83      2.0           11.0   Anamaria   \n",
            "1     1001      2018-08         171.14      7.0           30.0     Mickey   \n",
            "1     1001      2018-09         297.69     14.0           44.0     Mickey   \n",
            "1     1001      2018-10         374.11     22.0           53.0     Mickey   \n",
            "1     1001      2018-11         404.59     19.0           36.0     Mickey   \n",
            "\n",
            "   last_name  age                                   city   reg_date      plan  \\\n",
            "0      Bauer   45  Atlanta-Sandy Springs-Roswell, GA MSA 2018-12-24  ultimate   \n",
            "1  Wilkerson   28        Seattle-Tacoma-Bellevue, WA MSA 2018-08-13      surf   \n",
            "1  Wilkerson   28        Seattle-Tacoma-Bellevue, WA MSA 2018-08-13      surf   \n",
            "1  Wilkerson   28        Seattle-Tacoma-Bellevue, WA MSA 2018-08-13      surf   \n",
            "1  Wilkerson   28        Seattle-Tacoma-Bellevue, WA MSA 2018-08-13      surf   \n",
            "\n",
            "  churn_date month_year_y  profit  \n",
            "0        NaN          NaT   70.00  \n",
            "1        NaN          NaT   20.00  \n",
            "1        NaN          NaT   20.00  \n",
            "1        NaN          NaT   20.09  \n",
            "1        NaN          NaT   20.00  \n"
          ]
        }
      ],
      "source": [
        "\n",
        "\n",
        "def calc_profit(row):\n",
        "\n",
        "    plan = row['plan']\n",
        "    #print(plan)\n",
        "    minutes_inc = plansNice.loc[plan].minutes_included\n",
        "    mb_inc = plansNice.loc[plan].mb_per_month_included\n",
        "    messages_inc = plansNice.loc[plan].messages_included\n",
        "    extra_per_mb_fee = plansNice.loc[plan].usd_per_gb/1000\n",
        "    extra_per_minute_fee = plansNice.loc[plan].usd_per_minute\n",
        "    extra_per_message_fee = plansNice.loc[plan].usd_per_message\n",
        "    month_pay = plansNice.loc[plan].usd_monthly_pay\n",
        "\n",
        "    if row['call_duration'] < minutes_inc :\n",
        "        extraMinUsedFee = 0\n",
        "    else:\n",
        "        extraMinUsedFee = (row['call_duration'] - minutes_inc) * extra_per_minute_fee\n",
        "\n",
        "    if row['mb_used'] < mb_inc:\n",
        "        extraMbUsedFee = 0\n",
        "\n",
        "    else:\n",
        "        extraMbUsedFee = (row['mb_used'] - mb_inc) * extra_per_mb_fee\n",
        "\n",
        "    if row['message_count'] < messages_inc:\n",
        "        extraMessageUsedFee = 0\n",
        "\n",
        "    else:\n",
        "        extraMessageUsedFee = (row['message_count'] - messages_inc) * extra_per_message_fee\n",
        "\n",
        "\n",
        "    profit = month_pay + extraMinUsedFee + extraMbUsedFee + extraMessageUsedFee\n",
        "\n",
        "\n",
        "    return profit\n",
        "\n",
        "combined_df['profit'] = combined_df.apply(calc_profit, axis=1)\n",
        "print(combined_df.head())"
      ]
    },
    {
      "cell_type": "markdown",
      "metadata": {
        "id": "3xgwjWWjCz_5"
      },
      "source": [
        "### Conclusion  \n",
        "* For this secion, I calculated the profits for each plan.  "
      ]
    },
    {
      "cell_type": "markdown",
      "metadata": {
        "id": "hYiIVu-qCz_9"
      },
      "source": [
        "## Step III: Analyze the Data\n"
      ]
    },
    {
      "cell_type": "code",
      "execution_count": null,
      "metadata": {
        "id": "32NHHj4zCz_-",
        "outputId": "81717e43-69f3-4a66-ed4b-59f84a64100c"
      },
      "outputs": [
        {
          "name": "stdout",
          "output_type": "stream",
          "text": [
            "CALL DURATION CALCULATIONS\n",
            "404.76239033693577\n",
            "401.75999999999993\n",
            "________________\n",
            "INTERNET USAGE CALCULATIONS\n",
            "16.670692943420217\n",
            "17.0\n",
            "_______________\n",
            "MESSAGE USAGE CALULATIONS\n",
            "31.15956770502225\n",
            "24.0\n"
          ]
        }
      ],
      "source": [
        "#Surf Plan: Mean and Median\n",
        "\n",
        "surf_plan_users_data = combined_df[combined_df['plan'] == 'surf']\n",
        "\n",
        "print('CALL DURATION CALCULATIONS')\n",
        "print(surf_plan_users_data['call_duration'].mean())\n",
        "print(surf_plan_users_data['call_duration'].median())\n",
        "\n",
        "print('________________')\n",
        "print('INTERNET USAGE CALCULATIONS')\n",
        "print(surf_plan_users_data['mb_used'].mean())\n",
        "print(surf_plan_users_data['mb_used'].median())\n",
        "\n",
        "print('_______________')\n",
        "print('MESSAGE USAGE CALULATIONS')\n",
        "print(surf_plan_users_data['message_count'].mean())\n",
        "print(surf_plan_users_data['message_count'].median())"
      ]
    },
    {
      "cell_type": "markdown",
      "metadata": {
        "id": "O1nvqnIhC0AA"
      },
      "source": [
        "### Conclusion  \n",
        "\n",
        "* For the surf plan, both the mean and median number of minutes used per month fall below the package limit of 500 minutes per month.  \n",
        "\n",
        "* The mean and median of Internet usage, however, both exceed the limit of 15360mb (15 gb).  \n",
        "\n",
        "* And finally, although the mean and median differ in relation to message counts, they both fall below the package limit of 50 text messages per month.  "
      ]
    },
    {
      "cell_type": "code",
      "execution_count": null,
      "metadata": {
        "id": "5R_EcAYnC0AE",
        "outputId": "fddc8229-8f31-4ed3-8a0c-d53c7f780342"
      },
      "outputs": [
        {
          "data": {
            "image/png": "[encoded data removed]",
            "text/plain": [
              "<Figure size 432x288 with 1 Axes>"
            ]
          },
          "metadata": {
            "needs_background": "light"
          },
          "output_type": "display_data"
        },
        {
          "data": {
            "image/png": "[encoded data removed]",
            "text/plain": [
              "<Figure size 432x288 with 1 Axes>"
            ]
          },
          "metadata": {
            "needs_background": "light"
          },
          "output_type": "display_data"
        },
        {
          "data": {
            "image/png": "[encoded data removed]",
            "text/plain": [
              "<Figure size 432x288 with 1 Axes>"
            ]
          },
          "metadata": {
            "needs_background": "light"
          },
          "output_type": "display_data"
        }
      ],
      "source": [
        "## Surf Plan: Dispersion\n",
        "\n",
        "import matplotlib.pyplot as plt\n",
        "\n",
        "\n",
        "surf_plan_users_data.boxplot(column='call_duration')\n",
        "plt.show()\n",
        "\n",
        "surf_plan_users_data.boxplot(column='mb_used')\n",
        "plt.show()\n",
        "\n",
        "surf_plan_users_data.boxplot(column='message_count')\n",
        "plt.show()\n"
      ]
    },
    {
      "cell_type": "markdown",
      "metadata": {
        "id": "9Vx6N7n3C0AG"
      },
      "source": [
        "### Conclusion  \n",
        "* The boxplots confirm the the mean and median calculations seen above but also demonstrate that there are many outliers within each field.  "
      ]
    },
    {
      "cell_type": "code",
      "execution_count": null,
      "metadata": {
        "id": "Zi3ZL4CYC0AJ",
        "outputId": "c9132ab7-e708-43b4-ea02-3a3be8af1297"
      },
      "outputs": [
        {
          "name": "stdout",
          "output_type": "stream",
          "text": [
            "count    1573.000000\n",
            "mean      404.762390\n",
            "std       221.664397\n",
            "min         0.000000\n",
            "25%       255.470000\n",
            "50%       401.760000\n",
            "75%       543.680000\n",
            "max      1431.220000\n",
            "Name: call_duration, dtype: float64\n",
            "count    1573.000000\n",
            "mean       16.670693\n",
            "std         7.847522\n",
            "min         0.000000\n",
            "25%        12.000000\n",
            "50%        17.000000\n",
            "75%        21.000000\n",
            "max        70.000000\n",
            "Name: mb_used, dtype: float64\n",
            "count    1573.000000\n",
            "mean       31.159568\n",
            "std        33.566717\n",
            "min         0.000000\n",
            "25%         3.000000\n",
            "50%        24.000000\n",
            "75%        47.000000\n",
            "max       266.000000\n",
            "Name: message_count, dtype: float64\n"
          ]
        }
      ],
      "source": [
        "## Surf Plan: Standard Deviation\n",
        "\n",
        "print(surf_plan_users_data['call_duration'].describe())\n",
        "\n",
        "print(surf_plan_users_data['mb_used'].describe())\n",
        "\n",
        "print(surf_plan_users_data['message_count'].describe())"
      ]
    },
    {
      "cell_type": "markdown",
      "metadata": {
        "id": "yOhIY7rZC0AM"
      },
      "source": [
        "### Conclusion  \n",
        "* The standard deviation found using describe() is very similar to the quartiles seen in the boxplots above.  "
      ]
    },
    {
      "cell_type": "code",
      "execution_count": null,
      "metadata": {
        "id": "mMyC9a5pC0AO",
        "outputId": "044d06ef-acbb-4aa8-9fd2-b314e1dd7f42"
      },
      "outputs": [
        {
          "name": "stdout",
          "output_type": "stream",
          "text": [
            "CALL DURATION CALCULATIONS\n",
            "406.1930833333333\n",
            "398.58500000000004\n",
            "________________\n",
            "INTERNET USAGE CALCULATIONS\n",
            "17.306944444444444\n",
            "17.0\n",
            "_______________\n",
            "MESSAGE USAGE CALULATIONS\n",
            "37.55138888888889\n",
            "30.0\n"
          ]
        }
      ],
      "source": [
        "##Ultimate Plan: Mean and Median\n",
        "\n",
        "ultimate_plan_users_data = combined_df[combined_df['plan'] == 'ultimate']\n",
        "\n",
        "print('CALL DURATION CALCULATIONS')\n",
        "print(ultimate_plan_users_data['call_duration'].mean())\n",
        "print(ultimate_plan_users_data['call_duration'].median())\n",
        "\n",
        "print('________________')\n",
        "print('INTERNET USAGE CALCULATIONS')\n",
        "print(ultimate_plan_users_data['mb_used'].mean())\n",
        "print(ultimate_plan_users_data['mb_used'].median())\n",
        "\n",
        "print('_______________')\n",
        "print('MESSAGE USAGE CALULATIONS')\n",
        "print(ultimate_plan_users_data['message_count'].mean())\n",
        "print(ultimate_plan_users_data['message_count'].median())"
      ]
    },
    {
      "cell_type": "markdown",
      "metadata": {
        "id": "Hm5RpgGYC0AQ"
      },
      "source": [
        "### Conclusion\n",
        "* For the ultimate plan, both the mean and median number of minutes used per month fall well below the package limit of 3,000 minutes per month.  Moreover, they are quite similar in nature to the mean and median found in the surf plan.  \n",
        "\n",
        "* The mean and median of Internet usage both fall well below the limit of 30720mb (30 gb).\n",
        "   \n",
        "\n",
        "* And finally, although the mean and median differ in relation to message counts, they both fall below the package limit of 70 text messages per month. Moreover, they are somewhat similar in nature to the mean and median found in the surf plan.  "
      ]
    },
    {
      "cell_type": "code",
      "execution_count": null,
      "metadata": {
        "id": "m7NKkSRrC0AS",
        "outputId": "055fc541-f35e-4fc6-f527-339c3bc018c8"
      },
      "outputs": [
        {
          "data": {
            "image/png": "[encoded data removed]",
            "text/plain": [
              "<Figure size 432x288 with 1 Axes>"
            ]
          },
          "metadata": {
            "needs_background": "light"
          },
          "output_type": "display_data"
        },
        {
          "data": {
            "image/png": "[encoded data removed]",
            "text/plain": [
              "<Figure size 432x288 with 1 Axes>"
            ]
          },
          "metadata": {
            "needs_background": "light"
          },
          "output_type": "display_data"
        },
        {
          "data": {
            "image/png": "[encoded data removed]",
            "text/plain": [
              "<Figure size 432x288 with 1 Axes>"
            ]
          },
          "metadata": {
            "needs_background": "light"
          },
          "output_type": "display_data"
        }
      ],
      "source": [
        "##Ultimate Plan: Dispersion\n",
        "\n",
        "\n",
        "ultimate_plan_users_data.boxplot(column='call_duration')\n",
        "plt.show()\n",
        "\n",
        "ultimate_plan_users_data.boxplot(column='mb_used')\n",
        "plt.show()\n",
        "\n",
        "ultimate_plan_users_data.boxplot(column='message_count')\n",
        "plt.show()"
      ]
    },
    {
      "cell_type": "markdown",
      "metadata": {
        "id": "yyYZzHCCC0AU"
      },
      "source": [
        "### Conclusion  \n",
        "* The boxplots confirm the the mean and median calculations seen above but also demonstrate that there are many outliers within each field."
      ]
    },
    {
      "cell_type": "code",
      "execution_count": null,
      "metadata": {
        "id": "r_vWbsQDC0AV",
        "outputId": "2257b1c9-fd8b-44e1-e1b4-ef86c0be6947"
      },
      "outputs": [
        {
          "name": "stdout",
          "output_type": "stream",
          "text": [
            "count     720.000000\n",
            "mean      406.193083\n",
            "std       227.246499\n",
            "min         0.000000\n",
            "25%       246.290000\n",
            "50%       398.585000\n",
            "75%       532.227500\n",
            "max      1292.090000\n",
            "Name: call_duration, dtype: float64\n",
            "count    720.000000\n",
            "mean      17.306944\n",
            "std        7.670108\n",
            "min        0.000000\n",
            "25%       13.000000\n",
            "50%       17.000000\n",
            "75%       21.000000\n",
            "max       46.000000\n",
            "Name: mb_used, dtype: float64\n",
            "count    720.000000\n",
            "mean      37.551389\n",
            "std       34.767179\n",
            "min        0.000000\n",
            "25%        7.000000\n",
            "50%       30.000000\n",
            "75%       61.000000\n",
            "max      166.000000\n",
            "Name: message_count, dtype: float64\n"
          ]
        }
      ],
      "source": [
        "## Ultimate Plan: Standard Deviation\n",
        "\n",
        "print(ultimate_plan_users_data['call_duration'].describe())\n",
        "\n",
        "print(ultimate_plan_users_data['mb_used'].describe())\n",
        "\n",
        "print(ultimate_plan_users_data['message_count'].describe())"
      ]
    },
    {
      "cell_type": "markdown",
      "metadata": {
        "id": "ZvKH_V8UC0AX"
      },
      "source": [
        "### Conclusion  \n",
        "* The standard deviation found using describe() is very similar to the quartiles seen in the boxplots above."
      ]
    },
    {
      "cell_type": "code",
      "execution_count": null,
      "metadata": {
        "id": "hp9w40QIC0AZ",
        "outputId": "ccb477d4-c96c-4368-9032-27be7c12293d"
      },
      "outputs": [
        {
          "data": {
            "text/plain": [
              "<seaborn.axisgrid.PairGrid at 0x7ff027183710>"
            ]
          },
          "execution_count": 31,
          "metadata": {},
          "output_type": "execute_result"
        },
        {
          "data": {
            "text/plain": [
              "<Figure size 864x576 with 0 Axes>"
            ]
          },
          "metadata": {},
          "output_type": "display_data"
        },
        {
          "data": {
            "image/png": "[encoded data removed]",
            "text/plain": [
              "<Figure size 797.75x720 with 20 Axes>"
            ]
          },
          "metadata": {
            "needs_background": "light"
          },
          "output_type": "display_data"
        }
      ],
      "source": [
        "import seaborn as sns\n",
        "\n",
        "plt.figure(figsize=(12,8))\n",
        "g = sns.pairplot(combined_df,  hue='plan', vars=['call_duration', 'mb_used', 'message_count', 'age'])\n",
        "g.map_lower(sns.kdeplot, levels=1, color=\".2\")"
      ]
    },
    {
      "cell_type": "markdown",
      "metadata": {
        "id": "F48OGXthC0Aa"
      },
      "source": [
        "### Conclusion  \n",
        "* This was used in the last webinar, but I decided to add it to my project because it does a good job of demonstrating the overlap between surf and ultimate in relation to call_duration, mb_used, message_count, and age.  In general, it shows that the plans are quite similar in relation to usage of services.  It also demonstrates that there is a bit of a difference in age in relation to who purchases which package.  Younger people seem to prefer the surf (cheaper) plan, whereas older people seem to prefer the ultimate (more expensive) plan.  "
      ]
    },
    {
      "cell_type": "code",
      "execution_count": null,
      "metadata": {
        "id": "1CBW7fpxC0Ae",
        "outputId": "0d74f21c-a837-4a28-eb62-9d8f457d16b6"
      },
      "outputs": [
        {
          "name": "stdout",
          "output_type": "stream",
          "text": [
            "AxesSubplot(0.125,0.125;0.775x0.755)\n",
            "AxesSubplot(0.125,0.125;0.775x0.755)\n"
          ]
        },
        {
          "data": {
            "image/png": "[encoded data removed]",
            "text/plain": [
              "<Figure size 432x288 with 1 Axes>"
            ]
          },
          "metadata": {
            "needs_background": "light"
          },
          "output_type": "display_data"
        }
      ],
      "source": [
        "print(pd.Series(surf_plan_users_data['call_duration']).hist())\n",
        "print(pd.Series(ultimate_plan_users_data['call_duration']).hist())\n"
      ]
    },
    {
      "cell_type": "markdown",
      "metadata": {
        "id": "FDS_VuA4C0Ah"
      },
      "source": [
        "### Conclusion  \n",
        "* This histogram shows that, in general, the usage of call minutes is quite similar across the packages.  Additionally, it shows that many more people participate in the surf plan.  "
      ]
    },
    {
      "cell_type": "code",
      "execution_count": null,
      "metadata": {
        "id": "tYbB55VmC0Ai",
        "outputId": "079d1dcc-4823-4709-a94f-7f25a3f458d3"
      },
      "outputs": [
        {
          "name": "stdout",
          "output_type": "stream",
          "text": [
            "AxesSubplot(0.125,0.125;0.775x0.755)\n",
            "AxesSubplot(0.125,0.125;0.775x0.755)\n"
          ]
        },
        {
          "data": {
            "image/png": "[encoded data removed]",
            "text/plain": [
              "<Figure size 432x288 with 1 Axes>"
            ]
          },
          "metadata": {
            "needs_background": "light"
          },
          "output_type": "display_data"
        }
      ],
      "source": [
        "print(pd.Series(surf_plan_users_data['mb_used']).hist())\n",
        "print(pd.Series(ultimate_plan_users_data['mb_used']).hist())"
      ]
    },
    {
      "cell_type": "markdown",
      "metadata": {
        "id": "qtEZ5rJCC0Ak"
      },
      "source": [
        "### Conclusion   \n",
        "* This histogram shows that, in general, the usage of mb usage is quite similar across the packages.  Additionally, it shows that many more people participate in the surf plan."
      ]
    },
    {
      "cell_type": "code",
      "execution_count": null,
      "metadata": {
        "id": "-GrRSGrOC0Al",
        "outputId": "0b71eee5-77a8-4efd-f2fe-65093da5054d"
      },
      "outputs": [
        {
          "name": "stdout",
          "output_type": "stream",
          "text": [
            "AxesSubplot(0.125,0.125;0.775x0.755)\n",
            "AxesSubplot(0.125,0.125;0.775x0.755)\n"
          ]
        },
        {
          "data": {
            "image/png": "[encoded data removed]",
            "text/plain": [
              "<Figure size 432x288 with 1 Axes>"
            ]
          },
          "metadata": {
            "needs_background": "light"
          },
          "output_type": "display_data"
        }
      ],
      "source": [
        "print(pd.Series(surf_plan_users_data['message_count']).hist())\n",
        "print(pd.Series(ultimate_plan_users_data['message_count']).hist())"
      ]
    },
    {
      "cell_type": "markdown",
      "metadata": {
        "id": "DyQEgxHzC0Am"
      },
      "source": [
        "### Conclusion  \n",
        "* This histogram shows that, in general, the usage of text messages is quite similar across the packages.  Additionally, it shows that many more people participate in the surf plan."
      ]
    },
    {
      "cell_type": "code",
      "execution_count": null,
      "metadata": {
        "id": "zx4OkDVnC0An",
        "outputId": "6bd7a126-774e-4d6e-aefb-f7cec739ce26"
      },
      "outputs": [
        {
          "data": {
            "text/plain": [
              "array([[<matplotlib.axes._subplots.AxesSubplot object at 0x7ff020eb6450>]],\n",
              "      dtype=object)"
            ]
          },
          "execution_count": 35,
          "metadata": {},
          "output_type": "execute_result"
        },
        {
          "data": {
            "image/png": "[encoded data removed]",
            "text/plain": [
              "<Figure size 432x288 with 1 Axes>"
            ]
          },
          "metadata": {
            "needs_background": "light"
          },
          "output_type": "display_data"
        },
        {
          "data": {
            "image/png": "[encoded data removed]",
            "text/plain": [
              "<Figure size 432x288 with 1 Axes>"
            ]
          },
          "metadata": {
            "needs_background": "light"
          },
          "output_type": "display_data"
        }
      ],
      "source": [
        "##Profit\n",
        "\n",
        "\n",
        "surf_plan_users_data.hist(column='profit')\n",
        "ultimate_plan_users_data.hist(column='profit')"
      ]
    },
    {
      "cell_type": "markdown",
      "metadata": {
        "id": "dC36yr-QC0Ap"
      },
      "source": [
        "### Conclusion  \n",
        "* These histograms show the vast difference in the profits made by each plan with the ultimate plan having a much higher profit margin.   "
      ]
    },
    {
      "cell_type": "code",
      "execution_count": null,
      "metadata": {
        "id": "meBl9_PSC0Ar",
        "outputId": "1e6d0112-d161-47fc-eb66-ee790882f274"
      },
      "outputs": [
        {
          "name": "stdout",
          "output_type": "stream",
          "text": [
            "21.675089383343924\n",
            "20.0\n"
          ]
        }
      ],
      "source": [
        "##Profit Surf: Mean and Median\n",
        "\n",
        "\n",
        "print(surf_plan_users_data['profit'].mean())\n",
        "print(surf_plan_users_data['profit'].median())"
      ]
    },
    {
      "cell_type": "code",
      "execution_count": null,
      "metadata": {
        "id": "aCdqF-SEC0Au",
        "outputId": "59cf0d34-d36e-47fe-8118-1ce5ceb7371e"
      },
      "outputs": [
        {
          "name": "stdout",
          "output_type": "stream",
          "text": [
            "70.0\n",
            "70.0\n"
          ]
        }
      ],
      "source": [
        "##Profit Ultimate: Mean and Meidan\n",
        "\n",
        "print(ultimate_plan_users_data['profit'].mean())\n",
        "print(ultimate_plan_users_data['profit'].median())"
      ]
    },
    {
      "cell_type": "markdown",
      "metadata": {
        "id": "-ww051xTC0Aw"
      },
      "source": [
        "### Conclusion  \n",
        "* As shown in the histograms above, the mean/median calculations for the two plans show a vast difference in profit margin.  Users of the surf plan go over their limits and pay extra fees every month but the profit from those extra fees is still far below that of the standard ultimate package.  (See sums below also.)"
      ]
    },
    {
      "cell_type": "code",
      "execution_count": null,
      "metadata": {
        "id": "3wr7fAyeC0Az",
        "outputId": "b2b0c981-f88e-401d-9be4-00ef10e5a010"
      },
      "outputs": [
        {
          "name": "stdout",
          "output_type": "stream",
          "text": [
            "34094.91559999999\n",
            "50400.0\n"
          ]
        }
      ],
      "source": [
        "##Profit Sum\n",
        "\n",
        "print(surf_plan_users_data['profit'].sum())\n",
        "print(ultimate_plan_users_data['profit'].sum())"
      ]
    },
    {
      "cell_type": "code",
      "execution_count": null,
      "metadata": {
        "id": "DsXl5l2nC0A0",
        "outputId": "0338e054-aaf2-44e4-8b27-0bcbc1d81f24"
      },
      "outputs": [
        {
          "name": "stdout",
          "output_type": "stream",
          "text": [
            "Correlation between age and profit: -0.06042516481917231\n"
          ]
        },
        {
          "data": {
            "image/png": "[encoded data removed]",
            "text/plain": [
              "<Figure size 432x288 with 1 Axes>"
            ]
          },
          "metadata": {
            "needs_background": "light"
          },
          "output_type": "display_data"
        }
      ],
      "source": [
        "surf_plan_users_data.plot(x='age', y='profit', kind='scatter')\n",
        "print('Correlation between age and profit:' ,surf_plan_users_data['age'].corr(surf_plan_users_data['profit']))"
      ]
    },
    {
      "cell_type": "markdown",
      "metadata": {
        "id": "PrP1iawpC0A2"
      },
      "source": [
        "## Conclusion  \n",
        "* For this section, I wanted to see if there was a correlation between age and profit and there isn't."
      ]
    },
    {
      "cell_type": "code",
      "execution_count": null,
      "metadata": {
        "id": "WcAvCCmyC0A3",
        "outputId": "73df8a2f-34c1-4bff-ef1e-83b61777a23f"
      },
      "outputs": [
        {
          "name": "stdout",
          "output_type": "stream",
          "text": [
            "Correlation between age and profit: nan\n"
          ]
        },
        {
          "data": {
            "image/png": "[encoded data removed]",
            "text/plain": [
              "<Figure size 432x288 with 1 Axes>"
            ]
          },
          "metadata": {
            "needs_background": "light"
          },
          "output_type": "display_data"
        }
      ],
      "source": [
        "ultimate_plan_users_data.plot(x='age', y='profit', kind='scatter')\n",
        "print('Correlation between age and profit:' ,ultimate_plan_users_data['age'].corr(ultimate_plan_users_data['profit']))"
      ]
    },
    {
      "cell_type": "markdown",
      "metadata": {
        "id": "O0V3qigUC0A6"
      },
      "source": [
        "### Conclusion  \n",
        "* For this section, I wanted to see if there was a correlation between age and profit and there isn't."
      ]
    },
    {
      "cell_type": "markdown",
      "metadata": {
        "id": "Ft0fIX0qC0A7"
      },
      "source": [
        "## Step IV: Test the hypotheses"
      ]
    },
    {
      "cell_type": "code",
      "execution_count": null,
      "metadata": {
        "id": "fNzry8PxC0A8",
        "outputId": "1c1699fd-0a0c-43c8-cbf1-c79257b8327b"
      },
      "outputs": [
        {
          "name": "stdout",
          "output_type": "stream",
          "text": [
            "p-value:  0.0\n",
            "We reject the null hypothesis\n"
          ]
        }
      ],
      "source": [
        "##The average profit from users of Ultimate and Surf calling plans differs.\n",
        "\n",
        "from scipy import stats as st\n",
        "import numpy as np\n",
        "\n",
        "alpha = .05\n",
        "\n",
        "results = st.ttest_ind(\n",
        "        surf_plan_users_data['profit'],\n",
        "        ultimate_plan_users_data['profit'])\n",
        "\n",
        "print('p-value: ', results.pvalue)\n",
        "\n",
        "alpha = 0.05\n",
        "if (results.pvalue < alpha):\n",
        "        print(\"We reject the null hypothesis\")\n",
        "else:\n",
        "        print(\"We can't reject the null hypothesis\")\n",
        "\n",
        "\n",
        "\n"
      ]
    },
    {
      "cell_type": "markdown",
      "metadata": {
        "id": "jbbk862UC0BA"
      },
      "source": [
        "### Conclusion  \n",
        "* According to the above test, there is a difference in profits between the two plans."
      ]
    },
    {
      "cell_type": "code",
      "execution_count": null,
      "metadata": {
        "id": "-cDavVBsC0BD"
      },
      "outputs": [],
      "source": [
        "##The average profit from users in NY-NJ area is different from that of the users from other regions.\n",
        "\n",
        "\n",
        "def extract_state(row):\n",
        "    address = row['city']\n",
        "    words = address.split(' ')\n",
        "    res = \"\"\n",
        "    for item in words:\n",
        "        if (len(item) ==2) and item[0].isupper() and item[1].isupper():\n",
        "            res = item\n",
        "    return res\n",
        "\n",
        "combined_df['state'] = combined_df.apply(extract_state, axis=1)\n",
        "\n",
        "\n"
      ]
    },
    {
      "cell_type": "code",
      "execution_count": null,
      "metadata": {
        "id": "R47lFVPgC0BE",
        "outputId": "61af93b8-5160-4cb6-e8e2-e1f72f6423df"
      },
      "outputs": [
        {
          "name": "stdout",
          "output_type": "stream",
          "text": [
            "p-value:  1.0\n",
            "We can't reject the null hypothesis\n"
          ]
        }
      ],
      "source": [
        "profit_NYJ = combined_df[(combined_df['state'] == 'NJ') | (combined_df['state'] == 'NY')]\n",
        "profit_Others = combined_df[(combined_df['state'] == 'NJ') != (combined_df['state'] == 'NY')]\n",
        "\n",
        "alpha = .05\n",
        "\n",
        "results = st.ttest_ind(\n",
        "        profit_NYJ['profit'],\n",
        "        profit_Others['profit'])\n",
        "\n",
        "print('p-value: ', results.pvalue)\n",
        "\n",
        "alpha = 0.05\n",
        "if (results.pvalue < alpha):\n",
        "        print(\"We reject the null hypothesis\")\n",
        "else:\n",
        "        print(\"We can't reject the null hypothesis\")"
      ]
    },
    {
      "cell_type": "markdown",
      "metadata": {
        "id": "qFKIIevGC0BH"
      },
      "source": [
        "### Conclusion  \n",
        "* According to this test, there is no real difference between the profits coming from NY and NJ and the rest of the United States.  (see histograms below also)"
      ]
    },
    {
      "cell_type": "code",
      "execution_count": null,
      "metadata": {
        "id": "3U-D6RFTC0BJ",
        "outputId": "15c4a7a1-5c43-4ec9-a043-067d6df834f4"
      },
      "outputs": [
        {
          "data": {
            "text/plain": [
              "array([[<matplotlib.axes._subplots.AxesSubplot object at 0x7ff020c0a790>]],\n",
              "      dtype=object)"
            ]
          },
          "execution_count": 44,
          "metadata": {},
          "output_type": "execute_result"
        },
        {
          "data": {
            "image/png": "[encoded data removed]",
            "text/plain": [
              "<Figure size 432x288 with 1 Axes>"
            ]
          },
          "metadata": {
            "needs_background": "light"
          },
          "output_type": "display_data"
        },
        {
          "data": {
            "image/png": "[encoded data removed]",
            "text/plain": [
              "<Figure size 432x288 with 1 Axes>"
            ]
          },
          "metadata": {
            "needs_background": "light"
          },
          "output_type": "display_data"
        }
      ],
      "source": [
        "profit_NYJ.hist(column='profit')\n",
        "profit_Others.hist(column='profit')\n"
      ]
    },
    {
      "cell_type": "markdown",
      "metadata": {
        "id": "imOmyCzWC0BL"
      },
      "source": [
        "## Overall Conclusion"
      ]
    },
    {
      "cell_type": "markdown",
      "metadata": {
        "id": "yhPNO9y2C0BM"
      },
      "source": [
        "* Overall, it seems that the Ultimate plan is more profitable than the Surf plan even though more people subscribe to the Surf plan.  The users of both plans use a similar amount of call minutes, text messages and internet mb's per month, however, the users of the Ultimate plan pay much more in relation to the monthly flat rate.\n",
        "\n",
        "* Surf subscribers tend to be younger and text a bit more, but the difference isn't substantial."
      ]
    }
  ],
  "metadata": {
    "kernelspec": {
      "display_name": "Python 3",
      "language": "python",
      "name": "python3"
    },
    "language_info": {
      "codemirror_mode": {
        "name": "ipython",
        "version": 3
      },
      "file_extension": ".py",
      "mimetype": "text/x-python",
      "name": "python",
      "nbconvert_exporter": "python",
      "pygments_lexer": "ipython3",
      "version": "3.7.8"
    },
    "toc": {
      "base_numbering": 1,
      "nav_menu": {},
      "number_sections": true,
      "sideBar": true,
      "skip_h1_title": true,
      "title_cell": "Table of Contents",
      "title_sidebar": "Contents",
      "toc_cell": false,
      "toc_position": {},
      "toc_section_display": true,
      "toc_window_display": false
    },
    "colab": {
      "provenance": []
    }
  },
  "nbformat": 4,
  "nbformat_minor": 0
}